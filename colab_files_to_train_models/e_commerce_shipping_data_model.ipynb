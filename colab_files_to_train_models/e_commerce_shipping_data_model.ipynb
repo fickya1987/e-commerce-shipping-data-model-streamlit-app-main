{
  "cells": [
    {
      "cell_type": "code",
      "execution_count": 2,
      "id": "d0526eb5",
      "metadata": {
        "colab": {
          "base_uri": "https://localhost:8080/",
          "height": 443
        },
        "id": "d0526eb5",
        "outputId": "7da743b8-aeaf-40c2-b90b-6ea5f1786a38"
      },
      "outputs": [
        {
          "output_type": "execute_result",
          "data": {
            "text/plain": [
              "          ID Warehouse_block Mode_of_Shipment  Customer_care_calls  \\\n",
              "0          1               D           Flight                    4   \n",
              "1          2               F           Flight                    4   \n",
              "2          3               A           Flight                    2   \n",
              "3          4               B           Flight                    3   \n",
              "4          5               C           Flight                    2   \n",
              "...      ...             ...              ...                  ...   \n",
              "10994  10995               A             Ship                    4   \n",
              "10995  10996               B             Ship                    4   \n",
              "10996  10997               C             Ship                    5   \n",
              "10997  10998               F             Ship                    5   \n",
              "10998  10999               D             Ship                    2   \n",
              "\n",
              "       Customer_rating  Cost_of_the_Product  Prior_purchases  \\\n",
              "0                    2                  177                3   \n",
              "1                    5                  216                2   \n",
              "2                    2                  183                4   \n",
              "3                    3                  176                4   \n",
              "4                    2                  184                3   \n",
              "...                ...                  ...              ...   \n",
              "10994                1                  252                5   \n",
              "10995                1                  232                5   \n",
              "10996                4                  242                5   \n",
              "10997                2                  223                6   \n",
              "10998                5                  155                5   \n",
              "\n",
              "      Product_importance Gender  Discount_offered  Weight_in_gms  \\\n",
              "0                    low      F                44           1233   \n",
              "1                    low      M                59           3088   \n",
              "2                    low      M                48           3374   \n",
              "3                 medium      M                10           1177   \n",
              "4                 medium      F                46           2484   \n",
              "...                  ...    ...               ...            ...   \n",
              "10994             medium      F                 1           1538   \n",
              "10995             medium      F                 6           1247   \n",
              "10996                low      F                 4           1155   \n",
              "10997             medium      M                 2           1210   \n",
              "10998                low      F                 6           1639   \n",
              "\n",
              "       Reached.on.Time_Y.N  \n",
              "0                        1  \n",
              "1                        1  \n",
              "2                        1  \n",
              "3                        1  \n",
              "4                        1  \n",
              "...                    ...  \n",
              "10994                    1  \n",
              "10995                    0  \n",
              "10996                    0  \n",
              "10997                    0  \n",
              "10998                    0  \n",
              "\n",
              "[10999 rows x 12 columns]"
            ],
            "text/html": [
              "\n",
              "  <div id=\"df-a94fff26-cd0c-43d0-84e9-d865ade78935\" class=\"colab-df-container\">\n",
              "    <div>\n",
              "<style scoped>\n",
              "    .dataframe tbody tr th:only-of-type {\n",
              "        vertical-align: middle;\n",
              "    }\n",
              "\n",
              "    .dataframe tbody tr th {\n",
              "        vertical-align: top;\n",
              "    }\n",
              "\n",
              "    .dataframe thead th {\n",
              "        text-align: right;\n",
              "    }\n",
              "</style>\n",
              "<table border=\"1\" class=\"dataframe\">\n",
              "  <thead>\n",
              "    <tr style=\"text-align: right;\">\n",
              "      <th></th>\n",
              "      <th>ID</th>\n",
              "      <th>Warehouse_block</th>\n",
              "      <th>Mode_of_Shipment</th>\n",
              "      <th>Customer_care_calls</th>\n",
              "      <th>Customer_rating</th>\n",
              "      <th>Cost_of_the_Product</th>\n",
              "      <th>Prior_purchases</th>\n",
              "      <th>Product_importance</th>\n",
              "      <th>Gender</th>\n",
              "      <th>Discount_offered</th>\n",
              "      <th>Weight_in_gms</th>\n",
              "      <th>Reached.on.Time_Y.N</th>\n",
              "    </tr>\n",
              "  </thead>\n",
              "  <tbody>\n",
              "    <tr>\n",
              "      <th>0</th>\n",
              "      <td>1</td>\n",
              "      <td>D</td>\n",
              "      <td>Flight</td>\n",
              "      <td>4</td>\n",
              "      <td>2</td>\n",
              "      <td>177</td>\n",
              "      <td>3</td>\n",
              "      <td>low</td>\n",
              "      <td>F</td>\n",
              "      <td>44</td>\n",
              "      <td>1233</td>\n",
              "      <td>1</td>\n",
              "    </tr>\n",
              "    <tr>\n",
              "      <th>1</th>\n",
              "      <td>2</td>\n",
              "      <td>F</td>\n",
              "      <td>Flight</td>\n",
              "      <td>4</td>\n",
              "      <td>5</td>\n",
              "      <td>216</td>\n",
              "      <td>2</td>\n",
              "      <td>low</td>\n",
              "      <td>M</td>\n",
              "      <td>59</td>\n",
              "      <td>3088</td>\n",
              "      <td>1</td>\n",
              "    </tr>\n",
              "    <tr>\n",
              "      <th>2</th>\n",
              "      <td>3</td>\n",
              "      <td>A</td>\n",
              "      <td>Flight</td>\n",
              "      <td>2</td>\n",
              "      <td>2</td>\n",
              "      <td>183</td>\n",
              "      <td>4</td>\n",
              "      <td>low</td>\n",
              "      <td>M</td>\n",
              "      <td>48</td>\n",
              "      <td>3374</td>\n",
              "      <td>1</td>\n",
              "    </tr>\n",
              "    <tr>\n",
              "      <th>3</th>\n",
              "      <td>4</td>\n",
              "      <td>B</td>\n",
              "      <td>Flight</td>\n",
              "      <td>3</td>\n",
              "      <td>3</td>\n",
              "      <td>176</td>\n",
              "      <td>4</td>\n",
              "      <td>medium</td>\n",
              "      <td>M</td>\n",
              "      <td>10</td>\n",
              "      <td>1177</td>\n",
              "      <td>1</td>\n",
              "    </tr>\n",
              "    <tr>\n",
              "      <th>4</th>\n",
              "      <td>5</td>\n",
              "      <td>C</td>\n",
              "      <td>Flight</td>\n",
              "      <td>2</td>\n",
              "      <td>2</td>\n",
              "      <td>184</td>\n",
              "      <td>3</td>\n",
              "      <td>medium</td>\n",
              "      <td>F</td>\n",
              "      <td>46</td>\n",
              "      <td>2484</td>\n",
              "      <td>1</td>\n",
              "    </tr>\n",
              "    <tr>\n",
              "      <th>...</th>\n",
              "      <td>...</td>\n",
              "      <td>...</td>\n",
              "      <td>...</td>\n",
              "      <td>...</td>\n",
              "      <td>...</td>\n",
              "      <td>...</td>\n",
              "      <td>...</td>\n",
              "      <td>...</td>\n",
              "      <td>...</td>\n",
              "      <td>...</td>\n",
              "      <td>...</td>\n",
              "      <td>...</td>\n",
              "    </tr>\n",
              "    <tr>\n",
              "      <th>10994</th>\n",
              "      <td>10995</td>\n",
              "      <td>A</td>\n",
              "      <td>Ship</td>\n",
              "      <td>4</td>\n",
              "      <td>1</td>\n",
              "      <td>252</td>\n",
              "      <td>5</td>\n",
              "      <td>medium</td>\n",
              "      <td>F</td>\n",
              "      <td>1</td>\n",
              "      <td>1538</td>\n",
              "      <td>1</td>\n",
              "    </tr>\n",
              "    <tr>\n",
              "      <th>10995</th>\n",
              "      <td>10996</td>\n",
              "      <td>B</td>\n",
              "      <td>Ship</td>\n",
              "      <td>4</td>\n",
              "      <td>1</td>\n",
              "      <td>232</td>\n",
              "      <td>5</td>\n",
              "      <td>medium</td>\n",
              "      <td>F</td>\n",
              "      <td>6</td>\n",
              "      <td>1247</td>\n",
              "      <td>0</td>\n",
              "    </tr>\n",
              "    <tr>\n",
              "      <th>10996</th>\n",
              "      <td>10997</td>\n",
              "      <td>C</td>\n",
              "      <td>Ship</td>\n",
              "      <td>5</td>\n",
              "      <td>4</td>\n",
              "      <td>242</td>\n",
              "      <td>5</td>\n",
              "      <td>low</td>\n",
              "      <td>F</td>\n",
              "      <td>4</td>\n",
              "      <td>1155</td>\n",
              "      <td>0</td>\n",
              "    </tr>\n",
              "    <tr>\n",
              "      <th>10997</th>\n",
              "      <td>10998</td>\n",
              "      <td>F</td>\n",
              "      <td>Ship</td>\n",
              "      <td>5</td>\n",
              "      <td>2</td>\n",
              "      <td>223</td>\n",
              "      <td>6</td>\n",
              "      <td>medium</td>\n",
              "      <td>M</td>\n",
              "      <td>2</td>\n",
              "      <td>1210</td>\n",
              "      <td>0</td>\n",
              "    </tr>\n",
              "    <tr>\n",
              "      <th>10998</th>\n",
              "      <td>10999</td>\n",
              "      <td>D</td>\n",
              "      <td>Ship</td>\n",
              "      <td>2</td>\n",
              "      <td>5</td>\n",
              "      <td>155</td>\n",
              "      <td>5</td>\n",
              "      <td>low</td>\n",
              "      <td>F</td>\n",
              "      <td>6</td>\n",
              "      <td>1639</td>\n",
              "      <td>0</td>\n",
              "    </tr>\n",
              "  </tbody>\n",
              "</table>\n",
              "<p>10999 rows × 12 columns</p>\n",
              "</div>\n",
              "    <div class=\"colab-df-buttons\">\n",
              "\n",
              "  <div class=\"colab-df-container\">\n",
              "    <button class=\"colab-df-convert\" onclick=\"convertToInteractive('df-a94fff26-cd0c-43d0-84e9-d865ade78935')\"\n",
              "            title=\"Convert this dataframe to an interactive table.\"\n",
              "            style=\"display:none;\">\n",
              "\n",
              "  <svg xmlns=\"http://www.w3.org/2000/svg\" height=\"24px\" viewBox=\"0 -960 960 960\">\n",
              "    <path d=\"M120-120v-720h720v720H120Zm60-500h600v-160H180v160Zm220 220h160v-160H400v160Zm0 220h160v-160H400v160ZM180-400h160v-160H180v160Zm440 0h160v-160H620v160ZM180-180h160v-160H180v160Zm440 0h160v-160H620v160Z\"/>\n",
              "  </svg>\n",
              "    </button>\n",
              "\n",
              "  <style>\n",
              "    .colab-df-container {\n",
              "      display:flex;\n",
              "      gap: 12px;\n",
              "    }\n",
              "\n",
              "    .colab-df-convert {\n",
              "      background-color: #E8F0FE;\n",
              "      border: none;\n",
              "      border-radius: 50%;\n",
              "      cursor: pointer;\n",
              "      display: none;\n",
              "      fill: #1967D2;\n",
              "      height: 32px;\n",
              "      padding: 0 0 0 0;\n",
              "      width: 32px;\n",
              "    }\n",
              "\n",
              "    .colab-df-convert:hover {\n",
              "      background-color: #E2EBFA;\n",
              "      box-shadow: 0px 1px 2px rgba(60, 64, 67, 0.3), 0px 1px 3px 1px rgba(60, 64, 67, 0.15);\n",
              "      fill: #174EA6;\n",
              "    }\n",
              "\n",
              "    .colab-df-buttons div {\n",
              "      margin-bottom: 4px;\n",
              "    }\n",
              "\n",
              "    [theme=dark] .colab-df-convert {\n",
              "      background-color: #3B4455;\n",
              "      fill: #D2E3FC;\n",
              "    }\n",
              "\n",
              "    [theme=dark] .colab-df-convert:hover {\n",
              "      background-color: #434B5C;\n",
              "      box-shadow: 0px 1px 3px 1px rgba(0, 0, 0, 0.15);\n",
              "      filter: drop-shadow(0px 1px 2px rgba(0, 0, 0, 0.3));\n",
              "      fill: #FFFFFF;\n",
              "    }\n",
              "  </style>\n",
              "\n",
              "    <script>\n",
              "      const buttonEl =\n",
              "        document.querySelector('#df-a94fff26-cd0c-43d0-84e9-d865ade78935 button.colab-df-convert');\n",
              "      buttonEl.style.display =\n",
              "        google.colab.kernel.accessAllowed ? 'block' : 'none';\n",
              "\n",
              "      async function convertToInteractive(key) {\n",
              "        const element = document.querySelector('#df-a94fff26-cd0c-43d0-84e9-d865ade78935');\n",
              "        const dataTable =\n",
              "          await google.colab.kernel.invokeFunction('convertToInteractive',\n",
              "                                                    [key], {});\n",
              "        if (!dataTable) return;\n",
              "\n",
              "        const docLinkHtml = 'Like what you see? Visit the ' +\n",
              "          '<a target=\"_blank\" href=https://colab.research.google.com/notebooks/data_table.ipynb>data table notebook</a>'\n",
              "          + ' to learn more about interactive tables.';\n",
              "        element.innerHTML = '';\n",
              "        dataTable['output_type'] = 'display_data';\n",
              "        await google.colab.output.renderOutput(dataTable, element);\n",
              "        const docLink = document.createElement('div');\n",
              "        docLink.innerHTML = docLinkHtml;\n",
              "        element.appendChild(docLink);\n",
              "      }\n",
              "    </script>\n",
              "  </div>\n",
              "\n",
              "\n",
              "<div id=\"df-b6de9141-7796-4812-aa5a-fc47d5b83846\">\n",
              "  <button class=\"colab-df-quickchart\" onclick=\"quickchart('df-b6de9141-7796-4812-aa5a-fc47d5b83846')\"\n",
              "            title=\"Suggest charts\"\n",
              "            style=\"display:none;\">\n",
              "\n",
              "<svg xmlns=\"http://www.w3.org/2000/svg\" height=\"24px\"viewBox=\"0 0 24 24\"\n",
              "     width=\"24px\">\n",
              "    <g>\n",
              "        <path d=\"M19 3H5c-1.1 0-2 .9-2 2v14c0 1.1.9 2 2 2h14c1.1 0 2-.9 2-2V5c0-1.1-.9-2-2-2zM9 17H7v-7h2v7zm4 0h-2V7h2v10zm4 0h-2v-4h2v4z\"/>\n",
              "    </g>\n",
              "</svg>\n",
              "  </button>\n",
              "\n",
              "<style>\n",
              "  .colab-df-quickchart {\n",
              "      --bg-color: #E8F0FE;\n",
              "      --fill-color: #1967D2;\n",
              "      --hover-bg-color: #E2EBFA;\n",
              "      --hover-fill-color: #174EA6;\n",
              "      --disabled-fill-color: #AAA;\n",
              "      --disabled-bg-color: #DDD;\n",
              "  }\n",
              "\n",
              "  [theme=dark] .colab-df-quickchart {\n",
              "      --bg-color: #3B4455;\n",
              "      --fill-color: #D2E3FC;\n",
              "      --hover-bg-color: #434B5C;\n",
              "      --hover-fill-color: #FFFFFF;\n",
              "      --disabled-bg-color: #3B4455;\n",
              "      --disabled-fill-color: #666;\n",
              "  }\n",
              "\n",
              "  .colab-df-quickchart {\n",
              "    background-color: var(--bg-color);\n",
              "    border: none;\n",
              "    border-radius: 50%;\n",
              "    cursor: pointer;\n",
              "    display: none;\n",
              "    fill: var(--fill-color);\n",
              "    height: 32px;\n",
              "    padding: 0;\n",
              "    width: 32px;\n",
              "  }\n",
              "\n",
              "  .colab-df-quickchart:hover {\n",
              "    background-color: var(--hover-bg-color);\n",
              "    box-shadow: 0 1px 2px rgba(60, 64, 67, 0.3), 0 1px 3px 1px rgba(60, 64, 67, 0.15);\n",
              "    fill: var(--button-hover-fill-color);\n",
              "  }\n",
              "\n",
              "  .colab-df-quickchart-complete:disabled,\n",
              "  .colab-df-quickchart-complete:disabled:hover {\n",
              "    background-color: var(--disabled-bg-color);\n",
              "    fill: var(--disabled-fill-color);\n",
              "    box-shadow: none;\n",
              "  }\n",
              "\n",
              "  .colab-df-spinner {\n",
              "    border: 2px solid var(--fill-color);\n",
              "    border-color: transparent;\n",
              "    border-bottom-color: var(--fill-color);\n",
              "    animation:\n",
              "      spin 1s steps(1) infinite;\n",
              "  }\n",
              "\n",
              "  @keyframes spin {\n",
              "    0% {\n",
              "      border-color: transparent;\n",
              "      border-bottom-color: var(--fill-color);\n",
              "      border-left-color: var(--fill-color);\n",
              "    }\n",
              "    20% {\n",
              "      border-color: transparent;\n",
              "      border-left-color: var(--fill-color);\n",
              "      border-top-color: var(--fill-color);\n",
              "    }\n",
              "    30% {\n",
              "      border-color: transparent;\n",
              "      border-left-color: var(--fill-color);\n",
              "      border-top-color: var(--fill-color);\n",
              "      border-right-color: var(--fill-color);\n",
              "    }\n",
              "    40% {\n",
              "      border-color: transparent;\n",
              "      border-right-color: var(--fill-color);\n",
              "      border-top-color: var(--fill-color);\n",
              "    }\n",
              "    60% {\n",
              "      border-color: transparent;\n",
              "      border-right-color: var(--fill-color);\n",
              "    }\n",
              "    80% {\n",
              "      border-color: transparent;\n",
              "      border-right-color: var(--fill-color);\n",
              "      border-bottom-color: var(--fill-color);\n",
              "    }\n",
              "    90% {\n",
              "      border-color: transparent;\n",
              "      border-bottom-color: var(--fill-color);\n",
              "    }\n",
              "  }\n",
              "</style>\n",
              "\n",
              "  <script>\n",
              "    async function quickchart(key) {\n",
              "      const quickchartButtonEl =\n",
              "        document.querySelector('#' + key + ' button');\n",
              "      quickchartButtonEl.disabled = true;  // To prevent multiple clicks.\n",
              "      quickchartButtonEl.classList.add('colab-df-spinner');\n",
              "      try {\n",
              "        const charts = await google.colab.kernel.invokeFunction(\n",
              "            'suggestCharts', [key], {});\n",
              "      } catch (error) {\n",
              "        console.error('Error during call to suggestCharts:', error);\n",
              "      }\n",
              "      quickchartButtonEl.classList.remove('colab-df-spinner');\n",
              "      quickchartButtonEl.classList.add('colab-df-quickchart-complete');\n",
              "    }\n",
              "    (() => {\n",
              "      let quickchartButtonEl =\n",
              "        document.querySelector('#df-b6de9141-7796-4812-aa5a-fc47d5b83846 button');\n",
              "      quickchartButtonEl.style.display =\n",
              "        google.colab.kernel.accessAllowed ? 'block' : 'none';\n",
              "    })();\n",
              "  </script>\n",
              "</div>\n",
              "    </div>\n",
              "  </div>\n"
            ],
            "application/vnd.google.colaboratory.intrinsic+json": {
              "type": "dataframe",
              "variable_name": "df",
              "summary": "{\n  \"name\": \"df\",\n  \"rows\": 10999,\n  \"fields\": [\n    {\n      \"column\": \"ID\",\n      \"properties\": {\n        \"dtype\": \"number\",\n        \"std\": 3175,\n        \"min\": 1,\n        \"max\": 10999,\n        \"num_unique_values\": 10999,\n        \"samples\": [\n          108,\n          5595,\n          6998\n        ],\n        \"semantic_type\": \"\",\n        \"description\": \"\"\n      }\n    },\n    {\n      \"column\": \"Warehouse_block\",\n      \"properties\": {\n        \"dtype\": \"category\",\n        \"num_unique_values\": 5,\n        \"samples\": [\n          \"F\",\n          \"C\",\n          \"A\"\n        ],\n        \"semantic_type\": \"\",\n        \"description\": \"\"\n      }\n    },\n    {\n      \"column\": \"Mode_of_Shipment\",\n      \"properties\": {\n        \"dtype\": \"category\",\n        \"num_unique_values\": 3,\n        \"samples\": [\n          \"Flight\",\n          \"Ship\",\n          \"Road\"\n        ],\n        \"semantic_type\": \"\",\n        \"description\": \"\"\n      }\n    },\n    {\n      \"column\": \"Customer_care_calls\",\n      \"properties\": {\n        \"dtype\": \"number\",\n        \"std\": 1,\n        \"min\": 2,\n        \"max\": 7,\n        \"num_unique_values\": 6,\n        \"samples\": [\n          4,\n          2,\n          7\n        ],\n        \"semantic_type\": \"\",\n        \"description\": \"\"\n      }\n    },\n    {\n      \"column\": \"Customer_rating\",\n      \"properties\": {\n        \"dtype\": \"number\",\n        \"std\": 1,\n        \"min\": 1,\n        \"max\": 5,\n        \"num_unique_values\": 5,\n        \"samples\": [\n          5,\n          4,\n          3\n        ],\n        \"semantic_type\": \"\",\n        \"description\": \"\"\n      }\n    },\n    {\n      \"column\": \"Cost_of_the_Product\",\n      \"properties\": {\n        \"dtype\": \"number\",\n        \"std\": 48,\n        \"min\": 96,\n        \"max\": 310,\n        \"num_unique_values\": 215,\n        \"samples\": [\n          306,\n          297,\n          262\n        ],\n        \"semantic_type\": \"\",\n        \"description\": \"\"\n      }\n    },\n    {\n      \"column\": \"Prior_purchases\",\n      \"properties\": {\n        \"dtype\": \"number\",\n        \"std\": 1,\n        \"min\": 2,\n        \"max\": 10,\n        \"num_unique_values\": 8,\n        \"samples\": [\n          2,\n          7,\n          3\n        ],\n        \"semantic_type\": \"\",\n        \"description\": \"\"\n      }\n    },\n    {\n      \"column\": \"Product_importance\",\n      \"properties\": {\n        \"dtype\": \"category\",\n        \"num_unique_values\": 3,\n        \"samples\": [\n          \"low\",\n          \"medium\",\n          \"high\"\n        ],\n        \"semantic_type\": \"\",\n        \"description\": \"\"\n      }\n    },\n    {\n      \"column\": \"Gender\",\n      \"properties\": {\n        \"dtype\": \"category\",\n        \"num_unique_values\": 2,\n        \"samples\": [\n          \"M\",\n          \"F\"\n        ],\n        \"semantic_type\": \"\",\n        \"description\": \"\"\n      }\n    },\n    {\n      \"column\": \"Discount_offered\",\n      \"properties\": {\n        \"dtype\": \"number\",\n        \"std\": 16,\n        \"min\": 1,\n        \"max\": 65,\n        \"num_unique_values\": 65,\n        \"samples\": [\n          25,\n          34\n        ],\n        \"semantic_type\": \"\",\n        \"description\": \"\"\n      }\n    },\n    {\n      \"column\": \"Weight_in_gms\",\n      \"properties\": {\n        \"dtype\": \"number\",\n        \"std\": 1635,\n        \"min\": 1001,\n        \"max\": 7846,\n        \"num_unique_values\": 4034,\n        \"samples\": [\n          5483,\n          1238\n        ],\n        \"semantic_type\": \"\",\n        \"description\": \"\"\n      }\n    },\n    {\n      \"column\": \"Reached.on.Time_Y.N\",\n      \"properties\": {\n        \"dtype\": \"number\",\n        \"std\": 0,\n        \"min\": 0,\n        \"max\": 1,\n        \"num_unique_values\": 2,\n        \"samples\": [\n          0,\n          1\n        ],\n        \"semantic_type\": \"\",\n        \"description\": \"\"\n      }\n    }\n  ]\n}"
            }
          },
          "metadata": {},
          "execution_count": 2
        }
      ],
      "source": [
        "import numpy as np\n",
        "import pandas as pd\n",
        "import pickle\n",
        "df=pd.read_csv(\"/content/Train (1).csv\")\n",
        "df\n"
      ]
    },
    {
      "cell_type": "markdown",
      "id": "5f0f326e",
      "metadata": {
        "id": "5f0f326e"
      },
      "source": [
        "> **Exploring the dataset about products reaching their customers on time and creating models to determine which one predicts the outcome better.**"
      ]
    },
    {
      "cell_type": "code",
      "execution_count": 3,
      "id": "8ecc8046",
      "metadata": {
        "id": "8ecc8046"
      },
      "outputs": [],
      "source": [
        "# F = 1, M = 0\n",
        "df['Gender'] = (df['Gender'] == 'F').astype(int)"
      ]
    },
    {
      "cell_type": "code",
      "execution_count": 4,
      "id": "ded0cd83",
      "metadata": {
        "colab": {
          "base_uri": "https://localhost:8080/"
        },
        "id": "ded0cd83",
        "outputId": "5293b634-7205-4948-e126-db71878911d3"
      },
      "outputs": [
        {
          "output_type": "execute_result",
          "data": {
            "text/plain": [
              "array(['low', 'medium', 'high'], dtype=object)"
            ]
          },
          "metadata": {},
          "execution_count": 4
        }
      ],
      "source": [
        "df['Product_importance'].unique()"
      ]
    },
    {
      "cell_type": "code",
      "execution_count": 5,
      "id": "d6ed0ada",
      "metadata": {
        "id": "d6ed0ada"
      },
      "outputs": [],
      "source": [
        "# 0 = low, 1 = medium, 2 = high\n",
        "df.loc[df['Product_importance'] == 'low', 'Product_importance'] = 0\n",
        "df.loc[df['Product_importance'] == 'medium', 'Product_importance'] = 1\n",
        "df.loc[df['Product_importance'] == 'high', 'Product_importance'] = 2"
      ]
    },
    {
      "cell_type": "code",
      "execution_count": 6,
      "id": "edd2e6a8",
      "metadata": {
        "id": "edd2e6a8"
      },
      "outputs": [],
      "source": [
        "# 0 = Flight, 1 = Road, 2 = Ship\n",
        "df['Mode_of_Shipment'] = df['Mode_of_Shipment'].astype('category')\n",
        "df['Mode_of_Shipment'] = df['Mode_of_Shipment'].cat.codes"
      ]
    },
    {
      "cell_type": "code",
      "execution_count": 8,
      "id": "265bb880",
      "metadata": {
        "id": "265bb880"
      },
      "outputs": [],
      "source": [
        "# 3 = D, 4 = F, 0 = A, 1 = B, C = 2\n",
        "df['Warehouse_block'] = df['Warehouse_block'].astype('category')\n",
        "df['Warehouse_block'] = df['Warehouse_block'].cat.codes"
      ]
    },
    {
      "cell_type": "code",
      "execution_count": 9,
      "id": "70770feb",
      "metadata": {
        "id": "70770feb"
      },
      "outputs": [],
      "source": [
        "import matplotlib.pyplot as plt"
      ]
    },
    {
      "cell_type": "code",
      "execution_count": 10,
      "id": "edf0d451",
      "metadata": {
        "colab": {
          "base_uri": "https://localhost:8080/",
          "height": 1000
        },
        "id": "edf0d451",
        "outputId": "b2a06607-b456-4ddc-89fa-e6e2329416f1"
      },
      "outputs": [
        {
          "output_type": "display_data",
          "data": {
            "text/plain": [
              "<Figure size 640x480 with 1 Axes>"
            ],
            "image/png": "[encoded data removed]"
          },
          "metadata": {}
        },
        {
          "output_type": "display_data",
          "data": {
            "text/plain": [
              "<Figure size 640x480 with 1 Axes>"
            ],
            "image/png": "[encoded data removed]"
          },
          "metadata": {}
        },
        {
          "output_type": "display_data",
          "data": {
            "text/plain": [
              "<Figure size 640x480 with 1 Axes>"
            ],
            "image/png": "[encoded data removed]"
          },
          "metadata": {}
        },
        {
          "output_type": "display_data",
          "data": {
            "text/plain": [
              "<Figure size 640x480 with 1 Axes>"
            ],
            "image/png": "[encoded data removed]"
          },
          "metadata": {}
        },
        {
          "output_type": "display_data",
          "data": {
            "text/plain": [
              "<Figure size 640x480 with 1 Axes>"
            ],
            "image/png": "[encoded data removed]"
          },
          "metadata": {}
        },
        {
          "output_type": "display_data",
          "data": {
            "text/plain": [
              "<Figure size 640x480 with 1 Axes>"
            ],
            "image/png": "[encoded data removed]"
          },
          "metadata": {}
        },
        {
          "output_type": "display_data",
          "data": {
            "text/plain": [
              "<Figure size 640x480 with 1 Axes>"
            ],
            "image/png": "[encoded data removed]"
          },
          "metadata": {}
        },
        {
          "output_type": "display_data",
          "data": {
            "text/plain": [
              "<Figure size 640x480 with 1 Axes>"
            ],
            "image/png": "[encoded data removed]"
          },
          "metadata": {}
        },
        {
          "output_type": "display_data",
          "data": {
            "text/plain": [
              "<Figure size 640x480 with 1 Axes>"
            ],
            "image/png": "[encoded data removed]"
          },
          "metadata": {}
        },
        {
          "output_type": "display_data",
          "data": {
            "text/plain": [
              "<Figure size 640x480 with 1 Axes>"
            ],
            "image/png": "[encoded data removed]"
          },
          "metadata": {}
        },
        {
          "output_type": "display_data",
          "data": {
            "text/plain": [
              "<Figure size 640x480 with 1 Axes>"
            ],
            "image/png": "[encoded data removed]"
          },
          "metadata": {}
        }
      ],
      "source": [
        " for column in df.columns[1:]:\n",
        "    df[column].hist()\n",
        "    plt.xlabel('Value')\n",
        "    plt.ylabel('Frequency')\n",
        "    plt.title(f'Histogram of {column}')\n",
        "    plt.show()"
      ]
    },
    {
      "cell_type": "markdown",
      "id": "9fc1a15d",
      "metadata": {
        "id": "9fc1a15d"
      },
      "source": [
        "Making dummy variables for categorical variables Warehouse_block and Mode_of_Shipment."
      ]
    },
    {
      "cell_type": "code",
      "execution_count": 11,
      "id": "9e390084",
      "metadata": {
        "id": "9e390084"
      },
      "outputs": [],
      "source": [
        "dummy_var = pd.get_dummies(df, columns=['Warehouse_block', 'Mode_of_Shipment'])"
      ]
    },
    {
      "cell_type": "code",
      "execution_count": 12,
      "id": "aa7b3859",
      "metadata": {
        "id": "aa7b3859"
      },
      "outputs": [],
      "source": [
        "dummy_var = dummy_var.astype(int)\n",
        "df = pd.concat([dummy_var], axis=1)\n",
        "df = df.drop(columns=['ID'])"
      ]
    },
    {
      "cell_type": "code",
      "execution_count": 13,
      "id": "52176173",
      "metadata": {
        "colab": {
          "base_uri": "https://localhost:8080/",
          "height": 443
        },
        "id": "52176173",
        "outputId": "745b9384-02c4-4de5-ce8d-d37b17c79799"
      },
      "outputs": [
        {
          "output_type": "execute_result",
          "data": {
            "text/plain": [
              "       Customer_care_calls  Customer_rating  Cost_of_the_Product  \\\n",
              "0                        4                2                  177   \n",
              "1                        4                5                  216   \n",
              "2                        2                2                  183   \n",
              "3                        3                3                  176   \n",
              "4                        2                2                  184   \n",
              "...                    ...              ...                  ...   \n",
              "10994                    4                1                  252   \n",
              "10995                    4                1                  232   \n",
              "10996                    5                4                  242   \n",
              "10997                    5                2                  223   \n",
              "10998                    2                5                  155   \n",
              "\n",
              "       Prior_purchases  Product_importance  Gender  Discount_offered  \\\n",
              "0                    3                   0       1                44   \n",
              "1                    2                   0       0                59   \n",
              "2                    4                   0       0                48   \n",
              "3                    4                   1       0                10   \n",
              "4                    3                   1       1                46   \n",
              "...                ...                 ...     ...               ...   \n",
              "10994                5                   1       1                 1   \n",
              "10995                5                   1       1                 6   \n",
              "10996                5                   0       1                 4   \n",
              "10997                6                   1       0                 2   \n",
              "10998                5                   0       1                 6   \n",
              "\n",
              "       Weight_in_gms  Reached.on.Time_Y.N  Warehouse_block_0  \\\n",
              "0               1233                    1                  0   \n",
              "1               3088                    1                  0   \n",
              "2               3374                    1                  1   \n",
              "3               1177                    1                  0   \n",
              "4               2484                    1                  0   \n",
              "...              ...                  ...                ...   \n",
              "10994           1538                    1                  1   \n",
              "10995           1247                    0                  0   \n",
              "10996           1155                    0                  0   \n",
              "10997           1210                    0                  0   \n",
              "10998           1639                    0                  0   \n",
              "\n",
              "       Warehouse_block_1  Warehouse_block_2  Warehouse_block_3  \\\n",
              "0                      0                  0                  1   \n",
              "1                      0                  0                  0   \n",
              "2                      0                  0                  0   \n",
              "3                      1                  0                  0   \n",
              "4                      0                  1                  0   \n",
              "...                  ...                ...                ...   \n",
              "10994                  0                  0                  0   \n",
              "10995                  1                  0                  0   \n",
              "10996                  0                  1                  0   \n",
              "10997                  0                  0                  0   \n",
              "10998                  0                  0                  1   \n",
              "\n",
              "       Warehouse_block_4  Mode_of_Shipment_0  Mode_of_Shipment_1  \\\n",
              "0                      0                   1                   0   \n",
              "1                      1                   1                   0   \n",
              "2                      0                   1                   0   \n",
              "3                      0                   1                   0   \n",
              "4                      0                   1                   0   \n",
              "...                  ...                 ...                 ...   \n",
              "10994                  0                   0                   0   \n",
              "10995                  0                   0                   0   \n",
              "10996                  0                   0                   0   \n",
              "10997                  1                   0                   0   \n",
              "10998                  0                   0                   0   \n",
              "\n",
              "       Mode_of_Shipment_2  \n",
              "0                       0  \n",
              "1                       0  \n",
              "2                       0  \n",
              "3                       0  \n",
              "4                       0  \n",
              "...                   ...  \n",
              "10994                   1  \n",
              "10995                   1  \n",
              "10996                   1  \n",
              "10997                   1  \n",
              "10998                   1  \n",
              "\n",
              "[10999 rows x 17 columns]"
            ],
            "text/html": [
              "\n",
              "  <div id=\"df-b676408d-8376-488d-8f53-89274d01ab12\" class=\"colab-df-container\">\n",
              "    <div>\n",
              "<style scoped>\n",
              "    .dataframe tbody tr th:only-of-type {\n",
              "        vertical-align: middle;\n",
              "    }\n",
              "\n",
              "    .dataframe tbody tr th {\n",
              "        vertical-align: top;\n",
              "    }\n",
              "\n",
              "    .dataframe thead th {\n",
              "        text-align: right;\n",
              "    }\n",
              "</style>\n",
              "<table border=\"1\" class=\"dataframe\">\n",
              "  <thead>\n",
              "    <tr style=\"text-align: right;\">\n",
              "      <th></th>\n",
              "      <th>Customer_care_calls</th>\n",
              "      <th>Customer_rating</th>\n",
              "      <th>Cost_of_the_Product</th>\n",
              "      <th>Prior_purchases</th>\n",
              "      <th>Product_importance</th>\n",
              "      <th>Gender</th>\n",
              "      <th>Discount_offered</th>\n",
              "      <th>Weight_in_gms</th>\n",
              "      <th>Reached.on.Time_Y.N</th>\n",
              "      <th>Warehouse_block_0</th>\n",
              "      <th>Warehouse_block_1</th>\n",
              "      <th>Warehouse_block_2</th>\n",
              "      <th>Warehouse_block_3</th>\n",
              "      <th>Warehouse_block_4</th>\n",
              "      <th>Mode_of_Shipment_0</th>\n",
              "      <th>Mode_of_Shipment_1</th>\n",
              "      <th>Mode_of_Shipment_2</th>\n",
              "    </tr>\n",
              "  </thead>\n",
              "  <tbody>\n",
              "    <tr>\n",
              "      <th>0</th>\n",
              "      <td>4</td>\n",
              "      <td>2</td>\n",
              "      <td>177</td>\n",
              "      <td>3</td>\n",
              "      <td>0</td>\n",
              "      <td>1</td>\n",
              "      <td>44</td>\n",
              "      <td>1233</td>\n",
              "      <td>1</td>\n",
              "      <td>0</td>\n",
              "      <td>0</td>\n",
              "      <td>0</td>\n",
              "      <td>1</td>\n",
              "      <td>0</td>\n",
              "      <td>1</td>\n",
              "      <td>0</td>\n",
              "      <td>0</td>\n",
              "    </tr>\n",
              "    <tr>\n",
              "      <th>1</th>\n",
              "      <td>4</td>\n",
              "      <td>5</td>\n",
              "      <td>216</td>\n",
              "      <td>2</td>\n",
              "      <td>0</td>\n",
              "      <td>0</td>\n",
              "      <td>59</td>\n",
              "      <td>3088</td>\n",
              "      <td>1</td>\n",
              "      <td>0</td>\n",
              "      <td>0</td>\n",
              "      <td>0</td>\n",
              "      <td>0</td>\n",
              "      <td>1</td>\n",
              "      <td>1</td>\n",
              "      <td>0</td>\n",
              "      <td>0</td>\n",
              "    </tr>\n",
              "    <tr>\n",
              "      <th>2</th>\n",
              "      <td>2</td>\n",
              "      <td>2</td>\n",
              "      <td>183</td>\n",
              "      <td>4</td>\n",
              "      <td>0</td>\n",
              "      <td>0</td>\n",
              "      <td>48</td>\n",
              "      <td>3374</td>\n",
              "      <td>1</td>\n",
              "      <td>1</td>\n",
              "      <td>0</td>\n",
              "      <td>0</td>\n",
              "      <td>0</td>\n",
              "      <td>0</td>\n",
              "      <td>1</td>\n",
              "      <td>0</td>\n",
              "      <td>0</td>\n",
              "    </tr>\n",
              "    <tr>\n",
              "      <th>3</th>\n",
              "      <td>3</td>\n",
              "      <td>3</td>\n",
              "      <td>176</td>\n",
              "      <td>4</td>\n",
              "      <td>1</td>\n",
              "      <td>0</td>\n",
              "      <td>10</td>\n",
              "      <td>1177</td>\n",
              "      <td>1</td>\n",
              "      <td>0</td>\n",
              "      <td>1</td>\n",
              "      <td>0</td>\n",
              "      <td>0</td>\n",
              "      <td>0</td>\n",
              "      <td>1</td>\n",
              "      <td>0</td>\n",
              "      <td>0</td>\n",
              "    </tr>\n",
              "    <tr>\n",
              "      <th>4</th>\n",
              "      <td>2</td>\n",
              "      <td>2</td>\n",
              "      <td>184</td>\n",
              "      <td>3</td>\n",
              "      <td>1</td>\n",
              "      <td>1</td>\n",
              "      <td>46</td>\n",
              "      <td>2484</td>\n",
              "      <td>1</td>\n",
              "      <td>0</td>\n",
              "      <td>0</td>\n",
              "      <td>1</td>\n",
              "      <td>0</td>\n",
              "      <td>0</td>\n",
              "      <td>1</td>\n",
              "      <td>0</td>\n",
              "      <td>0</td>\n",
              "    </tr>\n",
              "    <tr>\n",
              "      <th>...</th>\n",
              "      <td>...</td>\n",
              "      <td>...</td>\n",
              "      <td>...</td>\n",
              "      <td>...</td>\n",
              "      <td>...</td>\n",
              "      <td>...</td>\n",
              "      <td>...</td>\n",
              "      <td>...</td>\n",
              "      <td>...</td>\n",
              "      <td>...</td>\n",
              "      <td>...</td>\n",
              "      <td>...</td>\n",
              "      <td>...</td>\n",
              "      <td>...</td>\n",
              "      <td>...</td>\n",
              "      <td>...</td>\n",
              "      <td>...</td>\n",
              "    </tr>\n",
              "    <tr>\n",
              "      <th>10994</th>\n",
              "      <td>4</td>\n",
              "      <td>1</td>\n",
              "      <td>252</td>\n",
              "      <td>5</td>\n",
              "      <td>1</td>\n",
              "      <td>1</td>\n",
              "      <td>1</td>\n",
              "      <td>1538</td>\n",
              "      <td>1</td>\n",
              "      <td>1</td>\n",
              "      <td>0</td>\n",
              "      <td>0</td>\n",
              "      <td>0</td>\n",
              "      <td>0</td>\n",
              "      <td>0</td>\n",
              "      <td>0</td>\n",
              "      <td>1</td>\n",
              "    </tr>\n",
              "    <tr>\n",
              "      <th>10995</th>\n",
              "      <td>4</td>\n",
              "      <td>1</td>\n",
              "      <td>232</td>\n",
              "      <td>5</td>\n",
              "      <td>1</td>\n",
              "      <td>1</td>\n",
              "      <td>6</td>\n",
              "      <td>1247</td>\n",
              "      <td>0</td>\n",
              "      <td>0</td>\n",
              "      <td>1</td>\n",
              "      <td>0</td>\n",
              "      <td>0</td>\n",
              "      <td>0</td>\n",
              "      <td>0</td>\n",
              "      <td>0</td>\n",
              "      <td>1</td>\n",
              "    </tr>\n",
              "    <tr>\n",
              "      <th>10996</th>\n",
              "      <td>5</td>\n",
              "      <td>4</td>\n",
              "      <td>242</td>\n",
              "      <td>5</td>\n",
              "      <td>0</td>\n",
              "      <td>1</td>\n",
              "      <td>4</td>\n",
              "      <td>1155</td>\n",
              "      <td>0</td>\n",
              "      <td>0</td>\n",
              "      <td>0</td>\n",
              "      <td>1</td>\n",
              "      <td>0</td>\n",
              "      <td>0</td>\n",
              "      <td>0</td>\n",
              "      <td>0</td>\n",
              "      <td>1</td>\n",
              "    </tr>\n",
              "    <tr>\n",
              "      <th>10997</th>\n",
              "      <td>5</td>\n",
              "      <td>2</td>\n",
              "      <td>223</td>\n",
              "      <td>6</td>\n",
              "      <td>1</td>\n",
              "      <td>0</td>\n",
              "      <td>2</td>\n",
              "      <td>1210</td>\n",
              "      <td>0</td>\n",
              "      <td>0</td>\n",
              "      <td>0</td>\n",
              "      <td>0</td>\n",
              "      <td>0</td>\n",
              "      <td>1</td>\n",
              "      <td>0</td>\n",
              "      <td>0</td>\n",
              "      <td>1</td>\n",
              "    </tr>\n",
              "    <tr>\n",
              "      <th>10998</th>\n",
              "      <td>2</td>\n",
              "      <td>5</td>\n",
              "      <td>155</td>\n",
              "      <td>5</td>\n",
              "      <td>0</td>\n",
              "      <td>1</td>\n",
              "      <td>6</td>\n",
              "      <td>1639</td>\n",
              "      <td>0</td>\n",
              "      <td>0</td>\n",
              "      <td>0</td>\n",
              "      <td>0</td>\n",
              "      <td>1</td>\n",
              "      <td>0</td>\n",
              "      <td>0</td>\n",
              "      <td>0</td>\n",
              "      <td>1</td>\n",
              "    </tr>\n",
              "  </tbody>\n",
              "</table>\n",
              "<p>10999 rows × 17 columns</p>\n",
              "</div>\n",
              "    <div class=\"colab-df-buttons\">\n",
              "\n",
              "  <div class=\"colab-df-container\">\n",
              "    <button class=\"colab-df-convert\" onclick=\"convertToInteractive('df-b676408d-8376-488d-8f53-89274d01ab12')\"\n",
              "            title=\"Convert this dataframe to an interactive table.\"\n",
              "            style=\"display:none;\">\n",
              "\n",
              "  <svg xmlns=\"http://www.w3.org/2000/svg\" height=\"24px\" viewBox=\"0 -960 960 960\">\n",
              "    <path d=\"M120-120v-720h720v720H120Zm60-500h600v-160H180v160Zm220 220h160v-160H400v160Zm0 220h160v-160H400v160ZM180-400h160v-160H180v160Zm440 0h160v-160H620v160ZM180-180h160v-160H180v160Zm440 0h160v-160H620v160Z\"/>\n",
              "  </svg>\n",
              "    </button>\n",
              "\n",
              "  <style>\n",
              "    .colab-df-container {\n",
              "      display:flex;\n",
              "      gap: 12px;\n",
              "    }\n",
              "\n",
              "    .colab-df-convert {\n",
              "      background-color: #E8F0FE;\n",
              "      border: none;\n",
              "      border-radius: 50%;\n",
              "      cursor: pointer;\n",
              "      display: none;\n",
              "      fill: #1967D2;\n",
              "      height: 32px;\n",
              "      padding: 0 0 0 0;\n",
              "      width: 32px;\n",
              "    }\n",
              "\n",
              "    .colab-df-convert:hover {\n",
              "      background-color: #E2EBFA;\n",
              "      box-shadow: 0px 1px 2px rgba(60, 64, 67, 0.3), 0px 1px 3px 1px rgba(60, 64, 67, 0.15);\n",
              "      fill: #174EA6;\n",
              "    }\n",
              "\n",
              "    .colab-df-buttons div {\n",
              "      margin-bottom: 4px;\n",
              "    }\n",
              "\n",
              "    [theme=dark] .colab-df-convert {\n",
              "      background-color: #3B4455;\n",
              "      fill: #D2E3FC;\n",
              "    }\n",
              "\n",
              "    [theme=dark] .colab-df-convert:hover {\n",
              "      background-color: #434B5C;\n",
              "      box-shadow: 0px 1px 3px 1px rgba(0, 0, 0, 0.15);\n",
              "      filter: drop-shadow(0px 1px 2px rgba(0, 0, 0, 0.3));\n",
              "      fill: #FFFFFF;\n",
              "    }\n",
              "  </style>\n",
              "\n",
              "    <script>\n",
              "      const buttonEl =\n",
              "        document.querySelector('#df-b676408d-8376-488d-8f53-89274d01ab12 button.colab-df-convert');\n",
              "      buttonEl.style.display =\n",
              "        google.colab.kernel.accessAllowed ? 'block' : 'none';\n",
              "\n",
              "      async function convertToInteractive(key) {\n",
              "        const element = document.querySelector('#df-b676408d-8376-488d-8f53-89274d01ab12');\n",
              "        const dataTable =\n",
              "          await google.colab.kernel.invokeFunction('convertToInteractive',\n",
              "                                                    [key], {});\n",
              "        if (!dataTable) return;\n",
              "\n",
              "        const docLinkHtml = 'Like what you see? Visit the ' +\n",
              "          '<a target=\"_blank\" href=https://colab.research.google.com/notebooks/data_table.ipynb>data table notebook</a>'\n",
              "          + ' to learn more about interactive tables.';\n",
              "        element.innerHTML = '';\n",
              "        dataTable['output_type'] = 'display_data';\n",
              "        await google.colab.output.renderOutput(dataTable, element);\n",
              "        const docLink = document.createElement('div');\n",
              "        docLink.innerHTML = docLinkHtml;\n",
              "        element.appendChild(docLink);\n",
              "      }\n",
              "    </script>\n",
              "  </div>\n",
              "\n",
              "\n",
              "<div id=\"df-15707ab5-c366-46ae-b326-355aca086dc6\">\n",
              "  <button class=\"colab-df-quickchart\" onclick=\"quickchart('df-15707ab5-c366-46ae-b326-355aca086dc6')\"\n",
              "            title=\"Suggest charts\"\n",
              "            style=\"display:none;\">\n",
              "\n",
              "<svg xmlns=\"http://www.w3.org/2000/svg\" height=\"24px\"viewBox=\"0 0 24 24\"\n",
              "     width=\"24px\">\n",
              "    <g>\n",
              "        <path d=\"M19 3H5c-1.1 0-2 .9-2 2v14c0 1.1.9 2 2 2h14c1.1 0 2-.9 2-2V5c0-1.1-.9-2-2-2zM9 17H7v-7h2v7zm4 0h-2V7h2v10zm4 0h-2v-4h2v4z\"/>\n",
              "    </g>\n",
              "</svg>\n",
              "  </button>\n",
              "\n",
              "<style>\n",
              "  .colab-df-quickchart {\n",
              "      --bg-color: #E8F0FE;\n",
              "      --fill-color: #1967D2;\n",
              "      --hover-bg-color: #E2EBFA;\n",
              "      --hover-fill-color: #174EA6;\n",
              "      --disabled-fill-color: #AAA;\n",
              "      --disabled-bg-color: #DDD;\n",
              "  }\n",
              "\n",
              "  [theme=dark] .colab-df-quickchart {\n",
              "      --bg-color: #3B4455;\n",
              "      --fill-color: #D2E3FC;\n",
              "      --hover-bg-color: #434B5C;\n",
              "      --hover-fill-color: #FFFFFF;\n",
              "      --disabled-bg-color: #3B4455;\n",
              "      --disabled-fill-color: #666;\n",
              "  }\n",
              "\n",
              "  .colab-df-quickchart {\n",
              "    background-color: var(--bg-color);\n",
              "    border: none;\n",
              "    border-radius: 50%;\n",
              "    cursor: pointer;\n",
              "    display: none;\n",
              "    fill: var(--fill-color);\n",
              "    height: 32px;\n",
              "    padding: 0;\n",
              "    width: 32px;\n",
              "  }\n",
              "\n",
              "  .colab-df-quickchart:hover {\n",
              "    background-color: var(--hover-bg-color);\n",
              "    box-shadow: 0 1px 2px rgba(60, 64, 67, 0.3), 0 1px 3px 1px rgba(60, 64, 67, 0.15);\n",
              "    fill: var(--button-hover-fill-color);\n",
              "  }\n",
              "\n",
              "  .colab-df-quickchart-complete:disabled,\n",
              "  .colab-df-quickchart-complete:disabled:hover {\n",
              "    background-color: var(--disabled-bg-color);\n",
              "    fill: var(--disabled-fill-color);\n",
              "    box-shadow: none;\n",
              "  }\n",
              "\n",
              "  .colab-df-spinner {\n",
              "    border: 2px solid var(--fill-color);\n",
              "    border-color: transparent;\n",
              "    border-bottom-color: var(--fill-color);\n",
              "    animation:\n",
              "      spin 1s steps(1) infinite;\n",
              "  }\n",
              "\n",
              "  @keyframes spin {\n",
              "    0% {\n",
              "      border-color: transparent;\n",
              "      border-bottom-color: var(--fill-color);\n",
              "      border-left-color: var(--fill-color);\n",
              "    }\n",
              "    20% {\n",
              "      border-color: transparent;\n",
              "      border-left-color: var(--fill-color);\n",
              "      border-top-color: var(--fill-color);\n",
              "    }\n",
              "    30% {\n",
              "      border-color: transparent;\n",
              "      border-left-color: var(--fill-color);\n",
              "      border-top-color: var(--fill-color);\n",
              "      border-right-color: var(--fill-color);\n",
              "    }\n",
              "    40% {\n",
              "      border-color: transparent;\n",
              "      border-right-color: var(--fill-color);\n",
              "      border-top-color: var(--fill-color);\n",
              "    }\n",
              "    60% {\n",
              "      border-color: transparent;\n",
              "      border-right-color: var(--fill-color);\n",
              "    }\n",
              "    80% {\n",
              "      border-color: transparent;\n",
              "      border-right-color: var(--fill-color);\n",
              "      border-bottom-color: var(--fill-color);\n",
              "    }\n",
              "    90% {\n",
              "      border-color: transparent;\n",
              "      border-bottom-color: var(--fill-color);\n",
              "    }\n",
              "  }\n",
              "</style>\n",
              "\n",
              "  <script>\n",
              "    async function quickchart(key) {\n",
              "      const quickchartButtonEl =\n",
              "        document.querySelector('#' + key + ' button');\n",
              "      quickchartButtonEl.disabled = true;  // To prevent multiple clicks.\n",
              "      quickchartButtonEl.classList.add('colab-df-spinner');\n",
              "      try {\n",
              "        const charts = await google.colab.kernel.invokeFunction(\n",
              "            'suggestCharts', [key], {});\n",
              "      } catch (error) {\n",
              "        console.error('Error during call to suggestCharts:', error);\n",
              "      }\n",
              "      quickchartButtonEl.classList.remove('colab-df-spinner');\n",
              "      quickchartButtonEl.classList.add('colab-df-quickchart-complete');\n",
              "    }\n",
              "    (() => {\n",
              "      let quickchartButtonEl =\n",
              "        document.querySelector('#df-15707ab5-c366-46ae-b326-355aca086dc6 button');\n",
              "      quickchartButtonEl.style.display =\n",
              "        google.colab.kernel.accessAllowed ? 'block' : 'none';\n",
              "    })();\n",
              "  </script>\n",
              "</div>\n",
              "    </div>\n",
              "  </div>\n"
            ],
            "application/vnd.google.colaboratory.intrinsic+json": {
              "type": "dataframe",
              "variable_name": "df",
              "summary": "{\n  \"name\": \"df\",\n  \"rows\": 10999,\n  \"fields\": [\n    {\n      \"column\": \"Customer_care_calls\",\n      \"properties\": {\n        \"dtype\": \"number\",\n        \"std\": 1,\n        \"min\": 2,\n        \"max\": 7,\n        \"num_unique_values\": 6,\n        \"samples\": [\n          4,\n          2,\n          7\n        ],\n        \"semantic_type\": \"\",\n        \"description\": \"\"\n      }\n    },\n    {\n      \"column\": \"Customer_rating\",\n      \"properties\": {\n        \"dtype\": \"number\",\n        \"std\": 1,\n        \"min\": 1,\n        \"max\": 5,\n        \"num_unique_values\": 5,\n        \"samples\": [\n          5,\n          4,\n          3\n        ],\n        \"semantic_type\": \"\",\n        \"description\": \"\"\n      }\n    },\n    {\n      \"column\": \"Cost_of_the_Product\",\n      \"properties\": {\n        \"dtype\": \"number\",\n        \"std\": 48,\n        \"min\": 96,\n        \"max\": 310,\n        \"num_unique_values\": 215,\n        \"samples\": [\n          306,\n          297,\n          262\n        ],\n        \"semantic_type\": \"\",\n        \"description\": \"\"\n      }\n    },\n    {\n      \"column\": \"Prior_purchases\",\n      \"properties\": {\n        \"dtype\": \"number\",\n        \"std\": 1,\n        \"min\": 2,\n        \"max\": 10,\n        \"num_unique_values\": 8,\n        \"samples\": [\n          2,\n          7,\n          3\n        ],\n        \"semantic_type\": \"\",\n        \"description\": \"\"\n      }\n    },\n    {\n      \"column\": \"Product_importance\",\n      \"properties\": {\n        \"dtype\": \"number\",\n        \"std\": 0,\n        \"min\": 0,\n        \"max\": 2,\n        \"num_unique_values\": 3,\n        \"samples\": [\n          0,\n          1,\n          2\n        ],\n        \"semantic_type\": \"\",\n        \"description\": \"\"\n      }\n    },\n    {\n      \"column\": \"Gender\",\n      \"properties\": {\n        \"dtype\": \"number\",\n        \"std\": 0,\n        \"min\": 0,\n        \"max\": 1,\n        \"num_unique_values\": 2,\n        \"samples\": [\n          0,\n          1\n        ],\n        \"semantic_type\": \"\",\n        \"description\": \"\"\n      }\n    },\n    {\n      \"column\": \"Discount_offered\",\n      \"properties\": {\n        \"dtype\": \"number\",\n        \"std\": 16,\n        \"min\": 1,\n        \"max\": 65,\n        \"num_unique_values\": 65,\n        \"samples\": [\n          25,\n          34\n        ],\n        \"semantic_type\": \"\",\n        \"description\": \"\"\n      }\n    },\n    {\n      \"column\": \"Weight_in_gms\",\n      \"properties\": {\n        \"dtype\": \"number\",\n        \"std\": 1635,\n        \"min\": 1001,\n        \"max\": 7846,\n        \"num_unique_values\": 4034,\n        \"samples\": [\n          5483,\n          1238\n        ],\n        \"semantic_type\": \"\",\n        \"description\": \"\"\n      }\n    },\n    {\n      \"column\": \"Reached.on.Time_Y.N\",\n      \"properties\": {\n        \"dtype\": \"number\",\n        \"std\": 0,\n        \"min\": 0,\n        \"max\": 1,\n        \"num_unique_values\": 2,\n        \"samples\": [\n          0,\n          1\n        ],\n        \"semantic_type\": \"\",\n        \"description\": \"\"\n      }\n    },\n    {\n      \"column\": \"Warehouse_block_0\",\n      \"properties\": {\n        \"dtype\": \"number\",\n        \"std\": 0,\n        \"min\": 0,\n        \"max\": 1,\n        \"num_unique_values\": 2,\n        \"samples\": [\n          1,\n          0\n        ],\n        \"semantic_type\": \"\",\n        \"description\": \"\"\n      }\n    },\n    {\n      \"column\": \"Warehouse_block_1\",\n      \"properties\": {\n        \"dtype\": \"number\",\n        \"std\": 0,\n        \"min\": 0,\n        \"max\": 1,\n        \"num_unique_values\": 2,\n        \"samples\": [\n          1,\n          0\n        ],\n        \"semantic_type\": \"\",\n        \"description\": \"\"\n      }\n    },\n    {\n      \"column\": \"Warehouse_block_2\",\n      \"properties\": {\n        \"dtype\": \"number\",\n        \"std\": 0,\n        \"min\": 0,\n        \"max\": 1,\n        \"num_unique_values\": 2,\n        \"samples\": [\n          1,\n          0\n        ],\n        \"semantic_type\": \"\",\n        \"description\": \"\"\n      }\n    },\n    {\n      \"column\": \"Warehouse_block_3\",\n      \"properties\": {\n        \"dtype\": \"number\",\n        \"std\": 0,\n        \"min\": 0,\n        \"max\": 1,\n        \"num_unique_values\": 2,\n        \"samples\": [\n          0,\n          1\n        ],\n        \"semantic_type\": \"\",\n        \"description\": \"\"\n      }\n    },\n    {\n      \"column\": \"Warehouse_block_4\",\n      \"properties\": {\n        \"dtype\": \"number\",\n        \"std\": 0,\n        \"min\": 0,\n        \"max\": 1,\n        \"num_unique_values\": 2,\n        \"samples\": [\n          1,\n          0\n        ],\n        \"semantic_type\": \"\",\n        \"description\": \"\"\n      }\n    },\n    {\n      \"column\": \"Mode_of_Shipment_0\",\n      \"properties\": {\n        \"dtype\": \"number\",\n        \"std\": 0,\n        \"min\": 0,\n        \"max\": 1,\n        \"num_unique_values\": 2,\n        \"samples\": [\n          0,\n          1\n        ],\n        \"semantic_type\": \"\",\n        \"description\": \"\"\n      }\n    },\n    {\n      \"column\": \"Mode_of_Shipment_1\",\n      \"properties\": {\n        \"dtype\": \"number\",\n        \"std\": 0,\n        \"min\": 0,\n        \"max\": 1,\n        \"num_unique_values\": 2,\n        \"samples\": [\n          1,\n          0\n        ],\n        \"semantic_type\": \"\",\n        \"description\": \"\"\n      }\n    },\n    {\n      \"column\": \"Mode_of_Shipment_2\",\n      \"properties\": {\n        \"dtype\": \"number\",\n        \"std\": 0,\n        \"min\": 0,\n        \"max\": 1,\n        \"num_unique_values\": 2,\n        \"samples\": [\n          1,\n          0\n        ],\n        \"semantic_type\": \"\",\n        \"description\": \"\"\n      }\n    }\n  ]\n}"
            }
          },
          "metadata": {},
          "execution_count": 13
        }
      ],
      "source": [
        "df"
      ]
    },
    {
      "cell_type": "code",
      "execution_count": 14,
      "id": "ac441b75",
      "metadata": {
        "id": "ac441b75"
      },
      "outputs": [],
      "source": [
        "# putting the y variable at the end of the dataset\n",
        "\n",
        "column_to_move = 'Reached.on.Time_Y.N'\n",
        "column = df.pop(column_to_move)\n",
        "df[column.name] = column"
      ]
    },
    {
      "cell_type": "markdown",
      "id": "2623afeb",
      "metadata": {
        "id": "2623afeb"
      },
      "source": [
        "# Normalizing the data set"
      ]
    },
    {
      "cell_type": "code",
      "execution_count": 15,
      "id": "a4af76dc",
      "metadata": {
        "id": "a4af76dc"
      },
      "outputs": [],
      "source": [
        "from sklearn.preprocessing import MinMaxScaler\n",
        "\n",
        "columns_to_normalize = ['Cost_of_the_Product', 'Discount_offered', 'Weight_in_gms']\n",
        "scaler = MinMaxScaler()\n",
        "df_normalized = df.copy()\n",
        "df_normalized[columns_to_normalize] = scaler.fit_transform(df_normalized[columns_to_normalize])"
      ]
    },
    {
      "cell_type": "code",
      "execution_count": 16,
      "id": "19e4a09b",
      "metadata": {
        "colab": {
          "base_uri": "https://localhost:8080/",
          "height": 443
        },
        "id": "19e4a09b",
        "outputId": "32d35a59-cd3d-41d1-bd74-0451c47a7c75"
      },
      "outputs": [
        {
          "output_type": "execute_result",
          "data": {
            "text/plain": [
              "       Customer_care_calls  Customer_rating  Cost_of_the_Product  \\\n",
              "0                        4                2             0.378505   \n",
              "1                        4                5             0.560748   \n",
              "2                        2                2             0.406542   \n",
              "3                        3                3             0.373832   \n",
              "4                        2                2             0.411215   \n",
              "...                    ...              ...                  ...   \n",
              "10994                    4                1             0.728972   \n",
              "10995                    4                1             0.635514   \n",
              "10996                    5                4             0.682243   \n",
              "10997                    5                2             0.593458   \n",
              "10998                    2                5             0.275701   \n",
              "\n",
              "       Prior_purchases  Product_importance  Gender  Discount_offered  \\\n",
              "0                    3                   0       1          0.671875   \n",
              "1                    2                   0       0          0.906250   \n",
              "2                    4                   0       0          0.734375   \n",
              "3                    4                   1       0          0.140625   \n",
              "4                    3                   1       1          0.703125   \n",
              "...                ...                 ...     ...               ...   \n",
              "10994                5                   1       1          0.000000   \n",
              "10995                5                   1       1          0.078125   \n",
              "10996                5                   0       1          0.046875   \n",
              "10997                6                   1       0          0.015625   \n",
              "10998                5                   0       1          0.078125   \n",
              "\n",
              "       Weight_in_gms  Warehouse_block_0  Warehouse_block_1  Warehouse_block_2  \\\n",
              "0           0.033893                  0                  0                  0   \n",
              "1           0.304894                  0                  0                  0   \n",
              "2           0.346676                  1                  0                  0   \n",
              "3           0.025712                  0                  1                  0   \n",
              "4           0.216654                  0                  0                  1   \n",
              "...              ...                ...                ...                ...   \n",
              "10994       0.078451                  1                  0                  0   \n",
              "10995       0.035939                  0                  1                  0   \n",
              "10996       0.022498                  0                  0                  1   \n",
              "10997       0.030533                  0                  0                  0   \n",
              "10998       0.093207                  0                  0                  0   \n",
              "\n",
              "       Warehouse_block_3  Warehouse_block_4  Mode_of_Shipment_0  \\\n",
              "0                      1                  0                   1   \n",
              "1                      0                  1                   1   \n",
              "2                      0                  0                   1   \n",
              "3                      0                  0                   1   \n",
              "4                      0                  0                   1   \n",
              "...                  ...                ...                 ...   \n",
              "10994                  0                  0                   0   \n",
              "10995                  0                  0                   0   \n",
              "10996                  0                  0                   0   \n",
              "10997                  0                  1                   0   \n",
              "10998                  1                  0                   0   \n",
              "\n",
              "       Mode_of_Shipment_1  Mode_of_Shipment_2  Reached.on.Time_Y.N  \n",
              "0                       0                   0                    1  \n",
              "1                       0                   0                    1  \n",
              "2                       0                   0                    1  \n",
              "3                       0                   0                    1  \n",
              "4                       0                   0                    1  \n",
              "...                   ...                 ...                  ...  \n",
              "10994                   0                   1                    1  \n",
              "10995                   0                   1                    0  \n",
              "10996                   0                   1                    0  \n",
              "10997                   0                   1                    0  \n",
              "10998                   0                   1                    0  \n",
              "\n",
              "[10999 rows x 17 columns]"
            ],
            "text/html": [
              "\n",
              "  <div id=\"df-9ecd8572-df64-4cbd-a174-77972a507f29\" class=\"colab-df-container\">\n",
              "    <div>\n",
              "<style scoped>\n",
              "    .dataframe tbody tr th:only-of-type {\n",
              "        vertical-align: middle;\n",
              "    }\n",
              "\n",
              "    .dataframe tbody tr th {\n",
              "        vertical-align: top;\n",
              "    }\n",
              "\n",
              "    .dataframe thead th {\n",
              "        text-align: right;\n",
              "    }\n",
              "</style>\n",
              "<table border=\"1\" class=\"dataframe\">\n",
              "  <thead>\n",
              "    <tr style=\"text-align: right;\">\n",
              "      <th></th>\n",
              "      <th>Customer_care_calls</th>\n",
              "      <th>Customer_rating</th>\n",
              "      <th>Cost_of_the_Product</th>\n",
              "      <th>Prior_purchases</th>\n",
              "      <th>Product_importance</th>\n",
              "      <th>Gender</th>\n",
              "      <th>Discount_offered</th>\n",
              "      <th>Weight_in_gms</th>\n",
              "      <th>Warehouse_block_0</th>\n",
              "      <th>Warehouse_block_1</th>\n",
              "      <th>Warehouse_block_2</th>\n",
              "      <th>Warehouse_block_3</th>\n",
              "      <th>Warehouse_block_4</th>\n",
              "      <th>Mode_of_Shipment_0</th>\n",
              "      <th>Mode_of_Shipment_1</th>\n",
              "      <th>Mode_of_Shipment_2</th>\n",
              "      <th>Reached.on.Time_Y.N</th>\n",
              "    </tr>\n",
              "  </thead>\n",
              "  <tbody>\n",
              "    <tr>\n",
              "      <th>0</th>\n",
              "      <td>4</td>\n",
              "      <td>2</td>\n",
              "      <td>0.378505</td>\n",
              "      <td>3</td>\n",
              "      <td>0</td>\n",
              "      <td>1</td>\n",
              "      <td>0.671875</td>\n",
              "      <td>0.033893</td>\n",
              "      <td>0</td>\n",
              "      <td>0</td>\n",
              "      <td>0</td>\n",
              "      <td>1</td>\n",
              "      <td>0</td>\n",
              "      <td>1</td>\n",
              "      <td>0</td>\n",
              "      <td>0</td>\n",
              "      <td>1</td>\n",
              "    </tr>\n",
              "    <tr>\n",
              "      <th>1</th>\n",
              "      <td>4</td>\n",
              "      <td>5</td>\n",
              "      <td>0.560748</td>\n",
              "      <td>2</td>\n",
              "      <td>0</td>\n",
              "      <td>0</td>\n",
              "      <td>0.906250</td>\n",
              "      <td>0.304894</td>\n",
              "      <td>0</td>\n",
              "      <td>0</td>\n",
              "      <td>0</td>\n",
              "      <td>0</td>\n",
              "      <td>1</td>\n",
              "      <td>1</td>\n",
              "      <td>0</td>\n",
              "      <td>0</td>\n",
              "      <td>1</td>\n",
              "    </tr>\n",
              "    <tr>\n",
              "      <th>2</th>\n",
              "      <td>2</td>\n",
              "      <td>2</td>\n",
              "      <td>0.406542</td>\n",
              "      <td>4</td>\n",
              "      <td>0</td>\n",
              "      <td>0</td>\n",
              "      <td>0.734375</td>\n",
              "      <td>0.346676</td>\n",
              "      <td>1</td>\n",
              "      <td>0</td>\n",
              "      <td>0</td>\n",
              "      <td>0</td>\n",
              "      <td>0</td>\n",
              "      <td>1</td>\n",
              "      <td>0</td>\n",
              "      <td>0</td>\n",
              "      <td>1</td>\n",
              "    </tr>\n",
              "    <tr>\n",
              "      <th>3</th>\n",
              "      <td>3</td>\n",
              "      <td>3</td>\n",
              "      <td>0.373832</td>\n",
              "      <td>4</td>\n",
              "      <td>1</td>\n",
              "      <td>0</td>\n",
              "      <td>0.140625</td>\n",
              "      <td>0.025712</td>\n",
              "      <td>0</td>\n",
              "      <td>1</td>\n",
              "      <td>0</td>\n",
              "      <td>0</td>\n",
              "      <td>0</td>\n",
              "      <td>1</td>\n",
              "      <td>0</td>\n",
              "      <td>0</td>\n",
              "      <td>1</td>\n",
              "    </tr>\n",
              "    <tr>\n",
              "      <th>4</th>\n",
              "      <td>2</td>\n",
              "      <td>2</td>\n",
              "      <td>0.411215</td>\n",
              "      <td>3</td>\n",
              "      <td>1</td>\n",
              "      <td>1</td>\n",
              "      <td>0.703125</td>\n",
              "      <td>0.216654</td>\n",
              "      <td>0</td>\n",
              "      <td>0</td>\n",
              "      <td>1</td>\n",
              "      <td>0</td>\n",
              "      <td>0</td>\n",
              "      <td>1</td>\n",
              "      <td>0</td>\n",
              "      <td>0</td>\n",
              "      <td>1</td>\n",
              "    </tr>\n",
              "    <tr>\n",
              "      <th>...</th>\n",
              "      <td>...</td>\n",
              "      <td>...</td>\n",
              "      <td>...</td>\n",
              "      <td>...</td>\n",
              "      <td>...</td>\n",
              "      <td>...</td>\n",
              "      <td>...</td>\n",
              "      <td>...</td>\n",
              "      <td>...</td>\n",
              "      <td>...</td>\n",
              "      <td>...</td>\n",
              "      <td>...</td>\n",
              "      <td>...</td>\n",
              "      <td>...</td>\n",
              "      <td>...</td>\n",
              "      <td>...</td>\n",
              "      <td>...</td>\n",
              "    </tr>\n",
              "    <tr>\n",
              "      <th>10994</th>\n",
              "      <td>4</td>\n",
              "      <td>1</td>\n",
              "      <td>0.728972</td>\n",
              "      <td>5</td>\n",
              "      <td>1</td>\n",
              "      <td>1</td>\n",
              "      <td>0.000000</td>\n",
              "      <td>0.078451</td>\n",
              "      <td>1</td>\n",
              "      <td>0</td>\n",
              "      <td>0</td>\n",
              "      <td>0</td>\n",
              "      <td>0</td>\n",
              "      <td>0</td>\n",
              "      <td>0</td>\n",
              "      <td>1</td>\n",
              "      <td>1</td>\n",
              "    </tr>\n",
              "    <tr>\n",
              "      <th>10995</th>\n",
              "      <td>4</td>\n",
              "      <td>1</td>\n",
              "      <td>0.635514</td>\n",
              "      <td>5</td>\n",
              "      <td>1</td>\n",
              "      <td>1</td>\n",
              "      <td>0.078125</td>\n",
              "      <td>0.035939</td>\n",
              "      <td>0</td>\n",
              "      <td>1</td>\n",
              "      <td>0</td>\n",
              "      <td>0</td>\n",
              "      <td>0</td>\n",
              "      <td>0</td>\n",
              "      <td>0</td>\n",
              "      <td>1</td>\n",
              "      <td>0</td>\n",
              "    </tr>\n",
              "    <tr>\n",
              "      <th>10996</th>\n",
              "      <td>5</td>\n",
              "      <td>4</td>\n",
              "      <td>0.682243</td>\n",
              "      <td>5</td>\n",
              "      <td>0</td>\n",
              "      <td>1</td>\n",
              "      <td>0.046875</td>\n",
              "      <td>0.022498</td>\n",
              "      <td>0</td>\n",
              "      <td>0</td>\n",
              "      <td>1</td>\n",
              "      <td>0</td>\n",
              "      <td>0</td>\n",
              "      <td>0</td>\n",
              "      <td>0</td>\n",
              "      <td>1</td>\n",
              "      <td>0</td>\n",
              "    </tr>\n",
              "    <tr>\n",
              "      <th>10997</th>\n",
              "      <td>5</td>\n",
              "      <td>2</td>\n",
              "      <td>0.593458</td>\n",
              "      <td>6</td>\n",
              "      <td>1</td>\n",
              "      <td>0</td>\n",
              "      <td>0.015625</td>\n",
              "      <td>0.030533</td>\n",
              "      <td>0</td>\n",
              "      <td>0</td>\n",
              "      <td>0</td>\n",
              "      <td>0</td>\n",
              "      <td>1</td>\n",
              "      <td>0</td>\n",
              "      <td>0</td>\n",
              "      <td>1</td>\n",
              "      <td>0</td>\n",
              "    </tr>\n",
              "    <tr>\n",
              "      <th>10998</th>\n",
              "      <td>2</td>\n",
              "      <td>5</td>\n",
              "      <td>0.275701</td>\n",
              "      <td>5</td>\n",
              "      <td>0</td>\n",
              "      <td>1</td>\n",
              "      <td>0.078125</td>\n",
              "      <td>0.093207</td>\n",
              "      <td>0</td>\n",
              "      <td>0</td>\n",
              "      <td>0</td>\n",
              "      <td>1</td>\n",
              "      <td>0</td>\n",
              "      <td>0</td>\n",
              "      <td>0</td>\n",
              "      <td>1</td>\n",
              "      <td>0</td>\n",
              "    </tr>\n",
              "  </tbody>\n",
              "</table>\n",
              "<p>10999 rows × 17 columns</p>\n",
              "</div>\n",
              "    <div class=\"colab-df-buttons\">\n",
              "\n",
              "  <div class=\"colab-df-container\">\n",
              "    <button class=\"colab-df-convert\" onclick=\"convertToInteractive('df-9ecd8572-df64-4cbd-a174-77972a507f29')\"\n",
              "            title=\"Convert this dataframe to an interactive table.\"\n",
              "            style=\"display:none;\">\n",
              "\n",
              "  <svg xmlns=\"http://www.w3.org/2000/svg\" height=\"24px\" viewBox=\"0 -960 960 960\">\n",
              "    <path d=\"M120-120v-720h720v720H120Zm60-500h600v-160H180v160Zm220 220h160v-160H400v160Zm0 220h160v-160H400v160ZM180-400h160v-160H180v160Zm440 0h160v-160H620v160ZM180-180h160v-160H180v160Zm440 0h160v-160H620v160Z\"/>\n",
              "  </svg>\n",
              "    </button>\n",
              "\n",
              "  <style>\n",
              "    .colab-df-container {\n",
              "      display:flex;\n",
              "      gap: 12px;\n",
              "    }\n",
              "\n",
              "    .colab-df-convert {\n",
              "      background-color: #E8F0FE;\n",
              "      border: none;\n",
              "      border-radius: 50%;\n",
              "      cursor: pointer;\n",
              "      display: none;\n",
              "      fill: #1967D2;\n",
              "      height: 32px;\n",
              "      padding: 0 0 0 0;\n",
              "      width: 32px;\n",
              "    }\n",
              "\n",
              "    .colab-df-convert:hover {\n",
              "      background-color: #E2EBFA;\n",
              "      box-shadow: 0px 1px 2px rgba(60, 64, 67, 0.3), 0px 1px 3px 1px rgba(60, 64, 67, 0.15);\n",
              "      fill: #174EA6;\n",
              "    }\n",
              "\n",
              "    .colab-df-buttons div {\n",
              "      margin-bottom: 4px;\n",
              "    }\n",
              "\n",
              "    [theme=dark] .colab-df-convert {\n",
              "      background-color: #3B4455;\n",
              "      fill: #D2E3FC;\n",
              "    }\n",
              "\n",
              "    [theme=dark] .colab-df-convert:hover {\n",
              "      background-color: #434B5C;\n",
              "      box-shadow: 0px 1px 3px 1px rgba(0, 0, 0, 0.15);\n",
              "      filter: drop-shadow(0px 1px 2px rgba(0, 0, 0, 0.3));\n",
              "      fill: #FFFFFF;\n",
              "    }\n",
              "  </style>\n",
              "\n",
              "    <script>\n",
              "      const buttonEl =\n",
              "        document.querySelector('#df-9ecd8572-df64-4cbd-a174-77972a507f29 button.colab-df-convert');\n",
              "      buttonEl.style.display =\n",
              "        google.colab.kernel.accessAllowed ? 'block' : 'none';\n",
              "\n",
              "      async function convertToInteractive(key) {\n",
              "        const element = document.querySelector('#df-9ecd8572-df64-4cbd-a174-77972a507f29');\n",
              "        const dataTable =\n",
              "          await google.colab.kernel.invokeFunction('convertToInteractive',\n",
              "                                                    [key], {});\n",
              "        if (!dataTable) return;\n",
              "\n",
              "        const docLinkHtml = 'Like what you see? Visit the ' +\n",
              "          '<a target=\"_blank\" href=https://colab.research.google.com/notebooks/data_table.ipynb>data table notebook</a>'\n",
              "          + ' to learn more about interactive tables.';\n",
              "        element.innerHTML = '';\n",
              "        dataTable['output_type'] = 'display_data';\n",
              "        await google.colab.output.renderOutput(dataTable, element);\n",
              "        const docLink = document.createElement('div');\n",
              "        docLink.innerHTML = docLinkHtml;\n",
              "        element.appendChild(docLink);\n",
              "      }\n",
              "    </script>\n",
              "  </div>\n",
              "\n",
              "\n",
              "<div id=\"df-1512a35b-0e0c-4bd7-94c7-f2ab0588237b\">\n",
              "  <button class=\"colab-df-quickchart\" onclick=\"quickchart('df-1512a35b-0e0c-4bd7-94c7-f2ab0588237b')\"\n",
              "            title=\"Suggest charts\"\n",
              "            style=\"display:none;\">\n",
              "\n",
              "<svg xmlns=\"http://www.w3.org/2000/svg\" height=\"24px\"viewBox=\"0 0 24 24\"\n",
              "     width=\"24px\">\n",
              "    <g>\n",
              "        <path d=\"M19 3H5c-1.1 0-2 .9-2 2v14c0 1.1.9 2 2 2h14c1.1 0 2-.9 2-2V5c0-1.1-.9-2-2-2zM9 17H7v-7h2v7zm4 0h-2V7h2v10zm4 0h-2v-4h2v4z\"/>\n",
              "    </g>\n",
              "</svg>\n",
              "  </button>\n",
              "\n",
              "<style>\n",
              "  .colab-df-quickchart {\n",
              "      --bg-color: #E8F0FE;\n",
              "      --fill-color: #1967D2;\n",
              "      --hover-bg-color: #E2EBFA;\n",
              "      --hover-fill-color: #174EA6;\n",
              "      --disabled-fill-color: #AAA;\n",
              "      --disabled-bg-color: #DDD;\n",
              "  }\n",
              "\n",
              "  [theme=dark] .colab-df-quickchart {\n",
              "      --bg-color: #3B4455;\n",
              "      --fill-color: #D2E3FC;\n",
              "      --hover-bg-color: #434B5C;\n",
              "      --hover-fill-color: #FFFFFF;\n",
              "      --disabled-bg-color: #3B4455;\n",
              "      --disabled-fill-color: #666;\n",
              "  }\n",
              "\n",
              "  .colab-df-quickchart {\n",
              "    background-color: var(--bg-color);\n",
              "    border: none;\n",
              "    border-radius: 50%;\n",
              "    cursor: pointer;\n",
              "    display: none;\n",
              "    fill: var(--fill-color);\n",
              "    height: 32px;\n",
              "    padding: 0;\n",
              "    width: 32px;\n",
              "  }\n",
              "\n",
              "  .colab-df-quickchart:hover {\n",
              "    background-color: var(--hover-bg-color);\n",
              "    box-shadow: 0 1px 2px rgba(60, 64, 67, 0.3), 0 1px 3px 1px rgba(60, 64, 67, 0.15);\n",
              "    fill: var(--button-hover-fill-color);\n",
              "  }\n",
              "\n",
              "  .colab-df-quickchart-complete:disabled,\n",
              "  .colab-df-quickchart-complete:disabled:hover {\n",
              "    background-color: var(--disabled-bg-color);\n",
              "    fill: var(--disabled-fill-color);\n",
              "    box-shadow: none;\n",
              "  }\n",
              "\n",
              "  .colab-df-spinner {\n",
              "    border: 2px solid var(--fill-color);\n",
              "    border-color: transparent;\n",
              "    border-bottom-color: var(--fill-color);\n",
              "    animation:\n",
              "      spin 1s steps(1) infinite;\n",
              "  }\n",
              "\n",
              "  @keyframes spin {\n",
              "    0% {\n",
              "      border-color: transparent;\n",
              "      border-bottom-color: var(--fill-color);\n",
              "      border-left-color: var(--fill-color);\n",
              "    }\n",
              "    20% {\n",
              "      border-color: transparent;\n",
              "      border-left-color: var(--fill-color);\n",
              "      border-top-color: var(--fill-color);\n",
              "    }\n",
              "    30% {\n",
              "      border-color: transparent;\n",
              "      border-left-color: var(--fill-color);\n",
              "      border-top-color: var(--fill-color);\n",
              "      border-right-color: var(--fill-color);\n",
              "    }\n",
              "    40% {\n",
              "      border-color: transparent;\n",
              "      border-right-color: var(--fill-color);\n",
              "      border-top-color: var(--fill-color);\n",
              "    }\n",
              "    60% {\n",
              "      border-color: transparent;\n",
              "      border-right-color: var(--fill-color);\n",
              "    }\n",
              "    80% {\n",
              "      border-color: transparent;\n",
              "      border-right-color: var(--fill-color);\n",
              "      border-bottom-color: var(--fill-color);\n",
              "    }\n",
              "    90% {\n",
              "      border-color: transparent;\n",
              "      border-bottom-color: var(--fill-color);\n",
              "    }\n",
              "  }\n",
              "</style>\n",
              "\n",
              "  <script>\n",
              "    async function quickchart(key) {\n",
              "      const quickchartButtonEl =\n",
              "        document.querySelector('#' + key + ' button');\n",
              "      quickchartButtonEl.disabled = true;  // To prevent multiple clicks.\n",
              "      quickchartButtonEl.classList.add('colab-df-spinner');\n",
              "      try {\n",
              "        const charts = await google.colab.kernel.invokeFunction(\n",
              "            'suggestCharts', [key], {});\n",
              "      } catch (error) {\n",
              "        console.error('Error during call to suggestCharts:', error);\n",
              "      }\n",
              "      quickchartButtonEl.classList.remove('colab-df-spinner');\n",
              "      quickchartButtonEl.classList.add('colab-df-quickchart-complete');\n",
              "    }\n",
              "    (() => {\n",
              "      let quickchartButtonEl =\n",
              "        document.querySelector('#df-1512a35b-0e0c-4bd7-94c7-f2ab0588237b button');\n",
              "      quickchartButtonEl.style.display =\n",
              "        google.colab.kernel.accessAllowed ? 'block' : 'none';\n",
              "    })();\n",
              "  </script>\n",
              "</div>\n",
              "    </div>\n",
              "  </div>\n"
            ],
            "application/vnd.google.colaboratory.intrinsic+json": {
              "type": "dataframe",
              "variable_name": "df_normalized",
              "summary": "{\n  \"name\": \"df_normalized\",\n  \"rows\": 10999,\n  \"fields\": [\n    {\n      \"column\": \"Customer_care_calls\",\n      \"properties\": {\n        \"dtype\": \"number\",\n        \"std\": 1,\n        \"min\": 2,\n        \"max\": 7,\n        \"num_unique_values\": 6,\n        \"samples\": [\n          4,\n          2,\n          7\n        ],\n        \"semantic_type\": \"\",\n        \"description\": \"\"\n      }\n    },\n    {\n      \"column\": \"Customer_rating\",\n      \"properties\": {\n        \"dtype\": \"number\",\n        \"std\": 1,\n        \"min\": 1,\n        \"max\": 5,\n        \"num_unique_values\": 5,\n        \"samples\": [\n          5,\n          4,\n          3\n        ],\n        \"semantic_type\": \"\",\n        \"description\": \"\"\n      }\n    },\n    {\n      \"column\": \"Cost_of_the_Product\",\n      \"properties\": {\n        \"dtype\": \"number\",\n        \"std\": 0.2245947278108999,\n        \"min\": 0.0,\n        \"max\": 0.9999999999999999,\n        \"num_unique_values\": 215,\n        \"samples\": [\n          0.9813084112149532,\n          0.9392523364485982,\n          0.7757009345794391\n        ],\n        \"semantic_type\": \"\",\n        \"description\": \"\"\n      }\n    },\n    {\n      \"column\": \"Prior_purchases\",\n      \"properties\": {\n        \"dtype\": \"number\",\n        \"std\": 1,\n        \"min\": 2,\n        \"max\": 10,\n        \"num_unique_values\": 8,\n        \"samples\": [\n          2,\n          7,\n          3\n        ],\n        \"semantic_type\": \"\",\n        \"description\": \"\"\n      }\n    },\n    {\n      \"column\": \"Product_importance\",\n      \"properties\": {\n        \"dtype\": \"number\",\n        \"std\": 0,\n        \"min\": 0,\n        \"max\": 2,\n        \"num_unique_values\": 3,\n        \"samples\": [\n          0,\n          1,\n          2\n        ],\n        \"semantic_type\": \"\",\n        \"description\": \"\"\n      }\n    },\n    {\n      \"column\": \"Gender\",\n      \"properties\": {\n        \"dtype\": \"number\",\n        \"std\": 0,\n        \"min\": 0,\n        \"max\": 1,\n        \"num_unique_values\": 2,\n        \"samples\": [\n          0,\n          1\n        ],\n        \"semantic_type\": \"\",\n        \"description\": \"\"\n      }\n    },\n    {\n      \"column\": \"Discount_offered\",\n      \"properties\": {\n        \"dtype\": \"number\",\n        \"std\": 0.2532113606350015,\n        \"min\": 0.0,\n        \"max\": 1.0,\n        \"num_unique_values\": 65,\n        \"samples\": [\n          0.375,\n          0.515625\n        ],\n        \"semantic_type\": \"\",\n        \"description\": \"\"\n      }\n    },\n    {\n      \"column\": \"Weight_in_gms\",\n      \"properties\": {\n        \"dtype\": \"number\",\n        \"std\": 0.23891559552985936,\n        \"min\": 0.0,\n        \"max\": 1.0,\n        \"num_unique_values\": 4034,\n        \"samples\": [\n          0.6547845142439737,\n          0.03462381300219139\n        ],\n        \"semantic_type\": \"\",\n        \"description\": \"\"\n      }\n    },\n    {\n      \"column\": \"Warehouse_block_0\",\n      \"properties\": {\n        \"dtype\": \"number\",\n        \"std\": 0,\n        \"min\": 0,\n        \"max\": 1,\n        \"num_unique_values\": 2,\n        \"samples\": [\n          1,\n          0\n        ],\n        \"semantic_type\": \"\",\n        \"description\": \"\"\n      }\n    },\n    {\n      \"column\": \"Warehouse_block_1\",\n      \"properties\": {\n        \"dtype\": \"number\",\n        \"std\": 0,\n        \"min\": 0,\n        \"max\": 1,\n        \"num_unique_values\": 2,\n        \"samples\": [\n          1,\n          0\n        ],\n        \"semantic_type\": \"\",\n        \"description\": \"\"\n      }\n    },\n    {\n      \"column\": \"Warehouse_block_2\",\n      \"properties\": {\n        \"dtype\": \"number\",\n        \"std\": 0,\n        \"min\": 0,\n        \"max\": 1,\n        \"num_unique_values\": 2,\n        \"samples\": [\n          1,\n          0\n        ],\n        \"semantic_type\": \"\",\n        \"description\": \"\"\n      }\n    },\n    {\n      \"column\": \"Warehouse_block_3\",\n      \"properties\": {\n        \"dtype\": \"number\",\n        \"std\": 0,\n        \"min\": 0,\n        \"max\": 1,\n        \"num_unique_values\": 2,\n        \"samples\": [\n          0,\n          1\n        ],\n        \"semantic_type\": \"\",\n        \"description\": \"\"\n      }\n    },\n    {\n      \"column\": \"Warehouse_block_4\",\n      \"properties\": {\n        \"dtype\": \"number\",\n        \"std\": 0,\n        \"min\": 0,\n        \"max\": 1,\n        \"num_unique_values\": 2,\n        \"samples\": [\n          1,\n          0\n        ],\n        \"semantic_type\": \"\",\n        \"description\": \"\"\n      }\n    },\n    {\n      \"column\": \"Mode_of_Shipment_0\",\n      \"properties\": {\n        \"dtype\": \"number\",\n        \"std\": 0,\n        \"min\": 0,\n        \"max\": 1,\n        \"num_unique_values\": 2,\n        \"samples\": [\n          0,\n          1\n        ],\n        \"semantic_type\": \"\",\n        \"description\": \"\"\n      }\n    },\n    {\n      \"column\": \"Mode_of_Shipment_1\",\n      \"properties\": {\n        \"dtype\": \"number\",\n        \"std\": 0,\n        \"min\": 0,\n        \"max\": 1,\n        \"num_unique_values\": 2,\n        \"samples\": [\n          1,\n          0\n        ],\n        \"semantic_type\": \"\",\n        \"description\": \"\"\n      }\n    },\n    {\n      \"column\": \"Mode_of_Shipment_2\",\n      \"properties\": {\n        \"dtype\": \"number\",\n        \"std\": 0,\n        \"min\": 0,\n        \"max\": 1,\n        \"num_unique_values\": 2,\n        \"samples\": [\n          1,\n          0\n        ],\n        \"semantic_type\": \"\",\n        \"description\": \"\"\n      }\n    },\n    {\n      \"column\": \"Reached.on.Time_Y.N\",\n      \"properties\": {\n        \"dtype\": \"number\",\n        \"std\": 0,\n        \"min\": 0,\n        \"max\": 1,\n        \"num_unique_values\": 2,\n        \"samples\": [\n          0,\n          1\n        ],\n        \"semantic_type\": \"\",\n        \"description\": \"\"\n      }\n    }\n  ]\n}"
            }
          },
          "metadata": {},
          "execution_count": 16
        }
      ],
      "source": [
        "df_normalized"
      ]
    },
    {
      "cell_type": "markdown",
      "id": "86af0f73",
      "metadata": {
        "id": "86af0f73"
      },
      "source": [
        "# Making training, validation and testing data sets"
      ]
    },
    {
      "cell_type": "code",
      "execution_count": 18,
      "id": "2ba5ba61",
      "metadata": {
        "id": "2ba5ba61"
      },
      "outputs": [],
      "source": [
        "X = df_normalized[df_normalized.columns[:-1]].values\n",
        "y = df_normalized[df_normalized.columns[-1]].values\n",
        "\n",
        "from sklearn.model_selection import train_test_split\n",
        "from imblearn.over_sampling import RandomOverSampler\n",
        "\n",
        "oversampler = RandomOverSampler(random_state=42)\n",
        "\n",
        "X_resampled, y_resampled = oversampler.fit_resample(X, y)\n",
        "\n",
        "X_train, X_temp, y_train, y_temp = train_test_split(X_resampled, y_resampled, test_size=0.2, random_state=42)\n",
        "X_val, X_test, y_val, y_test = train_test_split(X_temp, y_temp, test_size=0.5, random_state=42)"
      ]
    },
    {
      "cell_type": "markdown",
      "id": "9154fa96",
      "metadata": {
        "id": "9154fa96"
      },
      "source": [
        "# K nearest neighbors model"
      ]
    },
    {
      "cell_type": "code",
      "execution_count": 19,
      "id": "b038a055",
      "metadata": {
        "id": "b038a055"
      },
      "outputs": [],
      "source": [
        "from sklearn.neighbors import KNeighborsClassifier\n",
        "from sklearn.metrics import classification_report"
      ]
    },
    {
      "cell_type": "code",
      "execution_count": 20,
      "id": "2dd3a57f",
      "metadata": {
        "colab": {
          "base_uri": "https://localhost:8080/",
          "height": 74
        },
        "id": "2dd3a57f",
        "outputId": "eb6d7b1c-9726-4c7f-8f6d-9fe7a55285b1"
      },
      "outputs": [
        {
          "output_type": "execute_result",
          "data": {
            "text/plain": [
              "KNeighborsClassifier(n_neighbors=105)"
            ],
            "text/html": [
              "<style>#sk-container-id-1 {color: black;background-color: white;}#sk-container-id-1 pre{padding: 0;}#sk-container-id-1 div.sk-toggleable {background-color: white;}#sk-container-id-1 label.sk-toggleable__label {cursor: pointer;display: block;width: 100%;margin-bottom: 0;padding: 0.3em;box-sizing: border-box;text-align: center;}#sk-container-id-1 label.sk-toggleable__label-arrow:before {content: \"▸\";float: left;margin-right: 0.25em;color: #696969;}#sk-container-id-1 label.sk-toggleable__label-arrow:hover:before {color: black;}#sk-container-id-1 div.sk-estimator:hover label.sk-toggleable__label-arrow:before {color: black;}#sk-container-id-1 div.sk-toggleable__content {max-height: 0;max-width: 0;overflow: hidden;text-align: left;background-color: #f0f8ff;}#sk-container-id-1 div.sk-toggleable__content pre {margin: 0.2em;color: black;border-radius: 0.25em;background-color: #f0f8ff;}#sk-container-id-1 input.sk-toggleable__control:checked~div.sk-toggleable__content {max-height: 200px;max-width: 100%;overflow: auto;}#sk-container-id-1 input.sk-toggleable__control:checked~label.sk-toggleable__label-arrow:before {content: \"▾\";}#sk-container-id-1 div.sk-estimator input.sk-toggleable__control:checked~label.sk-toggleable__label {background-color: #d4ebff;}#sk-container-id-1 div.sk-label input.sk-toggleable__control:checked~label.sk-toggleable__label {background-color: #d4ebff;}#sk-container-id-1 input.sk-hidden--visually {border: 0;clip: rect(1px 1px 1px 1px);clip: rect(1px, 1px, 1px, 1px);height: 1px;margin: -1px;overflow: hidden;padding: 0;position: absolute;width: 1px;}#sk-container-id-1 div.sk-estimator {font-family: monospace;background-color: #f0f8ff;border: 1px dotted black;border-radius: 0.25em;box-sizing: border-box;margin-bottom: 0.5em;}#sk-container-id-1 div.sk-estimator:hover {background-color: #d4ebff;}#sk-container-id-1 div.sk-parallel-item::after {content: \"\";width: 100%;border-bottom: 1px solid gray;flex-grow: 1;}#sk-container-id-1 div.sk-label:hover label.sk-toggleable__label {background-color: #d4ebff;}#sk-container-id-1 div.sk-serial::before {content: \"\";position: absolute;border-left: 1px solid gray;box-sizing: border-box;top: 0;bottom: 0;left: 50%;z-index: 0;}#sk-container-id-1 div.sk-serial {display: flex;flex-direction: column;align-items: center;background-color: white;padding-right: 0.2em;padding-left: 0.2em;position: relative;}#sk-container-id-1 div.sk-item {position: relative;z-index: 1;}#sk-container-id-1 div.sk-parallel {display: flex;align-items: stretch;justify-content: center;background-color: white;position: relative;}#sk-container-id-1 div.sk-item::before, #sk-container-id-1 div.sk-parallel-item::before {content: \"\";position: absolute;border-left: 1px solid gray;box-sizing: border-box;top: 0;bottom: 0;left: 50%;z-index: -1;}#sk-container-id-1 div.sk-parallel-item {display: flex;flex-direction: column;z-index: 1;position: relative;background-color: white;}#sk-container-id-1 div.sk-parallel-item:first-child::after {align-self: flex-end;width: 50%;}#sk-container-id-1 div.sk-parallel-item:last-child::after {align-self: flex-start;width: 50%;}#sk-container-id-1 div.sk-parallel-item:only-child::after {width: 0;}#sk-container-id-1 div.sk-dashed-wrapped {border: 1px dashed gray;margin: 0 0.4em 0.5em 0.4em;box-sizing: border-box;padding-bottom: 0.4em;background-color: white;}#sk-container-id-1 div.sk-label label {font-family: monospace;font-weight: bold;display: inline-block;line-height: 1.2em;}#sk-container-id-1 div.sk-label-container {text-align: center;}#sk-container-id-1 div.sk-container {/* jupyter's `normalize.less` sets `[hidden] { display: none; }` but bootstrap.min.css set `[hidden] { display: none !important; }` so we also need the `!important` here to be able to override the default hidden behavior on the sphinx rendered scikit-learn.org. See: https://github.com/scikit-learn/scikit-learn/issues/21755 */display: inline-block !important;position: relative;}#sk-container-id-1 div.sk-text-repr-fallback {display: none;}</style><div id=\"sk-container-id-1\" class=\"sk-top-container\"><div class=\"sk-text-repr-fallback\"><pre>KNeighborsClassifier(n_neighbors=105)</pre><b>In a Jupyter environment, please rerun this cell to show the HTML representation or trust the notebook. <br />On GitHub, the HTML representation is unable to render, please try loading this page with nbviewer.org.</b></div><div class=\"sk-container\" hidden><div class=\"sk-item\"><div class=\"sk-estimator sk-toggleable\"><input class=\"sk-toggleable__control sk-hidden--visually\" id=\"sk-estimator-id-1\" type=\"checkbox\" checked><label for=\"sk-estimator-id-1\" class=\"sk-toggleable__label sk-toggleable__label-arrow\">KNeighborsClassifier</label><div class=\"sk-toggleable__content\"><pre>KNeighborsClassifier(n_neighbors=105)</pre></div></div></div></div></div>"
            ]
          },
          "metadata": {},
          "execution_count": 20
        }
      ],
      "source": [
        "knn_model = KNeighborsClassifier(n_neighbors=105)\n",
        "knn_model.fit(X_train, y_train)"
      ]
    },
    {
      "cell_type": "code",
      "execution_count": 21,
      "id": "6f75282e",
      "metadata": {
        "colab": {
          "base_uri": "https://localhost:8080/"
        },
        "id": "6f75282e",
        "outputId": "e22f76c0-cc57-4add-cefc-6fe05fd30f46"
      },
      "outputs": [
        {
          "output_type": "stream",
          "name": "stdout",
          "text": [
            "              precision    recall  f1-score   support\n",
            "\n",
            "           0       0.60      0.79      0.68       640\n",
            "           1       0.72      0.50      0.59       673\n",
            "\n",
            "    accuracy                           0.64      1313\n",
            "   macro avg       0.66      0.65      0.64      1313\n",
            "weighted avg       0.66      0.64      0.63      1313\n",
            "\n"
          ]
        }
      ],
      "source": [
        "y_prediction_knn = knn_model.predict(X_test)\n",
        "print(classification_report(y_test, y_prediction_knn))"
      ]
    },
    {
      "cell_type": "markdown",
      "id": "5aa1fea3",
      "metadata": {
        "id": "5aa1fea3"
      },
      "source": [
        "# Naive bayes model"
      ]
    },
    {
      "cell_type": "code",
      "execution_count": 22,
      "id": "aa2f483e",
      "metadata": {
        "id": "aa2f483e"
      },
      "outputs": [],
      "source": [
        "from sklearn.naive_bayes import GaussianNB"
      ]
    },
    {
      "cell_type": "code",
      "execution_count": 23,
      "id": "c19614ca",
      "metadata": {
        "id": "c19614ca"
      },
      "outputs": [],
      "source": [
        "nb_model = GaussianNB()\n",
        "nb_model = nb_model.fit(X_train, y_train)"
      ]
    },
    {
      "cell_type": "code",
      "execution_count": 24,
      "id": "55883af7",
      "metadata": {
        "id": "55883af7"
      },
      "outputs": [],
      "source": [
        "y_prediction_nb = nb_model.predict(X_test)"
      ]
    },
    {
      "cell_type": "code",
      "execution_count": 25,
      "id": "1521655e",
      "metadata": {
        "colab": {
          "base_uri": "https://localhost:8080/"
        },
        "id": "1521655e",
        "outputId": "8ed0e1e8-c819-44f1-f9db-963d2bb97662"
      },
      "outputs": [
        {
          "output_type": "stream",
          "name": "stdout",
          "text": [
            "              precision    recall  f1-score   support\n",
            "\n",
            "           0       0.62      1.00      0.77       640\n",
            "           1       1.00      0.42      0.59       673\n",
            "\n",
            "    accuracy                           0.70      1313\n",
            "   macro avg       0.81      0.71      0.68      1313\n",
            "weighted avg       0.81      0.70      0.68      1313\n",
            "\n"
          ]
        }
      ],
      "source": [
        "print(classification_report(y_test, y_prediction_nb))"
      ]
    },
    {
      "cell_type": "markdown",
      "id": "da1df1c7",
      "metadata": {
        "id": "da1df1c7"
      },
      "source": [
        "# Logistic Regression"
      ]
    },
    {
      "cell_type": "code",
      "execution_count": 26,
      "id": "2529b4e0",
      "metadata": {
        "id": "2529b4e0"
      },
      "outputs": [],
      "source": [
        "from sklearn.linear_model import LogisticRegression"
      ]
    },
    {
      "cell_type": "code",
      "execution_count": 27,
      "id": "62b84529",
      "metadata": {
        "id": "62b84529"
      },
      "outputs": [],
      "source": [
        "lg_model = LogisticRegression(max_iter=1000)\n",
        "lg_model = lg_model.fit(X_train, y_train)"
      ]
    },
    {
      "cell_type": "code",
      "execution_count": 28,
      "id": "3245a3c0",
      "metadata": {
        "colab": {
          "base_uri": "https://localhost:8080/"
        },
        "id": "3245a3c0",
        "outputId": "77ee1f9c-f048-4c0d-8a11-2cce72813b17"
      },
      "outputs": [
        {
          "output_type": "stream",
          "name": "stdout",
          "text": [
            "              precision    recall  f1-score   support\n",
            "\n",
            "           0       0.63      0.83      0.72       640\n",
            "           1       0.77      0.54      0.63       673\n",
            "\n",
            "    accuracy                           0.68      1313\n",
            "   macro avg       0.70      0.68      0.68      1313\n",
            "weighted avg       0.70      0.68      0.67      1313\n",
            "\n"
          ]
        }
      ],
      "source": [
        "y_prediction_lg = lg_model.predict(X_test)\n",
        "print(classification_report(y_test, y_prediction_lg))"
      ]
    },
    {
      "cell_type": "markdown",
      "id": "9a5effb5",
      "metadata": {
        "id": "9a5effb5"
      },
      "source": [
        "# Support Vector Machines"
      ]
    },
    {
      "cell_type": "code",
      "execution_count": 29,
      "id": "db75399d",
      "metadata": {
        "id": "db75399d"
      },
      "outputs": [],
      "source": [
        "from sklearn.svm import SVC"
      ]
    },
    {
      "cell_type": "code",
      "execution_count": 30,
      "id": "31a14543",
      "metadata": {
        "id": "31a14543"
      },
      "outputs": [],
      "source": [
        "svm_model = SVC()\n",
        "svm_model = svm_model.fit(X_train, y_train)"
      ]
    },
    {
      "cell_type": "code",
      "execution_count": 31,
      "id": "245e4fc8",
      "metadata": {
        "colab": {
          "base_uri": "https://localhost:8080/"
        },
        "id": "245e4fc8",
        "outputId": "2425e755-60ab-4b88-fb65-325d6f9cb6c9"
      },
      "outputs": [
        {
          "output_type": "stream",
          "name": "stdout",
          "text": [
            "              precision    recall  f1-score   support\n",
            "\n",
            "           0       0.63      0.98      0.77       640\n",
            "           1       0.97      0.45      0.62       673\n",
            "\n",
            "    accuracy                           0.71      1313\n",
            "   macro avg       0.80      0.72      0.69      1313\n",
            "weighted avg       0.80      0.71      0.69      1313\n",
            "\n"
          ]
        }
      ],
      "source": [
        "y_prediction_svm = svm_model.predict(X_test)\n",
        "print(classification_report(y_test, y_prediction_svm))"
      ]
    },
    {
      "cell_type": "markdown",
      "id": "f2ffcd30",
      "metadata": {
        "id": "f2ffcd30"
      },
      "source": [
        "# Random forest classification"
      ]
    },
    {
      "cell_type": "code",
      "execution_count": 32,
      "id": "35ecffa8",
      "metadata": {
        "id": "35ecffa8"
      },
      "outputs": [],
      "source": [
        "from sklearn.ensemble import RandomForestClassifier\n",
        "from sklearn.metrics import accuracy_score, confusion_matrix, precision_score, recall_score, ConfusionMatrixDisplay\n",
        "from sklearn.model_selection import RandomizedSearchCV, train_test_split\n",
        "from scipy.stats import randint\n",
        "\n",
        "from sklearn.tree import export_graphviz\n",
        "from IPython.display import Image\n",
        "import graphviz"
      ]
    },
    {
      "cell_type": "markdown",
      "id": "88d8e425",
      "metadata": {
        "id": "88d8e425"
      },
      "source": [
        "Since random forest classification doesn't need normalization, we will be splitting the original dataset before normalization."
      ]
    },
    {
      "cell_type": "code",
      "execution_count": 33,
      "id": "0651cca0",
      "metadata": {
        "id": "0651cca0"
      },
      "outputs": [],
      "source": [
        "X_df = df[df.columns[:-1]].values\n",
        "y_df = df[df.columns[-1]].values\n",
        "\n",
        "oversampler = RandomOverSampler(random_state=42)\n",
        "\n",
        "X_resampled_df, y_resampled_df = oversampler.fit_resample(X_df, y_df)\n",
        "\n",
        "X_train_df, X_temp_df, y_train_df, y_temp_df = train_test_split(X_resampled_df, y_resampled_df, test_size=0.2, random_state=42)\n",
        "X_val_df, X_test_df, y_val_df, y_test_df = train_test_split(X_temp_df, y_temp_df, test_size=0.5, random_state=42)"
      ]
    },
    {
      "cell_type": "code",
      "execution_count": 34,
      "id": "bca2f919",
      "metadata": {
        "colab": {
          "base_uri": "https://localhost:8080/",
          "height": 74
        },
        "id": "bca2f919",
        "outputId": "d6fbed8f-742f-4d3c-9811-f7fbeac0efa6"
      },
      "outputs": [
        {
          "output_type": "execute_result",
          "data": {
            "text/plain": [
              "RandomForestClassifier(random_state=42)"
            ],
            "text/html": [
              "<style>#sk-container-id-2 {color: black;background-color: white;}#sk-container-id-2 pre{padding: 0;}#sk-container-id-2 div.sk-toggleable {background-color: white;}#sk-container-id-2 label.sk-toggleable__label {cursor: pointer;display: block;width: 100%;margin-bottom: 0;padding: 0.3em;box-sizing: border-box;text-align: center;}#sk-container-id-2 label.sk-toggleable__label-arrow:before {content: \"▸\";float: left;margin-right: 0.25em;color: #696969;}#sk-container-id-2 label.sk-toggleable__label-arrow:hover:before {color: black;}#sk-container-id-2 div.sk-estimator:hover label.sk-toggleable__label-arrow:before {color: black;}#sk-container-id-2 div.sk-toggleable__content {max-height: 0;max-width: 0;overflow: hidden;text-align: left;background-color: #f0f8ff;}#sk-container-id-2 div.sk-toggleable__content pre {margin: 0.2em;color: black;border-radius: 0.25em;background-color: #f0f8ff;}#sk-container-id-2 input.sk-toggleable__control:checked~div.sk-toggleable__content {max-height: 200px;max-width: 100%;overflow: auto;}#sk-container-id-2 input.sk-toggleable__control:checked~label.sk-toggleable__label-arrow:before {content: \"▾\";}#sk-container-id-2 div.sk-estimator input.sk-toggleable__control:checked~label.sk-toggleable__label {background-color: #d4ebff;}#sk-container-id-2 div.sk-label input.sk-toggleable__control:checked~label.sk-toggleable__label {background-color: #d4ebff;}#sk-container-id-2 input.sk-hidden--visually {border: 0;clip: rect(1px 1px 1px 1px);clip: rect(1px, 1px, 1px, 1px);height: 1px;margin: -1px;overflow: hidden;padding: 0;position: absolute;width: 1px;}#sk-container-id-2 div.sk-estimator {font-family: monospace;background-color: #f0f8ff;border: 1px dotted black;border-radius: 0.25em;box-sizing: border-box;margin-bottom: 0.5em;}#sk-container-id-2 div.sk-estimator:hover {background-color: #d4ebff;}#sk-container-id-2 div.sk-parallel-item::after {content: \"\";width: 100%;border-bottom: 1px solid gray;flex-grow: 1;}#sk-container-id-2 div.sk-label:hover label.sk-toggleable__label {background-color: #d4ebff;}#sk-container-id-2 div.sk-serial::before {content: \"\";position: absolute;border-left: 1px solid gray;box-sizing: border-box;top: 0;bottom: 0;left: 50%;z-index: 0;}#sk-container-id-2 div.sk-serial {display: flex;flex-direction: column;align-items: center;background-color: white;padding-right: 0.2em;padding-left: 0.2em;position: relative;}#sk-container-id-2 div.sk-item {position: relative;z-index: 1;}#sk-container-id-2 div.sk-parallel {display: flex;align-items: stretch;justify-content: center;background-color: white;position: relative;}#sk-container-id-2 div.sk-item::before, #sk-container-id-2 div.sk-parallel-item::before {content: \"\";position: absolute;border-left: 1px solid gray;box-sizing: border-box;top: 0;bottom: 0;left: 50%;z-index: -1;}#sk-container-id-2 div.sk-parallel-item {display: flex;flex-direction: column;z-index: 1;position: relative;background-color: white;}#sk-container-id-2 div.sk-parallel-item:first-child::after {align-self: flex-end;width: 50%;}#sk-container-id-2 div.sk-parallel-item:last-child::after {align-self: flex-start;width: 50%;}#sk-container-id-2 div.sk-parallel-item:only-child::after {width: 0;}#sk-container-id-2 div.sk-dashed-wrapped {border: 1px dashed gray;margin: 0 0.4em 0.5em 0.4em;box-sizing: border-box;padding-bottom: 0.4em;background-color: white;}#sk-container-id-2 div.sk-label label {font-family: monospace;font-weight: bold;display: inline-block;line-height: 1.2em;}#sk-container-id-2 div.sk-label-container {text-align: center;}#sk-container-id-2 div.sk-container {/* jupyter's `normalize.less` sets `[hidden] { display: none; }` but bootstrap.min.css set `[hidden] { display: none !important; }` so we also need the `!important` here to be able to override the default hidden behavior on the sphinx rendered scikit-learn.org. See: https://github.com/scikit-learn/scikit-learn/issues/21755 */display: inline-block !important;position: relative;}#sk-container-id-2 div.sk-text-repr-fallback {display: none;}</style><div id=\"sk-container-id-2\" class=\"sk-top-container\"><div class=\"sk-text-repr-fallback\"><pre>RandomForestClassifier(random_state=42)</pre><b>In a Jupyter environment, please rerun this cell to show the HTML representation or trust the notebook. <br />On GitHub, the HTML representation is unable to render, please try loading this page with nbviewer.org.</b></div><div class=\"sk-container\" hidden><div class=\"sk-item\"><div class=\"sk-estimator sk-toggleable\"><input class=\"sk-toggleable__control sk-hidden--visually\" id=\"sk-estimator-id-2\" type=\"checkbox\" checked><label for=\"sk-estimator-id-2\" class=\"sk-toggleable__label sk-toggleable__label-arrow\">RandomForestClassifier</label><div class=\"sk-toggleable__content\"><pre>RandomForestClassifier(random_state=42)</pre></div></div></div></div></div>"
            ]
          },
          "metadata": {},
          "execution_count": 34
        }
      ],
      "source": [
        "rf = RandomForestClassifier(random_state=42)\n",
        "rf.fit(X_train_df, y_train_df)"
      ]
    },
    {
      "cell_type": "code",
      "execution_count": 35,
      "id": "34bcb90d",
      "metadata": {
        "colab": {
          "base_uri": "https://localhost:8080/"
        },
        "id": "34bcb90d",
        "outputId": "1b836d8f-cf00-4d80-e04c-a95290e3816e"
      },
      "outputs": [
        {
          "output_type": "stream",
          "name": "stdout",
          "text": [
            "              precision    recall  f1-score   support\n",
            "\n",
            "           0       0.67      0.90      0.77       640\n",
            "           1       0.86      0.59      0.70       673\n",
            "\n",
            "    accuracy                           0.74      1313\n",
            "   macro avg       0.77      0.74      0.73      1313\n",
            "weighted avg       0.77      0.74      0.73      1313\n",
            "\n"
          ]
        }
      ],
      "source": [
        "y_prediction_rf = rf.predict(X_test_df)\n",
        "print(classification_report(y_test_df, y_prediction_rf))"
      ]
    },
    {
      "cell_type": "code",
      "execution_count": 36,
      "id": "21ceea4f",
      "metadata": {
        "colab": {
          "base_uri": "https://localhost:8080/",
          "height": 1000
        },
        "id": "21ceea4f",
        "outputId": "1e06e2d7-63c2-48d1-9815-85f0c4a33375"
      },
      "outputs": [
        {
          "output_type": "display_data",
          "data": {
            "image/svg+xml": "<?xml version=\"1.0\" encoding=\"UTF-8\" standalone=\"no\"?>\n<!DOCTYPE svg PUBLIC \"-//W3C//DTD SVG 1.1//EN\"\n \"http://www.w3.org/Graphics/SVG/1.1/DTD/svg11.dtd\">\n<!-- Generated by graphviz version 2.43.0 (0)\n -->\n<!-- Title: Tree Pages: 1 -->\n<svg width=\"734pt\" height=\"311pt\"\n viewBox=\"0.00 0.00 733.50 311.00\" xmlns=\"http://www.w3.org/2000/svg\" xmlns:xlink=\"http://www.w3.org/1999/xlink\">\n<g id=\"graph0\" class=\"graph\" transform=\"scale(1 1) rotate(0) translate(4 307)\">\n<title>Tree</title>\n<polygon fill=\"white\" stroke=\"transparent\" points=\"-4,4 -4,-307 729.5,-307 729.5,4 -4,4\"/>\n<!-- 0 -->\n<g id=\"node1\" class=\"node\">\n<title>0</title>\n<polygon fill=\"#fefeff\" stroke=\"black\" points=\"495,-303 294,-303 294,-250 495,-250 495,-303\"/>\n<text text-anchor=\"middle\" x=\"394.5\" y=\"-287.8\" font-family=\"Helvetica,sans-Serif\" font-size=\"14.00\">Cost_of_the_Product &lt;= 192.5</text>\n<text text-anchor=\"middle\" x=\"394.5\" y=\"-272.8\" font-family=\"Helvetica,sans-Serif\" font-size=\"14.00\">samples = 100.0%</text>\n<text text-anchor=\"middle\" x=\"394.5\" y=\"-257.8\" font-family=\"Helvetica,sans-Serif\" font-size=\"14.00\">value = [0.498, 0.502]</text>\n</g>\n<!-- 1 -->\n<g id=\"node2\" class=\"node\">\n<title>1</title>\n<polygon fill=\"#e3f1fb\" stroke=\"black\" points=\"389,-214 208,-214 208,-161 389,-161 389,-214\"/>\n<text text-anchor=\"middle\" x=\"298.5\" y=\"-198.8\" font-family=\"Helvetica,sans-Serif\" font-size=\"14.00\">Product_importance &lt;= 1.5</text>\n<text text-anchor=\"middle\" x=\"298.5\" y=\"-183.8\" font-family=\"Helvetica,sans-Serif\" font-size=\"14.00\">samples = 37.2%</text>\n<text text-anchor=\"middle\" x=\"298.5\" y=\"-168.8\" font-family=\"Helvetica,sans-Serif\" font-size=\"14.00\">value = [0.462, 0.538]</text>\n</g>\n<!-- 0&#45;&gt;1 -->\n<g id=\"edge1\" class=\"edge\">\n<title>0&#45;&gt;1</title>\n<path fill=\"none\" stroke=\"black\" d=\"M366.22,-249.87C356.25,-240.83 344.9,-230.55 334.39,-221.03\"/>\n<polygon fill=\"black\" stroke=\"black\" points=\"336.67,-218.37 326.91,-214.25 331.97,-223.56 336.67,-218.37\"/>\n<text text-anchor=\"middle\" x=\"328.14\" y=\"-235.52\" font-family=\"Helvetica,sans-Serif\" font-size=\"14.00\">True</text>\n</g>\n<!-- 1414 -->\n<g id=\"node9\" class=\"node\">\n<title>1414</title>\n<polygon fill=\"#fdf5f0\" stroke=\"black\" points=\"576,-214 407,-214 407,-161 576,-161 576,-214\"/>\n<text text-anchor=\"middle\" x=\"491.5\" y=\"-198.8\" font-family=\"Helvetica,sans-Serif\" font-size=\"14.00\">Discount_offered &lt;= 10.5</text>\n<text text-anchor=\"middle\" x=\"491.5\" y=\"-183.8\" font-family=\"Helvetica,sans-Serif\" font-size=\"14.00\">samples = 62.8%</text>\n<text text-anchor=\"middle\" x=\"491.5\" y=\"-168.8\" font-family=\"Helvetica,sans-Serif\" font-size=\"14.00\">value = [0.52, 0.48]</text>\n</g>\n<!-- 0&#45;&gt;1414 -->\n<g id=\"edge8\" class=\"edge\">\n<title>0&#45;&gt;1414</title>\n<path fill=\"none\" stroke=\"black\" d=\"M423.08,-249.87C433.15,-240.83 444.61,-230.55 455.24,-221.03\"/>\n<polygon fill=\"black\" stroke=\"black\" points=\"457.68,-223.53 462.79,-214.25 453.01,-218.32 457.68,-223.53\"/>\n<text text-anchor=\"middle\" x=\"461.43\" y=\"-235.51\" font-family=\"Helvetica,sans-Serif\" font-size=\"14.00\">False</text>\n</g>\n<!-- 2 -->\n<g id=\"node3\" class=\"node\">\n<title>2</title>\n<polygon fill=\"#e6f3fc\" stroke=\"black\" points=\"201,-125 0,-125 0,-72 201,-72 201,-125\"/>\n<text text-anchor=\"middle\" x=\"100.5\" y=\"-109.8\" font-family=\"Helvetica,sans-Serif\" font-size=\"14.00\">Cost_of_the_Product &lt;= 189.5</text>\n<text text-anchor=\"middle\" x=\"100.5\" y=\"-94.8\" font-family=\"Helvetica,sans-Serif\" font-size=\"14.00\">samples = 33.5%</text>\n<text text-anchor=\"middle\" x=\"100.5\" y=\"-79.8\" font-family=\"Helvetica,sans-Serif\" font-size=\"14.00\">value = [0.467, 0.533]</text>\n</g>\n<!-- 1&#45;&gt;2 -->\n<g id=\"edge2\" class=\"edge\">\n<title>1&#45;&gt;2</title>\n<path fill=\"none\" stroke=\"black\" d=\"M240.43,-160.98C217.66,-150.98 191.39,-139.44 167.8,-129.07\"/>\n<polygon fill=\"black\" stroke=\"black\" points=\"169.13,-125.83 158.57,-125.01 166.31,-132.24 169.13,-125.83\"/>\n</g>\n<!-- 1299 -->\n<g id=\"node6\" class=\"node\">\n<title>1299</title>\n<polygon fill=\"#c5e2f7\" stroke=\"black\" points=\"379.5,-125 219.5,-125 219.5,-72 379.5,-72 379.5,-125\"/>\n<text text-anchor=\"middle\" x=\"299.5\" y=\"-109.8\" font-family=\"Helvetica,sans-Serif\" font-size=\"14.00\">Customer_rating &lt;= 1.5</text>\n<text text-anchor=\"middle\" x=\"299.5\" y=\"-94.8\" font-family=\"Helvetica,sans-Serif\" font-size=\"14.00\">samples = 3.7%</text>\n<text text-anchor=\"middle\" x=\"299.5\" y=\"-79.8\" font-family=\"Helvetica,sans-Serif\" font-size=\"14.00\">value = [0.415, 0.585]</text>\n</g>\n<!-- 1&#45;&gt;1299 -->\n<g id=\"edge5\" class=\"edge\">\n<title>1&#45;&gt;1299</title>\n<path fill=\"none\" stroke=\"black\" d=\"M298.79,-160.87C298.89,-152.89 298.99,-143.93 299.09,-135.38\"/>\n<polygon fill=\"black\" stroke=\"black\" points=\"302.59,-135.29 299.2,-125.25 295.59,-135.21 302.59,-135.29\"/>\n</g>\n<!-- 3 -->\n<g id=\"node4\" class=\"node\">\n<title>3</title>\n<polygon fill=\"#c0c0c0\" stroke=\"black\" points=\"91.5,-36 37.5,-36 37.5,0 91.5,0 91.5,-36\"/>\n<text text-anchor=\"middle\" x=\"64.5\" y=\"-14.3\" font-family=\"Helvetica,sans-Serif\" font-size=\"14.00\">(...)</text>\n</g>\n<!-- 2&#45;&gt;3 -->\n<g id=\"edge3\" class=\"edge\">\n<title>2&#45;&gt;3</title>\n<path fill=\"none\" stroke=\"black\" d=\"M88.71,-71.8C84.84,-63.35 80.53,-53.95 76.63,-45.45\"/>\n<polygon fill=\"black\" stroke=\"black\" points=\"79.8,-43.96 72.45,-36.33 73.43,-46.88 79.8,-43.96\"/>\n</g>\n<!-- 1252 -->\n<g id=\"node5\" class=\"node\">\n<title>1252</title>\n<polygon fill=\"#c0c0c0\" stroke=\"black\" points=\"163.5,-36 109.5,-36 109.5,0 163.5,0 163.5,-36\"/>\n<text text-anchor=\"middle\" x=\"136.5\" y=\"-14.3\" font-family=\"Helvetica,sans-Serif\" font-size=\"14.00\">(...)</text>\n</g>\n<!-- 2&#45;&gt;1252 -->\n<g id=\"edge4\" class=\"edge\">\n<title>2&#45;&gt;1252</title>\n<path fill=\"none\" stroke=\"black\" d=\"M112.29,-71.8C116.16,-63.35 120.47,-53.95 124.37,-45.45\"/>\n<polygon fill=\"black\" stroke=\"black\" points=\"127.57,-46.88 128.55,-36.33 121.2,-43.96 127.57,-46.88\"/>\n</g>\n<!-- 1300 -->\n<g id=\"node7\" class=\"node\">\n<title>1300</title>\n<polygon fill=\"#c0c0c0\" stroke=\"black\" points=\"302.5,-36 248.5,-36 248.5,0 302.5,0 302.5,-36\"/>\n<text text-anchor=\"middle\" x=\"275.5\" y=\"-14.3\" font-family=\"Helvetica,sans-Serif\" font-size=\"14.00\">(...)</text>\n</g>\n<!-- 1299&#45;&gt;1300 -->\n<g id=\"edge6\" class=\"edge\">\n<title>1299&#45;&gt;1300</title>\n<path fill=\"none\" stroke=\"black\" d=\"M291.64,-71.8C289.11,-63.53 286.31,-54.35 283.75,-46\"/>\n<polygon fill=\"black\" stroke=\"black\" points=\"287.07,-44.87 280.8,-36.33 280.38,-46.92 287.07,-44.87\"/>\n</g>\n<!-- 1329 -->\n<g id=\"node8\" class=\"node\">\n<title>1329</title>\n<polygon fill=\"#c0c0c0\" stroke=\"black\" points=\"374.5,-36 320.5,-36 320.5,0 374.5,0 374.5,-36\"/>\n<text text-anchor=\"middle\" x=\"347.5\" y=\"-14.3\" font-family=\"Helvetica,sans-Serif\" font-size=\"14.00\">(...)</text>\n</g>\n<!-- 1299&#45;&gt;1329 -->\n<g id=\"edge7\" class=\"edge\">\n<title>1299&#45;&gt;1329</title>\n<path fill=\"none\" stroke=\"black\" d=\"M315.22,-71.8C320.49,-63.17 326.38,-53.54 331.66,-44.9\"/>\n<polygon fill=\"black\" stroke=\"black\" points=\"334.67,-46.69 336.9,-36.33 328.7,-43.04 334.67,-46.69\"/>\n</g>\n<!-- 1415 -->\n<g id=\"node10\" class=\"node\">\n<title>1415</title>\n<polygon fill=\"#f5cfb4\" stroke=\"black\" points=\"585,-125 398,-125 398,-72 585,-72 585,-125\"/>\n<text text-anchor=\"middle\" x=\"491.5\" y=\"-109.8\" font-family=\"Helvetica,sans-Serif\" font-size=\"14.00\">Customer_care_calls &lt;= 6.5</text>\n<text text-anchor=\"middle\" x=\"491.5\" y=\"-94.8\" font-family=\"Helvetica,sans-Serif\" font-size=\"14.00\">samples = 52.8%</text>\n<text text-anchor=\"middle\" x=\"491.5\" y=\"-79.8\" font-family=\"Helvetica,sans-Serif\" font-size=\"14.00\">value = [0.617, 0.383]</text>\n</g>\n<!-- 1414&#45;&gt;1415 -->\n<g id=\"edge9\" class=\"edge\">\n<title>1414&#45;&gt;1415</title>\n<path fill=\"none\" stroke=\"black\" d=\"M491.5,-160.87C491.5,-152.89 491.5,-143.93 491.5,-135.38\"/>\n<polygon fill=\"black\" stroke=\"black\" points=\"495,-135.25 491.5,-125.25 488,-135.25 495,-135.25\"/>\n</g>\n<!-- 4390 -->\n<g id=\"node13\" class=\"node\">\n<title>4390</title>\n<polygon fill=\"#399de5\" stroke=\"black\" points=\"725.5,-117.5 603.5,-117.5 603.5,-79.5 725.5,-79.5 725.5,-117.5\"/>\n<text text-anchor=\"middle\" x=\"664.5\" y=\"-102.3\" font-family=\"Helvetica,sans-Serif\" font-size=\"14.00\">samples = 10.0%</text>\n<text text-anchor=\"middle\" x=\"664.5\" y=\"-87.3\" font-family=\"Helvetica,sans-Serif\" font-size=\"14.00\">value = [0.0, 1.0]</text>\n</g>\n<!-- 1414&#45;&gt;4390 -->\n<g id=\"edge12\" class=\"edge\">\n<title>1414&#45;&gt;4390</title>\n<path fill=\"none\" stroke=\"black\" d=\"M542.47,-160.87C566.93,-148.57 595.98,-133.96 619.6,-122.08\"/>\n<polygon fill=\"black\" stroke=\"black\" points=\"621.33,-125.13 628.69,-117.51 618.19,-118.87 621.33,-125.13\"/>\n</g>\n<!-- 1416 -->\n<g id=\"node11\" class=\"node\">\n<title>1416</title>\n<polygon fill=\"#c0c0c0\" stroke=\"black\" points=\"470.5,-36 416.5,-36 416.5,0 470.5,0 470.5,-36\"/>\n<text text-anchor=\"middle\" x=\"443.5\" y=\"-14.3\" font-family=\"Helvetica,sans-Serif\" font-size=\"14.00\">(...)</text>\n</g>\n<!-- 1415&#45;&gt;1416 -->\n<g id=\"edge10\" class=\"edge\">\n<title>1415&#45;&gt;1416</title>\n<path fill=\"none\" stroke=\"black\" d=\"M475.78,-71.8C470.51,-63.17 464.62,-53.54 459.34,-44.9\"/>\n<polygon fill=\"black\" stroke=\"black\" points=\"462.3,-43.04 454.1,-36.33 456.33,-46.69 462.3,-43.04\"/>\n</g>\n<!-- 4259 -->\n<g id=\"node12\" class=\"node\">\n<title>4259</title>\n<polygon fill=\"#c0c0c0\" stroke=\"black\" points=\"542.5,-36 488.5,-36 488.5,0 542.5,0 542.5,-36\"/>\n<text text-anchor=\"middle\" x=\"515.5\" y=\"-14.3\" font-family=\"Helvetica,sans-Serif\" font-size=\"14.00\">(...)</text>\n</g>\n<!-- 1415&#45;&gt;4259 -->\n<g id=\"edge11\" class=\"edge\">\n<title>1415&#45;&gt;4259</title>\n<path fill=\"none\" stroke=\"black\" d=\"M499.36,-71.8C501.89,-63.53 504.69,-54.35 507.25,-46\"/>\n<polygon fill=\"black\" stroke=\"black\" points=\"510.62,-46.92 510.2,-36.33 503.93,-44.87 510.62,-46.92\"/>\n</g>\n</g>\n</svg>\n",
            "text/plain": [
              "<graphviz.sources.Source at 0x7b8b02644490>"
            ]
          },
          "metadata": {}
        },
        {
          "output_type": "display_data",
          "data": {
            "image/svg+xml": "<?xml version=\"1.0\" encoding=\"UTF-8\" standalone=\"no\"?>\n<!DOCTYPE svg PUBLIC \"-//W3C//DTD SVG 1.1//EN\"\n \"http://www.w3.org/Graphics/SVG/1.1/DTD/svg11.dtd\">\n<!-- Generated by graphviz version 2.43.0 (0)\n -->\n<!-- Title: Tree Pages: 1 -->\n<svg width=\"754pt\" height=\"311pt\"\n viewBox=\"0.00 0.00 753.50 311.00\" xmlns=\"http://www.w3.org/2000/svg\" xmlns:xlink=\"http://www.w3.org/1999/xlink\">\n<g id=\"graph0\" class=\"graph\" transform=\"scale(1 1) rotate(0) translate(4 307)\">\n<title>Tree</title>\n<polygon fill=\"white\" stroke=\"transparent\" points=\"-4,4 -4,-307 749.5,-307 749.5,4 -4,4\"/>\n<!-- 0 -->\n<g id=\"node1\" class=\"node\">\n<title>0</title>\n<polygon fill=\"#fdfeff\" stroke=\"black\" points=\"479,-303 278,-303 278,-250 479,-250 479,-303\"/>\n<text text-anchor=\"middle\" x=\"378.5\" y=\"-287.8\" font-family=\"Helvetica,sans-Serif\" font-size=\"14.00\">Cost_of_the_Product &lt;= 193.5</text>\n<text text-anchor=\"middle\" x=\"378.5\" y=\"-272.8\" font-family=\"Helvetica,sans-Serif\" font-size=\"14.00\">samples = 100.0%</text>\n<text text-anchor=\"middle\" x=\"378.5\" y=\"-257.8\" font-family=\"Helvetica,sans-Serif\" font-size=\"14.00\">value = [0.498, 0.502]</text>\n</g>\n<!-- 1 -->\n<g id=\"node2\" class=\"node\">\n<title>1</title>\n<polygon fill=\"#deeffb\" stroke=\"black\" points=\"372,-214 185,-214 185,-161 372,-161 372,-214\"/>\n<text text-anchor=\"middle\" x=\"278.5\" y=\"-198.8\" font-family=\"Helvetica,sans-Serif\" font-size=\"14.00\">Customer_care_calls &lt;= 2.5</text>\n<text text-anchor=\"middle\" x=\"278.5\" y=\"-183.8\" font-family=\"Helvetica,sans-Serif\" font-size=\"14.00\">samples = 37.8%</text>\n<text text-anchor=\"middle\" x=\"278.5\" y=\"-168.8\" font-family=\"Helvetica,sans-Serif\" font-size=\"14.00\">value = [0.455, 0.545]</text>\n</g>\n<!-- 0&#45;&gt;1 -->\n<g id=\"edge1\" class=\"edge\">\n<title>0&#45;&gt;1</title>\n<path fill=\"none\" stroke=\"black\" d=\"M349.04,-249.87C338.65,-240.83 326.84,-230.55 315.89,-221.03\"/>\n<polygon fill=\"black\" stroke=\"black\" points=\"317.94,-218.17 308.1,-214.25 313.34,-223.45 317.94,-218.17\"/>\n<text text-anchor=\"middle\" x=\"309.83\" y=\"-235.49\" font-family=\"Helvetica,sans-Serif\" font-size=\"14.00\">True</text>\n</g>\n<!-- 1458 -->\n<g id=\"node9\" class=\"node\">\n<title>1458</title>\n<polygon fill=\"#fdf4ed\" stroke=\"black\" points=\"557.5,-214 399.5,-214 399.5,-161 557.5,-161 557.5,-214\"/>\n<text text-anchor=\"middle\" x=\"478.5\" y=\"-198.8\" font-family=\"Helvetica,sans-Serif\" font-size=\"14.00\">Prior_purchases &lt;= 3.5</text>\n<text text-anchor=\"middle\" x=\"478.5\" y=\"-183.8\" font-family=\"Helvetica,sans-Serif\" font-size=\"14.00\">samples = 62.2%</text>\n<text text-anchor=\"middle\" x=\"478.5\" y=\"-168.8\" font-family=\"Helvetica,sans-Serif\" font-size=\"14.00\">value = [0.524, 0.476]</text>\n</g>\n<!-- 0&#45;&gt;1458 -->\n<g id=\"edge8\" class=\"edge\">\n<title>0&#45;&gt;1458</title>\n<path fill=\"none\" stroke=\"black\" d=\"M407.96,-249.87C418.35,-240.83 430.16,-230.55 441.11,-221.03\"/>\n<polygon fill=\"black\" stroke=\"black\" points=\"443.66,-223.45 448.9,-214.25 439.06,-218.17 443.66,-223.45\"/>\n<text text-anchor=\"middle\" x=\"447.17\" y=\"-235.49\" font-family=\"Helvetica,sans-Serif\" font-size=\"14.00\">False</text>\n</g>\n<!-- 2 -->\n<g id=\"node3\" class=\"node\">\n<title>2</title>\n<polygon fill=\"#a2d1f3\" stroke=\"black\" points=\"169,-125 0,-125 0,-72 169,-72 169,-125\"/>\n<text text-anchor=\"middle\" x=\"84.5\" y=\"-109.8\" font-family=\"Helvetica,sans-Serif\" font-size=\"14.00\">Discount_offered &lt;= 10.5</text>\n<text text-anchor=\"middle\" x=\"84.5\" y=\"-94.8\" font-family=\"Helvetica,sans-Serif\" font-size=\"14.00\">samples = 3.4%</text>\n<text text-anchor=\"middle\" x=\"84.5\" y=\"-79.8\" font-family=\"Helvetica,sans-Serif\" font-size=\"14.00\">value = [0.347, 0.653]</text>\n</g>\n<!-- 1&#45;&gt;2 -->\n<g id=\"edge2\" class=\"edge\">\n<title>1&#45;&gt;2</title>\n<path fill=\"none\" stroke=\"black\" d=\"M221.6,-160.98C199.4,-151.03 173.78,-139.54 150.75,-129.21\"/>\n<polygon fill=\"black\" stroke=\"black\" points=\"151.95,-125.91 141.39,-125.01 149.09,-132.3 151.95,-125.91\"/>\n</g>\n<!-- 105 -->\n<g id=\"node6\" class=\"node\">\n<title>105</title>\n<polygon fill=\"#e5f2fc\" stroke=\"black\" points=\"369.5,-125 187.5,-125 187.5,-72 369.5,-72 369.5,-125\"/>\n<text text-anchor=\"middle\" x=\"278.5\" y=\"-109.8\" font-family=\"Helvetica,sans-Serif\" font-size=\"14.00\">Warehouse_block_3 &lt;= 0.5</text>\n<text text-anchor=\"middle\" x=\"278.5\" y=\"-94.8\" font-family=\"Helvetica,sans-Serif\" font-size=\"14.00\">samples = 34.4%</text>\n<text text-anchor=\"middle\" x=\"278.5\" y=\"-79.8\" font-family=\"Helvetica,sans-Serif\" font-size=\"14.00\">value = [0.466, 0.534]</text>\n</g>\n<!-- 1&#45;&gt;105 -->\n<g id=\"edge5\" class=\"edge\">\n<title>1&#45;&gt;105</title>\n<path fill=\"none\" stroke=\"black\" d=\"M278.5,-160.87C278.5,-152.89 278.5,-143.93 278.5,-135.38\"/>\n<polygon fill=\"black\" stroke=\"black\" points=\"282,-135.25 278.5,-125.25 275,-135.25 282,-135.25\"/>\n</g>\n<!-- 3 -->\n<g id=\"node4\" class=\"node\">\n<title>3</title>\n<polygon fill=\"#c0c0c0\" stroke=\"black\" points=\"75.5,-36 21.5,-36 21.5,0 75.5,0 75.5,-36\"/>\n<text text-anchor=\"middle\" x=\"48.5\" y=\"-14.3\" font-family=\"Helvetica,sans-Serif\" font-size=\"14.00\">(...)</text>\n</g>\n<!-- 2&#45;&gt;3 -->\n<g id=\"edge3\" class=\"edge\">\n<title>2&#45;&gt;3</title>\n<path fill=\"none\" stroke=\"black\" d=\"M72.71,-71.8C68.84,-63.35 64.53,-53.95 60.63,-45.45\"/>\n<polygon fill=\"black\" stroke=\"black\" points=\"63.8,-43.96 56.45,-36.33 57.43,-46.88 63.8,-43.96\"/>\n</g>\n<!-- 104 -->\n<g id=\"node5\" class=\"node\">\n<title>104</title>\n<polygon fill=\"#c0c0c0\" stroke=\"black\" points=\"147.5,-36 93.5,-36 93.5,0 147.5,0 147.5,-36\"/>\n<text text-anchor=\"middle\" x=\"120.5\" y=\"-14.3\" font-family=\"Helvetica,sans-Serif\" font-size=\"14.00\">(...)</text>\n</g>\n<!-- 2&#45;&gt;104 -->\n<g id=\"edge4\" class=\"edge\">\n<title>2&#45;&gt;104</title>\n<path fill=\"none\" stroke=\"black\" d=\"M96.29,-71.8C100.16,-63.35 104.47,-53.95 108.37,-45.45\"/>\n<polygon fill=\"black\" stroke=\"black\" points=\"111.57,-46.88 112.55,-36.33 105.2,-43.96 111.57,-46.88\"/>\n</g>\n<!-- 106 -->\n<g id=\"node7\" class=\"node\">\n<title>106</title>\n<polygon fill=\"#c0c0c0\" stroke=\"black\" points=\"283.5,-36 229.5,-36 229.5,0 283.5,0 283.5,-36\"/>\n<text text-anchor=\"middle\" x=\"256.5\" y=\"-14.3\" font-family=\"Helvetica,sans-Serif\" font-size=\"14.00\">(...)</text>\n</g>\n<!-- 105&#45;&gt;106 -->\n<g id=\"edge6\" class=\"edge\">\n<title>105&#45;&gt;106</title>\n<path fill=\"none\" stroke=\"black\" d=\"M271.3,-71.8C268.98,-63.53 266.41,-54.35 264.07,-46\"/>\n<polygon fill=\"black\" stroke=\"black\" points=\"267.43,-45.01 261.36,-36.33 260.69,-46.9 267.43,-45.01\"/>\n</g>\n<!-- 1231 -->\n<g id=\"node8\" class=\"node\">\n<title>1231</title>\n<polygon fill=\"#c0c0c0\" stroke=\"black\" points=\"355.5,-36 301.5,-36 301.5,0 355.5,0 355.5,-36\"/>\n<text text-anchor=\"middle\" x=\"328.5\" y=\"-14.3\" font-family=\"Helvetica,sans-Serif\" font-size=\"14.00\">(...)</text>\n</g>\n<!-- 105&#45;&gt;1231 -->\n<g id=\"edge7\" class=\"edge\">\n<title>105&#45;&gt;1231</title>\n<path fill=\"none\" stroke=\"black\" d=\"M294.87,-71.8C300.37,-63.17 306.5,-53.54 312,-44.9\"/>\n<polygon fill=\"black\" stroke=\"black\" points=\"315.04,-46.65 317.46,-36.33 309.14,-42.88 315.04,-46.65\"/>\n</g>\n<!-- 1459 -->\n<g id=\"node10\" class=\"node\">\n<title>1459</title>\n<polygon fill=\"#e5f2fc\" stroke=\"black\" points=\"569.5,-125 387.5,-125 387.5,-72 569.5,-72 569.5,-125\"/>\n<text text-anchor=\"middle\" x=\"478.5\" y=\"-109.8\" font-family=\"Helvetica,sans-Serif\" font-size=\"14.00\">Warehouse_block_3 &lt;= 0.5</text>\n<text text-anchor=\"middle\" x=\"478.5\" y=\"-94.8\" font-family=\"Helvetica,sans-Serif\" font-size=\"14.00\">samples = 31.8%</text>\n<text text-anchor=\"middle\" x=\"478.5\" y=\"-79.8\" font-family=\"Helvetica,sans-Serif\" font-size=\"14.00\">value = [0.466, 0.534]</text>\n</g>\n<!-- 1458&#45;&gt;1459 -->\n<g id=\"edge9\" class=\"edge\">\n<title>1458&#45;&gt;1459</title>\n<path fill=\"none\" stroke=\"black\" d=\"M478.5,-160.87C478.5,-152.89 478.5,-143.93 478.5,-135.38\"/>\n<polygon fill=\"black\" stroke=\"black\" points=\"482,-135.25 478.5,-125.25 475,-135.25 482,-135.25\"/>\n</g>\n<!-- 2762 -->\n<g id=\"node13\" class=\"node\">\n<title>2762</title>\n<polygon fill=\"#f8dbc6\" stroke=\"black\" points=\"745.5,-125 587.5,-125 587.5,-72 745.5,-72 745.5,-125\"/>\n<text text-anchor=\"middle\" x=\"666.5\" y=\"-109.8\" font-family=\"Helvetica,sans-Serif\" font-size=\"14.00\">Prior_purchases &lt;= 6.5</text>\n<text text-anchor=\"middle\" x=\"666.5\" y=\"-94.8\" font-family=\"Helvetica,sans-Serif\" font-size=\"14.00\">samples = 30.4%</text>\n<text text-anchor=\"middle\" x=\"666.5\" y=\"-79.8\" font-family=\"Helvetica,sans-Serif\" font-size=\"14.00\">value = [0.584, 0.416]</text>\n</g>\n<!-- 1458&#45;&gt;2762 -->\n<g id=\"edge12\" class=\"edge\">\n<title>1458&#45;&gt;2762</title>\n<path fill=\"none\" stroke=\"black\" d=\"M533.64,-160.98C555.06,-151.07 579.76,-139.64 602,-129.35\"/>\n<polygon fill=\"black\" stroke=\"black\" points=\"603.76,-132.39 611.37,-125.01 600.82,-126.04 603.76,-132.39\"/>\n</g>\n<!-- 1460 -->\n<g id=\"node11\" class=\"node\">\n<title>1460</title>\n<polygon fill=\"#c0c0c0\" stroke=\"black\" points=\"455.5,-36 401.5,-36 401.5,0 455.5,0 455.5,-36\"/>\n<text text-anchor=\"middle\" x=\"428.5\" y=\"-14.3\" font-family=\"Helvetica,sans-Serif\" font-size=\"14.00\">(...)</text>\n</g>\n<!-- 1459&#45;&gt;1460 -->\n<g id=\"edge10\" class=\"edge\">\n<title>1459&#45;&gt;1460</title>\n<path fill=\"none\" stroke=\"black\" d=\"M462.13,-71.8C456.63,-63.17 450.5,-53.54 445,-44.9\"/>\n<polygon fill=\"black\" stroke=\"black\" points=\"447.86,-42.88 439.54,-36.33 441.96,-46.65 447.86,-42.88\"/>\n</g>\n<!-- 2549 -->\n<g id=\"node12\" class=\"node\">\n<title>2549</title>\n<polygon fill=\"#c0c0c0\" stroke=\"black\" points=\"527.5,-36 473.5,-36 473.5,0 527.5,0 527.5,-36\"/>\n<text text-anchor=\"middle\" x=\"500.5\" y=\"-14.3\" font-family=\"Helvetica,sans-Serif\" font-size=\"14.00\">(...)</text>\n</g>\n<!-- 1459&#45;&gt;2549 -->\n<g id=\"edge11\" class=\"edge\">\n<title>1459&#45;&gt;2549</title>\n<path fill=\"none\" stroke=\"black\" d=\"M485.7,-71.8C488.02,-63.53 490.59,-54.35 492.93,-46\"/>\n<polygon fill=\"black\" stroke=\"black\" points=\"496.31,-46.9 495.64,-36.33 489.57,-45.01 496.31,-46.9\"/>\n</g>\n<!-- 2763 -->\n<g id=\"node14\" class=\"node\">\n<title>2763</title>\n<polygon fill=\"#c0c0c0\" stroke=\"black\" points=\"657.5,-36 603.5,-36 603.5,0 657.5,0 657.5,-36\"/>\n<text text-anchor=\"middle\" x=\"630.5\" y=\"-14.3\" font-family=\"Helvetica,sans-Serif\" font-size=\"14.00\">(...)</text>\n</g>\n<!-- 2762&#45;&gt;2763 -->\n<g id=\"edge13\" class=\"edge\">\n<title>2762&#45;&gt;2763</title>\n<path fill=\"none\" stroke=\"black\" d=\"M654.71,-71.8C650.84,-63.35 646.53,-53.95 642.63,-45.45\"/>\n<polygon fill=\"black\" stroke=\"black\" points=\"645.8,-43.96 638.45,-36.33 639.43,-46.88 645.8,-43.96\"/>\n</g>\n<!-- 4236 -->\n<g id=\"node15\" class=\"node\">\n<title>4236</title>\n<polygon fill=\"#c0c0c0\" stroke=\"black\" points=\"729.5,-36 675.5,-36 675.5,0 729.5,0 729.5,-36\"/>\n<text text-anchor=\"middle\" x=\"702.5\" y=\"-14.3\" font-family=\"Helvetica,sans-Serif\" font-size=\"14.00\">(...)</text>\n</g>\n<!-- 2762&#45;&gt;4236 -->\n<g id=\"edge14\" class=\"edge\">\n<title>2762&#45;&gt;4236</title>\n<path fill=\"none\" stroke=\"black\" d=\"M678.29,-71.8C682.16,-63.35 686.47,-53.95 690.37,-45.45\"/>\n<polygon fill=\"black\" stroke=\"black\" points=\"693.57,-46.88 694.55,-36.33 687.2,-43.96 693.57,-46.88\"/>\n</g>\n</g>\n</svg>\n",
            "text/plain": [
              "<graphviz.sources.Source at 0x7b8b0b32ec80>"
            ]
          },
          "metadata": {}
        },
        {
          "output_type": "display_data",
          "data": {
            "image/svg+xml": "<?xml version=\"1.0\" encoding=\"UTF-8\" standalone=\"no\"?>\n<!DOCTYPE svg PUBLIC \"-//W3C//DTD SVG 1.1//EN\"\n \"http://www.w3.org/Graphics/SVG/1.1/DTD/svg11.dtd\">\n<!-- Generated by graphviz version 2.43.0 (0)\n -->\n<!-- Title: Tree Pages: 1 -->\n<svg width=\"439pt\" height=\"311pt\"\n viewBox=\"0.00 0.00 438.50 311.00\" xmlns=\"http://www.w3.org/2000/svg\" xmlns:xlink=\"http://www.w3.org/1999/xlink\">\n<g id=\"graph0\" class=\"graph\" transform=\"scale(1 1) rotate(0) translate(4 307)\">\n<title>Tree</title>\n<polygon fill=\"white\" stroke=\"transparent\" points=\"-4,4 -4,-307 434.5,-307 434.5,4 -4,4\"/>\n<!-- 0 -->\n<g id=\"node1\" class=\"node\">\n<title>0</title>\n<polygon fill=\"#fffdfc\" stroke=\"black\" points=\"364,-303 195,-303 195,-250 364,-250 364,-303\"/>\n<text text-anchor=\"middle\" x=\"279.5\" y=\"-287.8\" font-family=\"Helvetica,sans-Serif\" font-size=\"14.00\">Discount_offered &lt;= 10.5</text>\n<text text-anchor=\"middle\" x=\"279.5\" y=\"-272.8\" font-family=\"Helvetica,sans-Serif\" font-size=\"14.00\">samples = 100.0%</text>\n<text text-anchor=\"middle\" x=\"279.5\" y=\"-257.8\" font-family=\"Helvetica,sans-Serif\" font-size=\"14.00\">value = [0.504, 0.496]</text>\n</g>\n<!-- 1 -->\n<g id=\"node2\" class=\"node\">\n<title>1</title>\n<polygon fill=\"#f5ccaf\" stroke=\"black\" points=\"290,-214 89,-214 89,-161 290,-161 290,-214\"/>\n<text text-anchor=\"middle\" x=\"189.5\" y=\"-198.8\" font-family=\"Helvetica,sans-Serif\" font-size=\"14.00\">Cost_of_the_Product &lt;= 239.5</text>\n<text text-anchor=\"middle\" x=\"189.5\" y=\"-183.8\" font-family=\"Helvetica,sans-Serif\" font-size=\"14.00\">samples = 80.4%</text>\n<text text-anchor=\"middle\" x=\"189.5\" y=\"-168.8\" font-family=\"Helvetica,sans-Serif\" font-size=\"14.00\">value = [0.626, 0.374]</text>\n</g>\n<!-- 0&#45;&gt;1 -->\n<g id=\"edge1\" class=\"edge\">\n<title>0&#45;&gt;1</title>\n<path fill=\"none\" stroke=\"black\" d=\"M252.98,-249.87C243.73,-240.92 233.21,-230.75 223.43,-221.3\"/>\n<polygon fill=\"black\" stroke=\"black\" points=\"225.76,-218.68 216.14,-214.25 220.89,-223.72 225.76,-218.68\"/>\n<text text-anchor=\"middle\" x=\"216.56\" y=\"-235.55\" font-family=\"Helvetica,sans-Serif\" font-size=\"14.00\">True</text>\n</g>\n<!-- 4386 -->\n<g id=\"node9\" class=\"node\">\n<title>4386</title>\n<polygon fill=\"#399de5\" stroke=\"black\" points=\"430.5,-206.5 308.5,-206.5 308.5,-168.5 430.5,-168.5 430.5,-206.5\"/>\n<text text-anchor=\"middle\" x=\"369.5\" y=\"-191.3\" font-family=\"Helvetica,sans-Serif\" font-size=\"14.00\">samples = 19.6%</text>\n<text text-anchor=\"middle\" x=\"369.5\" y=\"-176.3\" font-family=\"Helvetica,sans-Serif\" font-size=\"14.00\">value = [0.0, 1.0]</text>\n</g>\n<!-- 0&#45;&gt;4386 -->\n<g id=\"edge8\" class=\"edge\">\n<title>0&#45;&gt;4386</title>\n<path fill=\"none\" stroke=\"black\" d=\"M306.02,-249.87C317.84,-238.44 331.73,-225.01 343.49,-213.64\"/>\n<polygon fill=\"black\" stroke=\"black\" points=\"346.12,-215.97 350.87,-206.51 341.25,-210.94 346.12,-215.97\"/>\n<text text-anchor=\"middle\" x=\"350.45\" y=\"-227.8\" font-family=\"Helvetica,sans-Serif\" font-size=\"14.00\">False</text>\n</g>\n<!-- 2 -->\n<g id=\"node3\" class=\"node\">\n<title>2</title>\n<polygon fill=\"#f4c9aa\" stroke=\"black\" points=\"187,-125 0,-125 0,-72 187,-72 187,-125\"/>\n<text text-anchor=\"middle\" x=\"93.5\" y=\"-109.8\" font-family=\"Helvetica,sans-Serif\" font-size=\"14.00\">Customer_care_calls &lt;= 5.5</text>\n<text text-anchor=\"middle\" x=\"93.5\" y=\"-94.8\" font-family=\"Helvetica,sans-Serif\" font-size=\"14.00\">samples = 50.6%</text>\n<text text-anchor=\"middle\" x=\"93.5\" y=\"-79.8\" font-family=\"Helvetica,sans-Serif\" font-size=\"14.00\">value = [0.637, 0.363]</text>\n</g>\n<!-- 1&#45;&gt;2 -->\n<g id=\"edge2\" class=\"edge\">\n<title>1&#45;&gt;2</title>\n<path fill=\"none\" stroke=\"black\" d=\"M161.22,-160.87C151.25,-151.83 139.9,-141.55 129.39,-132.03\"/>\n<polygon fill=\"black\" stroke=\"black\" points=\"131.67,-129.37 121.91,-125.25 126.97,-134.56 131.67,-129.37\"/>\n</g>\n<!-- 2773 -->\n<g id=\"node6\" class=\"node\">\n<title>2773</title>\n<polygon fill=\"#f6d2b9\" stroke=\"black\" points=\"366,-125 205,-125 205,-72 366,-72 366,-125\"/>\n<text text-anchor=\"middle\" x=\"285.5\" y=\"-109.8\" font-family=\"Helvetica,sans-Serif\" font-size=\"14.00\">Discount_offered &lt;= 3.5</text>\n<text text-anchor=\"middle\" x=\"285.5\" y=\"-94.8\" font-family=\"Helvetica,sans-Serif\" font-size=\"14.00\">samples = 29.7%</text>\n<text text-anchor=\"middle\" x=\"285.5\" y=\"-79.8\" font-family=\"Helvetica,sans-Serif\" font-size=\"14.00\">value = [0.607, 0.393]</text>\n</g>\n<!-- 1&#45;&gt;2773 -->\n<g id=\"edge5\" class=\"edge\">\n<title>1&#45;&gt;2773</title>\n<path fill=\"none\" stroke=\"black\" d=\"M217.78,-160.87C227.75,-151.83 239.1,-141.55 249.61,-132.03\"/>\n<polygon fill=\"black\" stroke=\"black\" points=\"252.03,-134.56 257.09,-125.25 247.33,-129.37 252.03,-134.56\"/>\n</g>\n<!-- 3 -->\n<g id=\"node4\" class=\"node\">\n<title>3</title>\n<polygon fill=\"#c0c0c0\" stroke=\"black\" points=\"108.5,-36 54.5,-36 54.5,0 108.5,0 108.5,-36\"/>\n<text text-anchor=\"middle\" x=\"81.5\" y=\"-14.3\" font-family=\"Helvetica,sans-Serif\" font-size=\"14.00\">(...)</text>\n</g>\n<!-- 2&#45;&gt;3 -->\n<g id=\"edge3\" class=\"edge\">\n<title>2&#45;&gt;3</title>\n<path fill=\"none\" stroke=\"black\" d=\"M89.57,-71.8C88.32,-63.62 86.93,-54.55 85.67,-46.27\"/>\n<polygon fill=\"black\" stroke=\"black\" points=\"89.12,-45.69 84.15,-36.33 82.2,-46.74 89.12,-45.69\"/>\n</g>\n<!-- 2642 -->\n<g id=\"node5\" class=\"node\">\n<title>2642</title>\n<polygon fill=\"#c0c0c0\" stroke=\"black\" points=\"180.5,-36 126.5,-36 126.5,0 180.5,0 180.5,-36\"/>\n<text text-anchor=\"middle\" x=\"153.5\" y=\"-14.3\" font-family=\"Helvetica,sans-Serif\" font-size=\"14.00\">(...)</text>\n</g>\n<!-- 2&#45;&gt;2642 -->\n<g id=\"edge4\" class=\"edge\">\n<title>2&#45;&gt;2642</title>\n<path fill=\"none\" stroke=\"black\" d=\"M113.15,-71.8C119.88,-62.99 127.41,-53.14 134.12,-44.36\"/>\n<polygon fill=\"black\" stroke=\"black\" points=\"136.96,-46.4 140.25,-36.33 131.4,-42.15 136.96,-46.4\"/>\n</g>\n<!-- 2774 -->\n<g id=\"node7\" class=\"node\">\n<title>2774</title>\n<polygon fill=\"#c0c0c0\" stroke=\"black\" points=\"282.5,-36 228.5,-36 228.5,0 282.5,0 282.5,-36\"/>\n<text text-anchor=\"middle\" x=\"255.5\" y=\"-14.3\" font-family=\"Helvetica,sans-Serif\" font-size=\"14.00\">(...)</text>\n</g>\n<!-- 2773&#45;&gt;2774 -->\n<g id=\"edge6\" class=\"edge\">\n<title>2773&#45;&gt;2774</title>\n<path fill=\"none\" stroke=\"black\" d=\"M275.68,-71.8C272.48,-63.44 268.93,-54.15 265.71,-45.72\"/>\n<polygon fill=\"black\" stroke=\"black\" points=\"268.96,-44.42 262.12,-36.33 262.42,-46.92 268.96,-44.42\"/>\n</g>\n<!-- 3283 -->\n<g id=\"node8\" class=\"node\">\n<title>3283</title>\n<polygon fill=\"#c0c0c0\" stroke=\"black\" points=\"354.5,-36 300.5,-36 300.5,0 354.5,0 354.5,-36\"/>\n<text text-anchor=\"middle\" x=\"327.5\" y=\"-14.3\" font-family=\"Helvetica,sans-Serif\" font-size=\"14.00\">(...)</text>\n</g>\n<!-- 2773&#45;&gt;3283 -->\n<g id=\"edge7\" class=\"edge\">\n<title>2773&#45;&gt;3283</title>\n<path fill=\"none\" stroke=\"black\" d=\"M299.25,-71.8C303.82,-63.26 308.91,-53.75 313.5,-45.17\"/>\n<polygon fill=\"black\" stroke=\"black\" points=\"316.6,-46.8 318.23,-36.33 310.42,-43.5 316.6,-46.8\"/>\n</g>\n</g>\n</svg>\n",
            "text/plain": [
              "<graphviz.sources.Source at 0x7b8b02644bb0>"
            ]
          },
          "metadata": {}
        }
      ],
      "source": [
        "for i in range(3):\n",
        "    tree = rf.estimators_[i]\n",
        "    dot_data = export_graphviz(tree,\n",
        "                               feature_names=df.columns[:-1],\n",
        "                               filled=True,\n",
        "                               max_depth=2,\n",
        "                               impurity=False,\n",
        "                               proportion=True)\n",
        "    graph = graphviz.Source(dot_data)\n",
        "    display(graph)"
      ]
    },
    {
      "cell_type": "markdown",
      "id": "b186799e",
      "metadata": {
        "id": "b186799e"
      },
      "source": [
        "After visualizing our tree, we will tune some hyperparameters.\n",
        "\n",
        "n_estimators - number of trees in the forest; increasing this can improve performance but increase the time it need to train and predict\n",
        "\n"
      ]
    },
    {
      "cell_type": "code",
      "execution_count": 37,
      "id": "a516a62b",
      "metadata": {
        "colab": {
          "base_uri": "https://localhost:8080/"
        },
        "id": "a516a62b",
        "outputId": "a41d4c94-4aa1-4865-db09-31c38c09428e"
      },
      "outputs": [
        {
          "output_type": "stream",
          "name": "stdout",
          "text": [
            "Best hyperparameters: {'n_estimators': 215}\n"
          ]
        }
      ],
      "source": [
        "param = {'n_estimators' : randint(50,500)}\n",
        "\n",
        "rand_search = RandomizedSearchCV(rf, param_distributions = param, n_iter = 5, cv = 5)\n",
        "\n",
        "rand_search.fit(X_train_df, y_train_df)\n",
        "\n",
        "best_rf = rand_search.best_estimator_\n",
        "\n",
        "print('Best hyperparameters:',  rand_search.best_params_)"
      ]
    },
    {
      "cell_type": "markdown",
      "id": "e308d2dc",
      "metadata": {
        "id": "e308d2dc"
      },
      "source": [
        "The best hyperparameters that were found by the algorithm is 463 trees in a forest.\n",
        "\n",
        "Model below shows the best parameters."
      ]
    },
    {
      "cell_type": "code",
      "execution_count": 39,
      "id": "9c4c270b",
      "metadata": {
        "colab": {
          "base_uri": "https://localhost:8080/"
        },
        "id": "9c4c270b",
        "outputId": "47b5340f-89cc-4d6b-d7fa-46c827d46cc2"
      },
      "outputs": [
        {
          "output_type": "stream",
          "name": "stdout",
          "text": [
            "              precision    recall  f1-score   support\n",
            "\n",
            "           0       0.67      0.90      0.77       640\n",
            "           1       0.86      0.58      0.69       673\n",
            "\n",
            "    accuracy                           0.74      1313\n",
            "   macro avg       0.77      0.74      0.73      1313\n",
            "weighted avg       0.77      0.74      0.73      1313\n",
            "\n"
          ]
        }
      ],
      "source": [
        "best_rf = RandomForestClassifier(n_estimators=350, random_state=42)\n",
        "best_rf.fit(X_train_df, y_train_df)\n",
        "\n",
        "y_best_prediction_rf = best_rf.predict(X_test_df)\n",
        "print(classification_report(y_test_df, y_best_prediction_rf))"
      ]
    },
    {
      "cell_type": "markdown",
      "id": "a39c8bb4",
      "metadata": {
        "id": "a39c8bb4"
      },
      "source": [
        "Since the number of trees doesn't improve performance it will be set to 350 to improve run time."
      ]
    },
    {
      "cell_type": "code",
      "execution_count": 40,
      "id": "6fb37306",
      "metadata": {
        "colab": {
          "base_uri": "https://localhost:8080/",
          "height": 449
        },
        "id": "6fb37306",
        "outputId": "e951f8fc-1c0f-40e1-f4b8-9d76a0417bfa"
      },
      "outputs": [
        {
          "output_type": "display_data",
          "data": {
            "text/plain": [
              "<Figure size 640x480 with 2 Axes>"
            ],
            "image/png": "[encoded data removed]"
          },
          "metadata": {}
        }
      ],
      "source": [
        "cm = confusion_matrix(y_test_df, y_best_prediction_rf)\n",
        "ConfusionMatrixDisplay(confusion_matrix=cm).plot();"
      ]
    },
    {
      "cell_type": "code",
      "execution_count": 41,
      "id": "ba828bd6",
      "metadata": {
        "colab": {
          "base_uri": "https://localhost:8080/",
          "height": 564
        },
        "id": "ba828bd6",
        "outputId": "0967f6c7-8108-4677-e8bc-6ea41934babd"
      },
      "outputs": [
        {
          "output_type": "display_data",
          "data": {
            "text/plain": [
              "<Figure size 640x480 with 1 Axes>"
            ],
            "image/png": "[encoded data removed]"
          },
          "metadata": {}
        }
      ],
      "source": [
        "feature_importances = pd.Series(best_rf.feature_importances_, index=df.columns[:-1]).sort_values(ascending=False)\n",
        "feature_importances.plot.bar();"
      ]
    },
    {
      "cell_type": "code",
      "execution_count": 42,
      "id": "139a1b9c",
      "metadata": {
        "id": "139a1b9c"
      },
      "outputs": [],
      "source": [
        "X_no = df[df.columns[:-1]].values\n",
        "y_no = df[df.columns[-1]].values\n",
        "\n",
        "X_train_no, X_temp_no, y_train_no, y_temp_no = train_test_split(X_no, y_no, test_size=0.2, random_state=42)\n",
        "X_val_no, X_test_no, y_val_no, y_test_no = train_test_split(X_temp_no, y_temp_no, test_size=0.5, random_state=42)"
      ]
    },
    {
      "cell_type": "code",
      "execution_count": 43,
      "id": "cbf5733b",
      "metadata": {
        "colab": {
          "base_uri": "https://localhost:8080/"
        },
        "id": "cbf5733b",
        "outputId": "52fbda53-3d58-4f7b-c587-6fc2058192a3"
      },
      "outputs": [
        {
          "output_type": "stream",
          "name": "stdout",
          "text": [
            "              precision    recall  f1-score   support\n",
            "\n",
            "           0       0.57      0.71      0.63       445\n",
            "           1       0.76      0.63      0.69       655\n",
            "\n",
            "    accuracy                           0.66      1100\n",
            "   macro avg       0.66      0.67      0.66      1100\n",
            "weighted avg       0.68      0.66      0.67      1100\n",
            "\n"
          ]
        }
      ],
      "source": [
        "best_rf_no = RandomForestClassifier(n_estimators=350, random_state=42)\n",
        "best_rf_no.fit(X_train_no, y_train_no)\n",
        "\n",
        "y_best_prediction_rf_no = best_rf_no.predict(X_test_no)\n",
        "print(classification_report(y_test_no, y_best_prediction_rf_no))"
      ]
    },
    {
      "cell_type": "code",
      "execution_count": 44,
      "id": "e7bdf462",
      "metadata": {
        "colab": {
          "base_uri": "https://localhost:8080/",
          "height": 449
        },
        "id": "e7bdf462",
        "outputId": "47978f34-ac7a-4bd2-d812-5400370e3068"
      },
      "outputs": [
        {
          "output_type": "display_data",
          "data": {
            "text/plain": [
              "<Figure size 640x480 with 2 Axes>"
            ],
            "image/png": "[encoded data removed]"
          },
          "metadata": {}
        }
      ],
      "source": [
        "cm_no = confusion_matrix(y_test_no, y_best_prediction_rf_no)\n",
        "ConfusionMatrixDisplay(confusion_matrix=cm_no).plot();"
      ]
    },
    {
      "cell_type": "markdown",
      "id": "cd21e317",
      "metadata": {
        "id": "cd21e317"
      },
      "source": [
        "\n",
        "### Scaling the features using Standard Scaler Scaler:\n",
        "\n",
        "\n",
        "\n"
      ]
    },
    {
      "cell_type": "code",
      "execution_count": 45,
      "id": "f2J1LiY0NO48",
      "metadata": {
        "id": "f2J1LiY0NO48"
      },
      "outputs": [],
      "source": [
        "X = df.drop(['Reached.on.Time_Y.N'], axis=1)\n",
        "y = df['Reached.on.Time_Y.N']"
      ]
    },
    {
      "cell_type": "code",
      "execution_count": 46,
      "id": "a73d571e",
      "metadata": {
        "colab": {
          "base_uri": "https://localhost:8080/"
        },
        "id": "a73d571e",
        "outputId": "308ede58-781a-4cd0-98a1-8590094b9c23"
      },
      "outputs": [
        {
          "output_type": "stream",
          "name": "stdout",
          "text": [
            "       Customer_care_calls  Customer_rating  Cost_of_the_Product  \\\n",
            "0                -0.047711        -0.700755            -0.690722   \n",
            "1                -0.047711         1.421578             0.120746   \n",
            "2                -1.799887        -0.700755            -0.565881   \n",
            "3                -0.923799         0.006689            -0.711529   \n",
            "4                -1.799887        -0.700755            -0.545074   \n",
            "...                    ...              ...                  ...   \n",
            "10994            -0.047711        -1.408199             0.869792   \n",
            "10995            -0.047711        -1.408199             0.453655   \n",
            "10996             0.828377         0.714133             0.661724   \n",
            "10997             0.828377        -0.700755             0.266394   \n",
            "10998            -1.799887         1.421578            -1.148472   \n",
            "\n",
            "       Prior_purchases  Product_importance    Gender  Discount_offered  \\\n",
            "0            -0.372735           -0.942576  0.991760          1.889983   \n",
            "1            -1.029424           -0.942576 -1.008308          2.815636   \n",
            "2             0.283954           -0.942576 -1.008308          2.136824   \n",
            "3             0.283954            0.616430 -1.008308         -0.208162   \n",
            "4            -0.372735            0.616430  0.991760          2.013404   \n",
            "...                ...                 ...       ...               ...   \n",
            "10994         0.940643            0.616430  0.991760         -0.763553   \n",
            "10995         0.940643            0.616430  0.991760         -0.455002   \n",
            "10996         0.940643           -0.942576  0.991760         -0.578423   \n",
            "10997         1.597332            0.616430 -1.008308         -0.701843   \n",
            "10998         0.940643           -0.942576  0.991760         -0.455002   \n",
            "\n",
            "       Weight_in_gms  Warehouse_block_0  Warehouse_block_1  Warehouse_block_2  \\\n",
            "0          -1.468240          -0.447189          -0.447189          -0.447189   \n",
            "1          -0.333893          -0.447189          -0.447189          -0.447189   \n",
            "2          -0.159002           2.236190          -0.447189          -0.447189   \n",
            "3          -1.502484          -0.447189           2.236190          -0.447189   \n",
            "4          -0.703244          -0.447189          -0.447189           2.236190   \n",
            "...              ...                ...                ...                ...   \n",
            "10994      -1.281730           2.236190          -0.447189          -0.447189   \n",
            "10995      -1.459679          -0.447189           2.236190          -0.447189   \n",
            "10996      -1.515937          -0.447189          -0.447189           2.236190   \n",
            "10997      -1.482304          -0.447189          -0.447189          -0.447189   \n",
            "10998      -1.219968          -0.447189          -0.447189          -0.447189   \n",
            "\n",
            "       Warehouse_block_3  Warehouse_block_4  Mode_of_Shipment_0  \\\n",
            "0               2.235458          -0.707059            2.278079   \n",
            "1              -0.447336           1.414310            2.278079   \n",
            "2              -0.447336          -0.707059            2.278079   \n",
            "3              -0.447336          -0.707059            2.278079   \n",
            "4              -0.447336          -0.707059            2.278079   \n",
            "...                  ...                ...                 ...   \n",
            "10994          -0.447336          -0.707059           -0.438966   \n",
            "10995          -0.447336          -0.707059           -0.438966   \n",
            "10996          -0.447336          -0.707059           -0.438966   \n",
            "10997          -0.447336           1.414310           -0.438966   \n",
            "10998           2.235458          -0.707059           -0.438966   \n",
            "\n",
            "       Mode_of_Shipment_1  Mode_of_Shipment_2  \n",
            "0               -0.436459           -1.452480  \n",
            "1               -0.436459           -1.452480  \n",
            "2               -0.436459           -1.452480  \n",
            "3               -0.436459           -1.452480  \n",
            "4               -0.436459           -1.452480  \n",
            "...                   ...                 ...  \n",
            "10994           -0.436459            0.688478  \n",
            "10995           -0.436459            0.688478  \n",
            "10996           -0.436459            0.688478  \n",
            "10997           -0.436459            0.688478  \n",
            "10998           -0.436459            0.688478  \n",
            "\n",
            "[10999 rows x 16 columns]\n"
          ]
        }
      ],
      "source": [
        "from sklearn.preprocessing import StandardScaler\n",
        "\n",
        "\n",
        "scaler = StandardScaler()\n",
        "X_scaled = pd.DataFrame(scaler.fit_transform(X), columns=X.columns)\n",
        "print(X_scaled)\n"
      ]
    },
    {
      "cell_type": "code",
      "execution_count": 47,
      "id": "PnPCnsJoNtay",
      "metadata": {
        "colab": {
          "base_uri": "https://localhost:8080/",
          "height": 226
        },
        "id": "PnPCnsJoNtay",
        "outputId": "3a714e2b-4f14-45e7-f333-10eb5e330331"
      },
      "outputs": [
        {
          "output_type": "execute_result",
          "data": {
            "text/plain": [
              "   Customer_care_calls  Customer_rating  Cost_of_the_Product  Prior_purchases  \\\n",
              "0            -0.047711        -0.700755            -0.690722        -0.372735   \n",
              "1            -0.047711         1.421578             0.120746        -1.029424   \n",
              "2            -1.799887        -0.700755            -0.565881         0.283954   \n",
              "3            -0.923799         0.006689            -0.711529         0.283954   \n",
              "4            -1.799887        -0.700755            -0.545074        -0.372735   \n",
              "\n",
              "   Product_importance    Gender  Discount_offered  Weight_in_gms  \\\n",
              "0           -0.942576  0.991760          1.889983      -1.468240   \n",
              "1           -0.942576 -1.008308          2.815636      -0.333893   \n",
              "2           -0.942576 -1.008308          2.136824      -0.159002   \n",
              "3            0.616430 -1.008308         -0.208162      -1.502484   \n",
              "4            0.616430  0.991760          2.013404      -0.703244   \n",
              "\n",
              "   Warehouse_block_0  Warehouse_block_1  Warehouse_block_2  Warehouse_block_3  \\\n",
              "0          -0.447189          -0.447189          -0.447189           2.235458   \n",
              "1          -0.447189          -0.447189          -0.447189          -0.447336   \n",
              "2           2.236190          -0.447189          -0.447189          -0.447336   \n",
              "3          -0.447189           2.236190          -0.447189          -0.447336   \n",
              "4          -0.447189          -0.447189           2.236190          -0.447336   \n",
              "\n",
              "   Warehouse_block_4  Mode_of_Shipment_0  Mode_of_Shipment_1  \\\n",
              "0          -0.707059            2.278079           -0.436459   \n",
              "1           1.414310            2.278079           -0.436459   \n",
              "2          -0.707059            2.278079           -0.436459   \n",
              "3          -0.707059            2.278079           -0.436459   \n",
              "4          -0.707059            2.278079           -0.436459   \n",
              "\n",
              "   Mode_of_Shipment_2  \n",
              "0            -1.45248  \n",
              "1            -1.45248  \n",
              "2            -1.45248  \n",
              "3            -1.45248  \n",
              "4            -1.45248  "
            ],
            "text/html": [
              "\n",
              "  <div id=\"df-8404f7bc-4169-48ed-b99a-73ea679dcfc0\" class=\"colab-df-container\">\n",
              "    <div>\n",
              "<style scoped>\n",
              "    .dataframe tbody tr th:only-of-type {\n",
              "        vertical-align: middle;\n",
              "    }\n",
              "\n",
              "    .dataframe tbody tr th {\n",
              "        vertical-align: top;\n",
              "    }\n",
              "\n",
              "    .dataframe thead th {\n",
              "        text-align: right;\n",
              "    }\n",
              "</style>\n",
              "<table border=\"1\" class=\"dataframe\">\n",
              "  <thead>\n",
              "    <tr style=\"text-align: right;\">\n",
              "      <th></th>\n",
              "      <th>Customer_care_calls</th>\n",
              "      <th>Customer_rating</th>\n",
              "      <th>Cost_of_the_Product</th>\n",
              "      <th>Prior_purchases</th>\n",
              "      <th>Product_importance</th>\n",
              "      <th>Gender</th>\n",
              "      <th>Discount_offered</th>\n",
              "      <th>Weight_in_gms</th>\n",
              "      <th>Warehouse_block_0</th>\n",
              "      <th>Warehouse_block_1</th>\n",
              "      <th>Warehouse_block_2</th>\n",
              "      <th>Warehouse_block_3</th>\n",
              "      <th>Warehouse_block_4</th>\n",
              "      <th>Mode_of_Shipment_0</th>\n",
              "      <th>Mode_of_Shipment_1</th>\n",
              "      <th>Mode_of_Shipment_2</th>\n",
              "    </tr>\n",
              "  </thead>\n",
              "  <tbody>\n",
              "    <tr>\n",
              "      <th>0</th>\n",
              "      <td>-0.047711</td>\n",
              "      <td>-0.700755</td>\n",
              "      <td>-0.690722</td>\n",
              "      <td>-0.372735</td>\n",
              "      <td>-0.942576</td>\n",
              "      <td>0.991760</td>\n",
              "      <td>1.889983</td>\n",
              "      <td>-1.468240</td>\n",
              "      <td>-0.447189</td>\n",
              "      <td>-0.447189</td>\n",
              "      <td>-0.447189</td>\n",
              "      <td>2.235458</td>\n",
              "      <td>-0.707059</td>\n",
              "      <td>2.278079</td>\n",
              "      <td>-0.436459</td>\n",
              "      <td>-1.45248</td>\n",
              "    </tr>\n",
              "    <tr>\n",
              "      <th>1</th>\n",
              "      <td>-0.047711</td>\n",
              "      <td>1.421578</td>\n",
              "      <td>0.120746</td>\n",
              "      <td>-1.029424</td>\n",
              "      <td>-0.942576</td>\n",
              "      <td>-1.008308</td>\n",
              "      <td>2.815636</td>\n",
              "      <td>-0.333893</td>\n",
              "      <td>-0.447189</td>\n",
              "      <td>-0.447189</td>\n",
              "      <td>-0.447189</td>\n",
              "      <td>-0.447336</td>\n",
              "      <td>1.414310</td>\n",
              "      <td>2.278079</td>\n",
              "      <td>-0.436459</td>\n",
              "      <td>-1.45248</td>\n",
              "    </tr>\n",
              "    <tr>\n",
              "      <th>2</th>\n",
              "      <td>-1.799887</td>\n",
              "      <td>-0.700755</td>\n",
              "      <td>-0.565881</td>\n",
              "      <td>0.283954</td>\n",
              "      <td>-0.942576</td>\n",
              "      <td>-1.008308</td>\n",
              "      <td>2.136824</td>\n",
              "      <td>-0.159002</td>\n",
              "      <td>2.236190</td>\n",
              "      <td>-0.447189</td>\n",
              "      <td>-0.447189</td>\n",
              "      <td>-0.447336</td>\n",
              "      <td>-0.707059</td>\n",
              "      <td>2.278079</td>\n",
              "      <td>-0.436459</td>\n",
              "      <td>-1.45248</td>\n",
              "    </tr>\n",
              "    <tr>\n",
              "      <th>3</th>\n",
              "      <td>-0.923799</td>\n",
              "      <td>0.006689</td>\n",
              "      <td>-0.711529</td>\n",
              "      <td>0.283954</td>\n",
              "      <td>0.616430</td>\n",
              "      <td>-1.008308</td>\n",
              "      <td>-0.208162</td>\n",
              "      <td>-1.502484</td>\n",
              "      <td>-0.447189</td>\n",
              "      <td>2.236190</td>\n",
              "      <td>-0.447189</td>\n",
              "      <td>-0.447336</td>\n",
              "      <td>-0.707059</td>\n",
              "      <td>2.278079</td>\n",
              "      <td>-0.436459</td>\n",
              "      <td>-1.45248</td>\n",
              "    </tr>\n",
              "    <tr>\n",
              "      <th>4</th>\n",
              "      <td>-1.799887</td>\n",
              "      <td>-0.700755</td>\n",
              "      <td>-0.545074</td>\n",
              "      <td>-0.372735</td>\n",
              "      <td>0.616430</td>\n",
              "      <td>0.991760</td>\n",
              "      <td>2.013404</td>\n",
              "      <td>-0.703244</td>\n",
              "      <td>-0.447189</td>\n",
              "      <td>-0.447189</td>\n",
              "      <td>2.236190</td>\n",
              "      <td>-0.447336</td>\n",
              "      <td>-0.707059</td>\n",
              "      <td>2.278079</td>\n",
              "      <td>-0.436459</td>\n",
              "      <td>-1.45248</td>\n",
              "    </tr>\n",
              "  </tbody>\n",
              "</table>\n",
              "</div>\n",
              "    <div class=\"colab-df-buttons\">\n",
              "\n",
              "  <div class=\"colab-df-container\">\n",
              "    <button class=\"colab-df-convert\" onclick=\"convertToInteractive('df-8404f7bc-4169-48ed-b99a-73ea679dcfc0')\"\n",
              "            title=\"Convert this dataframe to an interactive table.\"\n",
              "            style=\"display:none;\">\n",
              "\n",
              "  <svg xmlns=\"http://www.w3.org/2000/svg\" height=\"24px\" viewBox=\"0 -960 960 960\">\n",
              "    <path d=\"M120-120v-720h720v720H120Zm60-500h600v-160H180v160Zm220 220h160v-160H400v160Zm0 220h160v-160H400v160ZM180-400h160v-160H180v160Zm440 0h160v-160H620v160ZM180-180h160v-160H180v160Zm440 0h160v-160H620v160Z\"/>\n",
              "  </svg>\n",
              "    </button>\n",
              "\n",
              "  <style>\n",
              "    .colab-df-container {\n",
              "      display:flex;\n",
              "      gap: 12px;\n",
              "    }\n",
              "\n",
              "    .colab-df-convert {\n",
              "      background-color: #E8F0FE;\n",
              "      border: none;\n",
              "      border-radius: 50%;\n",
              "      cursor: pointer;\n",
              "      display: none;\n",
              "      fill: #1967D2;\n",
              "      height: 32px;\n",
              "      padding: 0 0 0 0;\n",
              "      width: 32px;\n",
              "    }\n",
              "\n",
              "    .colab-df-convert:hover {\n",
              "      background-color: #E2EBFA;\n",
              "      box-shadow: 0px 1px 2px rgba(60, 64, 67, 0.3), 0px 1px 3px 1px rgba(60, 64, 67, 0.15);\n",
              "      fill: #174EA6;\n",
              "    }\n",
              "\n",
              "    .colab-df-buttons div {\n",
              "      margin-bottom: 4px;\n",
              "    }\n",
              "\n",
              "    [theme=dark] .colab-df-convert {\n",
              "      background-color: #3B4455;\n",
              "      fill: #D2E3FC;\n",
              "    }\n",
              "\n",
              "    [theme=dark] .colab-df-convert:hover {\n",
              "      background-color: #434B5C;\n",
              "      box-shadow: 0px 1px 3px 1px rgba(0, 0, 0, 0.15);\n",
              "      filter: drop-shadow(0px 1px 2px rgba(0, 0, 0, 0.3));\n",
              "      fill: #FFFFFF;\n",
              "    }\n",
              "  </style>\n",
              "\n",
              "    <script>\n",
              "      const buttonEl =\n",
              "        document.querySelector('#df-8404f7bc-4169-48ed-b99a-73ea679dcfc0 button.colab-df-convert');\n",
              "      buttonEl.style.display =\n",
              "        google.colab.kernel.accessAllowed ? 'block' : 'none';\n",
              "\n",
              "      async function convertToInteractive(key) {\n",
              "        const element = document.querySelector('#df-8404f7bc-4169-48ed-b99a-73ea679dcfc0');\n",
              "        const dataTable =\n",
              "          await google.colab.kernel.invokeFunction('convertToInteractive',\n",
              "                                                    [key], {});\n",
              "        if (!dataTable) return;\n",
              "\n",
              "        const docLinkHtml = 'Like what you see? Visit the ' +\n",
              "          '<a target=\"_blank\" href=https://colab.research.google.com/notebooks/data_table.ipynb>data table notebook</a>'\n",
              "          + ' to learn more about interactive tables.';\n",
              "        element.innerHTML = '';\n",
              "        dataTable['output_type'] = 'display_data';\n",
              "        await google.colab.output.renderOutput(dataTable, element);\n",
              "        const docLink = document.createElement('div');\n",
              "        docLink.innerHTML = docLinkHtml;\n",
              "        element.appendChild(docLink);\n",
              "      }\n",
              "    </script>\n",
              "  </div>\n",
              "\n",
              "\n",
              "<div id=\"df-f85c759d-806d-4a12-b7e0-78cd56a2000d\">\n",
              "  <button class=\"colab-df-quickchart\" onclick=\"quickchart('df-f85c759d-806d-4a12-b7e0-78cd56a2000d')\"\n",
              "            title=\"Suggest charts\"\n",
              "            style=\"display:none;\">\n",
              "\n",
              "<svg xmlns=\"http://www.w3.org/2000/svg\" height=\"24px\"viewBox=\"0 0 24 24\"\n",
              "     width=\"24px\">\n",
              "    <g>\n",
              "        <path d=\"M19 3H5c-1.1 0-2 .9-2 2v14c0 1.1.9 2 2 2h14c1.1 0 2-.9 2-2V5c0-1.1-.9-2-2-2zM9 17H7v-7h2v7zm4 0h-2V7h2v10zm4 0h-2v-4h2v4z\"/>\n",
              "    </g>\n",
              "</svg>\n",
              "  </button>\n",
              "\n",
              "<style>\n",
              "  .colab-df-quickchart {\n",
              "      --bg-color: #E8F0FE;\n",
              "      --fill-color: #1967D2;\n",
              "      --hover-bg-color: #E2EBFA;\n",
              "      --hover-fill-color: #174EA6;\n",
              "      --disabled-fill-color: #AAA;\n",
              "      --disabled-bg-color: #DDD;\n",
              "  }\n",
              "\n",
              "  [theme=dark] .colab-df-quickchart {\n",
              "      --bg-color: #3B4455;\n",
              "      --fill-color: #D2E3FC;\n",
              "      --hover-bg-color: #434B5C;\n",
              "      --hover-fill-color: #FFFFFF;\n",
              "      --disabled-bg-color: #3B4455;\n",
              "      --disabled-fill-color: #666;\n",
              "  }\n",
              "\n",
              "  .colab-df-quickchart {\n",
              "    background-color: var(--bg-color);\n",
              "    border: none;\n",
              "    border-radius: 50%;\n",
              "    cursor: pointer;\n",
              "    display: none;\n",
              "    fill: var(--fill-color);\n",
              "    height: 32px;\n",
              "    padding: 0;\n",
              "    width: 32px;\n",
              "  }\n",
              "\n",
              "  .colab-df-quickchart:hover {\n",
              "    background-color: var(--hover-bg-color);\n",
              "    box-shadow: 0 1px 2px rgba(60, 64, 67, 0.3), 0 1px 3px 1px rgba(60, 64, 67, 0.15);\n",
              "    fill: var(--button-hover-fill-color);\n",
              "  }\n",
              "\n",
              "  .colab-df-quickchart-complete:disabled,\n",
              "  .colab-df-quickchart-complete:disabled:hover {\n",
              "    background-color: var(--disabled-bg-color);\n",
              "    fill: var(--disabled-fill-color);\n",
              "    box-shadow: none;\n",
              "  }\n",
              "\n",
              "  .colab-df-spinner {\n",
              "    border: 2px solid var(--fill-color);\n",
              "    border-color: transparent;\n",
              "    border-bottom-color: var(--fill-color);\n",
              "    animation:\n",
              "      spin 1s steps(1) infinite;\n",
              "  }\n",
              "\n",
              "  @keyframes spin {\n",
              "    0% {\n",
              "      border-color: transparent;\n",
              "      border-bottom-color: var(--fill-color);\n",
              "      border-left-color: var(--fill-color);\n",
              "    }\n",
              "    20% {\n",
              "      border-color: transparent;\n",
              "      border-left-color: var(--fill-color);\n",
              "      border-top-color: var(--fill-color);\n",
              "    }\n",
              "    30% {\n",
              "      border-color: transparent;\n",
              "      border-left-color: var(--fill-color);\n",
              "      border-top-color: var(--fill-color);\n",
              "      border-right-color: var(--fill-color);\n",
              "    }\n",
              "    40% {\n",
              "      border-color: transparent;\n",
              "      border-right-color: var(--fill-color);\n",
              "      border-top-color: var(--fill-color);\n",
              "    }\n",
              "    60% {\n",
              "      border-color: transparent;\n",
              "      border-right-color: var(--fill-color);\n",
              "    }\n",
              "    80% {\n",
              "      border-color: transparent;\n",
              "      border-right-color: var(--fill-color);\n",
              "      border-bottom-color: var(--fill-color);\n",
              "    }\n",
              "    90% {\n",
              "      border-color: transparent;\n",
              "      border-bottom-color: var(--fill-color);\n",
              "    }\n",
              "  }\n",
              "</style>\n",
              "\n",
              "  <script>\n",
              "    async function quickchart(key) {\n",
              "      const quickchartButtonEl =\n",
              "        document.querySelector('#' + key + ' button');\n",
              "      quickchartButtonEl.disabled = true;  // To prevent multiple clicks.\n",
              "      quickchartButtonEl.classList.add('colab-df-spinner');\n",
              "      try {\n",
              "        const charts = await google.colab.kernel.invokeFunction(\n",
              "            'suggestCharts', [key], {});\n",
              "      } catch (error) {\n",
              "        console.error('Error during call to suggestCharts:', error);\n",
              "      }\n",
              "      quickchartButtonEl.classList.remove('colab-df-spinner');\n",
              "      quickchartButtonEl.classList.add('colab-df-quickchart-complete');\n",
              "    }\n",
              "    (() => {\n",
              "      let quickchartButtonEl =\n",
              "        document.querySelector('#df-f85c759d-806d-4a12-b7e0-78cd56a2000d button');\n",
              "      quickchartButtonEl.style.display =\n",
              "        google.colab.kernel.accessAllowed ? 'block' : 'none';\n",
              "    })();\n",
              "  </script>\n",
              "</div>\n",
              "    </div>\n",
              "  </div>\n"
            ],
            "application/vnd.google.colaboratory.intrinsic+json": {
              "type": "dataframe",
              "variable_name": "X",
              "summary": "{\n  \"name\": \"X\",\n  \"rows\": 10999,\n  \"fields\": [\n    {\n      \"column\": \"Customer_care_calls\",\n      \"properties\": {\n        \"dtype\": \"number\",\n        \"std\": 1.0000454617780337,\n        \"min\": -1.7998874548793105,\n        \"max\": 2.5805528947727536,\n        \"num_unique_values\": 6,\n        \"samples\": [\n          -0.04771131501848488,\n          -1.7998874548793105,\n          2.5805528947727536\n        ],\n        \"semantic_type\": \"\",\n        \"description\": \"\"\n      }\n    },\n    {\n      \"column\": \"Customer_rating\",\n      \"properties\": {\n        \"dtype\": \"number\",\n        \"std\": 1.0000454617780337,\n        \"min\": -1.4081993653114504,\n        \"max\": 1.4215777095146467,\n        \"num_unique_values\": 5,\n        \"samples\": [\n          1.4215777095146467,\n          0.7141334408081224,\n          0.006689172101598107\n        ],\n        \"semantic_type\": \"\",\n        \"description\": \"\"\n      }\n    },\n    {\n      \"column\": \"Cost_of_the_Product\",\n      \"properties\": {\n        \"dtype\": \"number\",\n        \"std\": 1.0000454617780337,\n        \"min\": -2.37607685672333,\n        \"max\": 2.076589826619448,\n        \"num_unique_values\": 215,\n        \"samples\": [\n          1.9933624119775268,\n          1.8061007290332045,\n          1.077860850916395\n        ],\n        \"semantic_type\": \"\",\n        \"description\": \"\"\n      }\n    },\n    {\n      \"column\": \"Prior_purchases\",\n      \"properties\": {\n        \"dtype\": \"number\",\n        \"std\": 1.0000454617780334,\n        \"min\": -1.0294237660695575,\n        \"max\": 4.224088356885582,\n        \"num_unique_values\": 8,\n        \"samples\": [\n          -1.0294237660695575,\n          2.254021310777404,\n          -0.37273475070016515\n        ],\n        \"semantic_type\": \"\",\n        \"description\": \"\"\n      }\n    },\n    {\n      \"column\": \"Product_importance\",\n      \"properties\": {\n        \"dtype\": \"number\",\n        \"std\": 1.0000454617780337,\n        \"min\": -0.9425756400098936,\n        \"max\": 2.1754362290032856,\n        \"num_unique_values\": 3,\n        \"samples\": [\n          -0.9425756400098936,\n          0.616430294496696,\n          2.1754362290032856\n        ],\n        \"semantic_type\": \"\",\n        \"description\": \"\"\n      }\n    },\n    {\n      \"column\": \"Gender\",\n      \"properties\": {\n        \"dtype\": \"number\",\n        \"std\": 1.0000454617780337,\n        \"min\": -1.008307989571399,\n        \"max\": 0.9917604644044024,\n        \"num_unique_values\": 2,\n        \"samples\": [\n          -1.008307989571399,\n          0.9917604644044024\n        ],\n        \"semantic_type\": \"\",\n        \"description\": \"\"\n      }\n    },\n    {\n      \"column\": \"Discount_offered\",\n      \"properties\": {\n        \"dtype\": \"number\",\n        \"std\": 1.0000454617780337,\n        \"min\": -0.7635529652137165,\n        \"max\": 3.1858964562898344,\n        \"num_unique_values\": 65,\n        \"samples\": [\n          0.7174905678501151,\n          1.272881892749052\n        ],\n        \"semantic_type\": \"\",\n        \"description\": \"\"\n      }\n    },\n    {\n      \"column\": \"Weight_in_gms\",\n      \"properties\": {\n        \"dtype\": \"number\",\n        \"std\": 1.0000454617780337,\n        \"min\": -1.6101094889013639,\n        \"max\": 2.57565937880342,\n        \"num_unique_values\": 4034,\n        \"samples\": [\n          1.130667145876261,\n          -1.4651822103555592\n        ],\n        \"semantic_type\": \"\",\n        \"description\": \"\"\n      }\n    },\n    {\n      \"column\": \"Warehouse_block_0\",\n      \"properties\": {\n        \"dtype\": \"number\",\n        \"std\": 1.0000454617780337,\n        \"min\": -0.4471891995915035,\n        \"max\": 2.23618996369652,\n        \"num_unique_values\": 2,\n        \"samples\": [\n          2.23618996369652,\n          -0.4471891995915035\n        ],\n        \"semantic_type\": \"\",\n        \"description\": \"\"\n      }\n    },\n    {\n      \"column\": \"Warehouse_block_1\",\n      \"properties\": {\n        \"dtype\": \"number\",\n        \"std\": 1.0000454617780337,\n        \"min\": -0.4471891995915035,\n        \"max\": 2.23618996369652,\n        \"num_unique_values\": 2,\n        \"samples\": [\n          2.23618996369652,\n          -0.4471891995915035\n        ],\n        \"semantic_type\": \"\",\n        \"description\": \"\"\n      }\n    },\n    {\n      \"column\": \"Warehouse_block_2\",\n      \"properties\": {\n        \"dtype\": \"number\",\n        \"std\": 1.0000454617780337,\n        \"min\": -0.4471891995915035,\n        \"max\": 2.23618996369652,\n        \"num_unique_values\": 2,\n        \"samples\": [\n          2.23618996369652,\n          -0.4471891995915035\n        ],\n        \"semantic_type\": \"\",\n        \"description\": \"\"\n      }\n    },\n    {\n      \"column\": \"Warehouse_block_3\",\n      \"properties\": {\n        \"dtype\": \"number\",\n        \"std\": 1.0000454617780337,\n        \"min\": -0.4473355683906753,\n        \"max\": 2.2354582793350817,\n        \"num_unique_values\": 2,\n        \"samples\": [\n          -0.4473355683906753,\n          2.2354582793350817\n        ],\n        \"semantic_type\": \"\",\n        \"description\": \"\"\n      }\n    },\n    {\n      \"column\": \"Warehouse_block_4\",\n      \"properties\": {\n        \"dtype\": \"number\",\n        \"std\": 1.0000454617780334,\n        \"min\": -0.7070585655251649,\n        \"max\": 1.4143100002716948,\n        \"num_unique_values\": 2,\n        \"samples\": [\n          1.4143100002716948,\n          -0.7070585655251649\n        ],\n        \"semantic_type\": \"\",\n        \"description\": \"\"\n      }\n    },\n    {\n      \"column\": \"Mode_of_Shipment_0\",\n      \"properties\": {\n        \"dtype\": \"number\",\n        \"std\": 1.0000454617780337,\n        \"min\": -0.43896627450634484,\n        \"max\": 2.278079337927694,\n        \"num_unique_values\": 2,\n        \"samples\": [\n          -0.43896627450634484,\n          2.278079337927694\n        ],\n        \"semantic_type\": \"\",\n        \"description\": \"\"\n      }\n    },\n    {\n      \"column\": \"Mode_of_Shipment_1\",\n      \"properties\": {\n        \"dtype\": \"number\",\n        \"std\": 1.0000454617780339,\n        \"min\": -0.4364593990438815,\n        \"max\": 2.291163856685466,\n        \"num_unique_values\": 2,\n        \"samples\": [\n          2.291163856685466,\n          -0.4364593990438815\n        ],\n        \"semantic_type\": \"\",\n        \"description\": \"\"\n      }\n    },\n    {\n      \"column\": \"Mode_of_Shipment_2\",\n      \"properties\": {\n        \"dtype\": \"number\",\n        \"std\": 1.0000454617780334,\n        \"min\": -1.4524797705108616,\n        \"max\": 0.6884777470245131,\n        \"num_unique_values\": 2,\n        \"samples\": [\n          0.6884777470245131,\n          -1.4524797705108616\n        ],\n        \"semantic_type\": \"\",\n        \"description\": \"\"\n      }\n    }\n  ]\n}"
            }
          },
          "metadata": {},
          "execution_count": 47
        }
      ],
      "source": [
        "X = X_scaled\n",
        "X.head()"
      ]
    },
    {
      "cell_type": "markdown",
      "id": "t0X0icxDN5H3",
      "metadata": {
        "id": "t0X0icxDN5H3"
      },
      "source": [
        "Balancing target variable using class weights:"
      ]
    },
    {
      "cell_type": "code",
      "execution_count": 48,
      "id": "ykcGFMUjN6hn",
      "metadata": {
        "id": "ykcGFMUjN6hn"
      },
      "outputs": [],
      "source": [
        "from sklearn.model_selection import train_test_split\n",
        "from sklearn.ensemble import GradientBoostingClassifier\n",
        "from sklearn.metrics import accuracy_score\n",
        "from sklearn.utils import class_weight\n",
        "\n",
        "\n",
        "X_train, X_test, y_train, y_test = train_test_split(X, y, test_size=0.2, random_state=42)\n",
        "\n",
        "class_weights = class_weight.compute_class_weight('balanced',\n",
        "                                                  classes=np.unique(y_train),\n",
        "                                                  y=y_train)\n",
        "\n",
        "class_weights_dict = dict(enumerate(class_weights))"
      ]
    },
    {
      "cell_type": "code",
      "execution_count": 49,
      "id": "eBHmqjxrOBoL",
      "metadata": {
        "colab": {
          "base_uri": "https://localhost:8080/"
        },
        "id": "eBHmqjxrOBoL",
        "outputId": "c94bc924-035a-418b-8b1d-26b695a5f78b"
      },
      "outputs": [
        {
          "output_type": "stream",
          "name": "stdout",
          "text": [
            "{0: 1.2424456368257555, 1: 0.8367249904906808}\n"
          ]
        }
      ],
      "source": [
        "print(class_weights_dict)"
      ]
    },
    {
      "cell_type": "markdown",
      "id": "WTvOVW6JOH0z",
      "metadata": {
        "id": "WTvOVW6JOH0z"
      },
      "source": [
        "\n",
        "Predictions using Boosting algorithms:"
      ]
    },
    {
      "cell_type": "markdown",
      "id": "ovKZyKUYOr8K",
      "metadata": {
        "id": "ovKZyKUYOr8K"
      },
      "source": [
        "Gradient Boosting (69.2% accuracy):"
      ]
    },
    {
      "cell_type": "code",
      "execution_count": 50,
      "id": "1ynFILJFOJye",
      "metadata": {
        "colab": {
          "base_uri": "https://localhost:8080/"
        },
        "id": "1ynFILJFOJye",
        "outputId": "06ec01ec-1c03-4f1c-90f8-308a6cf3c320"
      },
      "outputs": [
        {
          "output_type": "stream",
          "name": "stdout",
          "text": [
            "Train accuracy:  0.6876917831571769\n",
            "Test accuracy:  0.6918181818181818\n"
          ]
        }
      ],
      "source": [
        "from sklearn.model_selection import train_test_split\n",
        "from sklearn.ensemble import GradientBoostingClassifier\n",
        "from sklearn.metrics import accuracy_score\n",
        "from sklearn.utils import class_weight\n",
        "\n",
        "\n",
        "X_train, X_test, y_train, y_test = train_test_split(X, y, test_size=0.2, random_state=42)\n",
        "\n",
        "\n",
        "class_weights = class_weight.compute_sample_weight('balanced', y_train)\n",
        "\n",
        "gbc_model = GradientBoostingClassifier(\n",
        "    n_estimators=500,\n",
        "    learning_rate=0.01,\n",
        "    max_depth=3,\n",
        "    min_samples_split=2,\n",
        "    min_samples_leaf=1,\n",
        "    max_features=None,\n",
        "    subsample=1.0,\n",
        "    random_state=42\n",
        ")\n",
        "\n",
        "\n",
        "gbc_model.fit(X_train, y_train, sample_weight=class_weights)\n",
        "\n",
        "\n",
        "y_train_pred_gbc = gbc_model.predict(X_train)\n",
        "y_test_pred_gbc = gbc_model.predict(X_test)\n",
        "\n",
        "# Calculate the accuracy of the model on the training and testing sets\n",
        "train_acc = accuracy_score(y_train, y_train_pred_gbc)\n",
        "test_acc = accuracy_score(y_test, y_test_pred_gbc)\n",
        "\n",
        "# Print the accuracy scores\n",
        "print('Train accuracy: ', train_acc)\n",
        "print('Test accuracy: ', test_acc)"
      ]
    },
    {
      "cell_type": "code",
      "execution_count": 51,
      "id": "H7tKCBJzOX-5",
      "metadata": {
        "colab": {
          "base_uri": "https://localhost:8080/"
        },
        "id": "H7tKCBJzOX-5",
        "outputId": "4ceef233-b67d-467d-eaac-b6be720fd37a"
      },
      "outputs": [
        {
          "output_type": "stream",
          "name": "stdout",
          "text": [
            "              precision    recall  f1-score   support\n",
            "\n",
            "           0       0.57      0.97      0.72       895\n",
            "           1       0.96      0.50      0.66      1305\n",
            "\n",
            "    accuracy                           0.69      2200\n",
            "   macro avg       0.77      0.74      0.69      2200\n",
            "weighted avg       0.80      0.69      0.68      2200\n",
            "\n"
          ]
        }
      ],
      "source": [
        "from sklearn.metrics import classification_report\n",
        "\n",
        "print(classification_report(y_test,y_test_pred_gbc))"
      ]
    },
    {
      "cell_type": "markdown",
      "id": "KQpXWf_7Og-M",
      "metadata": {
        "id": "KQpXWf_7Og-M"
      },
      "source": [
        "Adaptive Boosting (64.7% accuracy)\n"
      ]
    },
    {
      "cell_type": "code",
      "execution_count": 52,
      "id": "JcbUxhwuO1m2",
      "metadata": {
        "colab": {
          "base_uri": "https://localhost:8080/"
        },
        "id": "JcbUxhwuO1m2",
        "outputId": "00c9c659-fb7f-4b6d-c416-c005545cb925"
      },
      "outputs": [
        {
          "output_type": "stream",
          "name": "stdout",
          "text": [
            "Train accuracy:  0.6431412660529605\n",
            "Test accuracy:  0.6472727272727272\n"
          ]
        }
      ],
      "source": [
        "from sklearn.ensemble import AdaBoostClassifier\n",
        "\n",
        "abc = AdaBoostClassifier(\n",
        "    n_estimators=100,\n",
        "    learning_rate=0.01,\n",
        "    algorithm='SAMME.R',\n",
        "    random_state=42\n",
        ")\n",
        "\n",
        "abc.fit(X_train, y_train, sample_weight=class_weights)\n",
        "\n",
        "y_train_pred = abc.predict(X_train)\n",
        "y_test_pred = abc.predict(X_test)\n",
        "\n",
        "# Calculate the accuracy of the model on the training and testing sets\n",
        "train_acc = accuracy_score(y_train, y_train_pred)\n",
        "test_acc = accuracy_score(y_test, y_test_pred)\n",
        "\n",
        "# Print the accuracy scores\n",
        "print('Train accuracy: ', train_acc)\n",
        "print('Test accuracy: ', test_acc)"
      ]
    },
    {
      "cell_type": "code",
      "execution_count": 53,
      "id": "ssdIViH7O8e7",
      "metadata": {
        "colab": {
          "base_uri": "https://localhost:8080/"
        },
        "id": "ssdIViH7O8e7",
        "outputId": "a74a7781-1700-4551-add0-a8c0d2a25f32"
      },
      "outputs": [
        {
          "output_type": "stream",
          "name": "stdout",
          "text": [
            "              precision    recall  f1-score   support\n",
            "\n",
            "           0       0.54      1.00      0.70       895\n",
            "           1       1.00      0.41      0.58      1305\n",
            "\n",
            "    accuracy                           0.65      2200\n",
            "   macro avg       0.77      0.70      0.64      2200\n",
            "weighted avg       0.81      0.65      0.63      2200\n",
            "\n"
          ]
        }
      ],
      "source": [
        "print(classification_report(y_test,y_test_pred))"
      ]
    },
    {
      "cell_type": "markdown",
      "id": "rjPv6Q1DPFDJ",
      "metadata": {
        "id": "rjPv6Q1DPFDJ"
      },
      "source": [
        "Extreme Gradient Boosting (69.1% accuracy):"
      ]
    },
    {
      "cell_type": "code",
      "execution_count": 54,
      "id": "v8-DwDYDPL1R",
      "metadata": {
        "colab": {
          "base_uri": "https://localhost:8080/"
        },
        "id": "v8-DwDYDPL1R",
        "outputId": "60587230-3c42-4c24-8dd8-cf01a9bbc3eb"
      },
      "outputs": [
        {
          "output_type": "stream",
          "name": "stdout",
          "text": [
            "Train accuracy:  0.7022388907830436\n",
            "Test accuracy:  0.6904545454545454\n"
          ]
        }
      ],
      "source": [
        "import xgboost as xgb\n",
        "\n",
        "dtrain = xgb.DMatrix(X_train, label=y_train)\n",
        "dtest = xgb.DMatrix(X_test)\n",
        "\n",
        "\n",
        "params = {\n",
        "    'objective': 'binary:logistic',\n",
        "    #'eval_metric': 'logloss',\n",
        "    'eta': 0.01,\n",
        "    'max_depth': 3,\n",
        "    'subsample': 1.0,\n",
        "    'colsample_bytree': 0.8,\n",
        "    'seed': 42\n",
        "}\n",
        "\n",
        "\n",
        "num_rounds = 1000\n",
        "xgb_model = xgb.train(params, dtrain, num_rounds)\n",
        "\n",
        "y_train_pred_xgb = xgb_model.predict(dtrain)\n",
        "y_test_pred_xgb = xgb_model.predict(dtest)\n",
        "\n",
        "y_train_pred_xgb[y_train_pred_xgb >= 0.5] = 1\n",
        "y_train_pred_xgb[y_train_pred_xgb < 0.5] = 0\n",
        "\n",
        "y_test_pred_xgb[y_test_pred_xgb >= 0.5] = 1\n",
        "y_test_pred_xgb[y_test_pred_xgb < 0.5] = 0\n",
        "\n",
        "# Calculate the accuracy of the model on the training and testing sets\n",
        "train_acc = accuracy_score(y_train, y_train_pred_xgb)\n",
        "test_acc = accuracy_score(y_test, y_test_pred_xgb)\n",
        "\n",
        "# Print the accuracy scores\n",
        "print('Train accuracy: ', train_acc)\n",
        "print('Test accuracy: ', test_acc)"
      ]
    },
    {
      "cell_type": "code",
      "execution_count": 55,
      "id": "vXmmXHI5PRAG",
      "metadata": {
        "colab": {
          "base_uri": "https://localhost:8080/"
        },
        "id": "vXmmXHI5PRAG",
        "outputId": "638bd516-d6c6-465b-a856-739a786780ce"
      },
      "outputs": [
        {
          "output_type": "stream",
          "name": "stdout",
          "text": [
            "              precision    recall  f1-score   support\n",
            "\n",
            "           0       0.58      0.90      0.70       895\n",
            "           1       0.89      0.54      0.68      1305\n",
            "\n",
            "    accuracy                           0.69      2200\n",
            "   macro avg       0.73      0.72      0.69      2200\n",
            "weighted avg       0.76      0.69      0.69      2200\n",
            "\n"
          ]
        }
      ],
      "source": [
        "print(classification_report(y_test,y_test_pred_xgb))"
      ]
    },
    {
      "cell_type": "markdown",
      "source": [
        "Saving trained model"
      ],
      "metadata": {
        "id": "puqFPOXZeyVY"
      },
      "id": "puqFPOXZeyVY"
    },
    {
      "cell_type": "code",
      "execution_count": 56,
      "id": "9G3XLoe9xgUV",
      "metadata": {
        "id": "9G3XLoe9xgUV"
      },
      "outputs": [],
      "source": [
        "import pickle"
      ]
    },
    {
      "cell_type": "code",
      "source": [
        "filename = 'e-com.sav'\n",
        "pickle.dump(rf, open(filename, 'wb'))"
      ],
      "metadata": {
        "id": "H7g4aKstfD3S"
      },
      "id": "H7g4aKstfD3S",
      "execution_count": 57,
      "outputs": []
    },
    {
      "cell_type": "code",
      "source": [
        "loaded_model = pickle.load(open('e-com.sav', 'rb'))\n"
      ],
      "metadata": {
        "id": "0VfY8NdcgEPJ"
      },
      "id": "0VfY8NdcgEPJ",
      "execution_count": 58,
      "outputs": []
    },
    {
      "cell_type": "code",
      "source": [
        "for column in X.columns:\n",
        "  print(column)"
      ],
      "metadata": {
        "colab": {
          "base_uri": "https://localhost:8080/"
        },
        "id": "YvtvDDlAgSdw",
        "outputId": "0e8b8bd9-85ba-4fbd-f46e-9a234e595b2b"
      },
      "id": "YvtvDDlAgSdw",
      "execution_count": 59,
      "outputs": [
        {
          "output_type": "stream",
          "name": "stdout",
          "text": [
            "Customer_care_calls\n",
            "Customer_rating\n",
            "Cost_of_the_Product\n",
            "Prior_purchases\n",
            "Product_importance\n",
            "Gender\n",
            "Discount_offered\n",
            "Weight_in_gms\n",
            "Warehouse_block_0\n",
            "Warehouse_block_1\n",
            "Warehouse_block_2\n",
            "Warehouse_block_3\n",
            "Warehouse_block_4\n",
            "Mode_of_Shipment_0\n",
            "Mode_of_Shipment_1\n",
            "Mode_of_Shipment_2\n"
          ]
        }
      ]
    }
  ],
  "metadata": {
    "colab": {
      "provenance": []
    },
    "kaggle": {
      "accelerator": "none",
      "dataSources": [
        {
          "datasetId": 1176727,
          "sourceId": 1970226,
          "sourceType": "datasetVersion"
        }
      ],
      "dockerImageVersionId": 30673,
      "isGpuEnabled": false,
      "isInternetEnabled": true,
      "language": "python",
      "sourceType": "notebook"
    },
    "kernelspec": {
      "display_name": "Python 3",
      "language": "python",
      "name": "python3"
    },
    "language_info": {
      "codemirror_mode": {
        "name": "ipython",
        "version": 3
      },
      "file_extension": ".py",
      "mimetype": "text/x-python",
      "name": "python",
      "nbconvert_exporter": "python",
      "pygments_lexer": "ipython3",
      "version": "3.10.13"
    },
    "papermill": {
      "default_parameters": {},
      "duration": 282.826289,
      "end_time": "2024-04-01T14:38:49.872911",
      "environment_variables": {},
      "exception": null,
      "input_path": "__notebook__.ipynb",
      "output_path": "__notebook__.ipynb",
      "parameters": {},
      "start_time": "2024-04-01T14:34:07.046622",
      "version": "2.5.0"
    }
  },
  "nbformat": 4,
  "nbformat_minor": 5
}